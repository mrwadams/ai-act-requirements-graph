{
  "cells": [
    {
      "cell_type": "markdown",
      "id": "899447e4-f4dc-4491-be22-46ed1591fc71",
      "metadata": {
        "id": "899447e4-f4dc-4491-be22-46ed1591fc71"
      },
      "source": [
        "# EU AI Act Requirements for Providers of High Risk AI Systems\n",
        "<a target=\"_blank\" href=\"https://colab.research.google.com/github/mrwadams/ai-act-requirements-graph/blob/main/AI_Act_Requirements_Graph.ipynb\"><img src=\"https://colab.research.google.com/assets/colab-badge.svg\" alt=\"Open In Colab\"/></a>\n",
        "\n",
        "This notebook allows you to navigate the [EU AI Act](https://artificialintelligenceact.com/)'s requirements for Providers of High Risk AI Systems as a graph database. The graph visualisation makes it easier to see the relationships between different requirements, their parent articles, and more.\n",
        "\n",
        "## Instructions\n",
        "\n",
        "1. Click the ▶ symbol in the code cell below to run the cell and display the graph.\n",
        "\n",
        "2. Once the graph is displayed, you can interact with it:\n",
        "   - Zoom in and out using the mouse wheel or trackpad\n",
        "   - Pan the graph by clicking and dragging\n",
        "   - Click on a node to view its details in the sidebar\n",
        "   - Use the search bar to find specific nodes\n",
        "\n",
        "3. Explore the relationships between different articles and requirements to gain insights into the EU AI Act's regulation of High Risk AI Systems.\n",
        "\n",
        "Enjoy navigating the graph and discovering the connections within the AI regulatory landscape!"
      ]
    },
    {
      "cell_type": "markdown",
      "id": "dvU2GwDG36ar",
      "metadata": {
        "id": "dvU2GwDG36ar"
      },
      "source": [
        "## Generate Full Graph"
      ]
    },
    {
      "cell_type": "code",
      "execution_count": null,
      "id": "40c51747-64bc-49f2-90c0-c0ff79d24048",
      "metadata": {
        "colab": {
          "base_uri": "https://localhost:8080/",
          "height": 817,
          "referenced_widgets": [
            "e251a286658346a18d436536c09bd67c",
            "dd2ab1386eb94f48a0523d5fde4678ec"
          ]
        },
        "id": "40c51747-64bc-49f2-90c0-c0ff79d24048",
        "outputId": "ae31c384-06cd-4aeb-9bea-c6a88859a8af"
      },
      "outputs": [],
      "source": [
        "# @title\n",
        "# Install yfiles package and complete imports\n",
        "%pip install yfiles_jupyter_graphs --quiet\n",
        "from yfiles_jupyter_graphs import GraphWidget\n",
        "from typing import Dict\n",
        "\n",
        "# Import and enable Google Colab custom widget manager (required for running in Colab)\n",
        "try:\n",
        "  import google.colab\n",
        "  from google.colab import output\n",
        "  output.enable_custom_widget_manager()\n",
        "except:\n",
        "  pass\n",
        "\n",
        "# Define graph\n",
        "w = GraphWidget()\n",
        "w.nodes = [\n",
        "    {\"id\": \"ART13-1\", \"properties\": {\"label\": \"Identity/Contact Details for Provider\", \"Article\": 13, \"URL\": \"https://artificialintelligenceact.com/title-iii/chapter-2/article-13/\", \"CRE\": \"820-877\"}},\n",
        "    {\"id\": \"ART13-2\", \"properties\": {\"label\": \"Intended Purpose\", \"Article\": 13, \"URL\": \"https://artificialintelligenceact.com/title-iii/chapter-2/article-13/\", \"CRE\": \"820-877\"}},\n",
        "    {\"id\": \"ART13-3\", \"properties\": {\"label\": \"Accuracy, including Metrics, Robustness & Cybersecurity\", \"Article\": 13, \"URL\": \"https://artificialintelligenceact.com/title-iii/chapter-2/article-13/\", \"CRE\": \"820-877\"}},\n",
        "    {\"id\": \"ART13-4\", \"properties\": {\"label\": \"Risks of Foreseeable Misuse of High Risk AI System\", \"Article\": 13, \"URL\": \"https://artificialintelligenceact.com/title-iii/chapter-2/article-13/\", \"CRE\": \"162-655\"}},\n",
        "    {\"id\": \"ART13-5\", \"properties\": {\"label\": \"Ability to Provide Information Explaining AI System Output\", \"Article\": 13, \"URL\": \"https://artificialintelligenceact.com/title-iii/chapter-2/article-13/\", \"CRE\": \"162-655\"}},\n",
        "    {\"id\": \"ART13-6\", \"properties\": {\"label\": \"Performance regarding Persons on which System is to be used\", \"Article\": 13, \"URL\": \"https://artificialintelligenceact.com/title-iii/chapter-2/article-13/\", \"CRE\": \"820-877\"}},\n",
        "    {\"id\": \"ART13-7\", \"properties\": {\"label\": \"Input Data Specifications / Other Info Relevant to Purpose\", \"Article\": 13, \"URL\": \"https://artificialintelligenceact.com/title-iii/chapter-2/article-13/\", \"CRE\": \"820-877\"}},\n",
        "    {\"id\": \"ART13-8\", \"properties\": {\"label\": \"Info Necessary for Deployers to Interpret/Use Output\", \"Article\": 13, \"URL\": \"https://artificialintelligenceact.com/title-iii/chapter-2/article-13/\", \"CRE\": \"820-877\"}},\n",
        "    {\"id\": \"ART13-9\", \"properties\": {\"label\": \"Pre-determined Confirmity Changes to System / Performance\", \"Article\": 13, \"URL\": \"https://artificialintelligenceact.com/title-iii/chapter-2/article-13/\", \"CRE\": \"820-877\"}},\n",
        "    {\"id\": \"ART13-10\", \"properties\": {\"label\": \"Human Oversight Measures\", \"Article\": 13, \"URL\": \"https://artificialintelligenceact.com/title-iii/chapter-2/article-13/\", \"CRE\": \"820-877\"}},\n",
        "    {\"id\": \"ART13-11\", \"properties\": {\"label\": \"Computer Resources Needed and Maintenance Measures\", \"Article\": 13, \"URL\": \"https://artificialintelligenceact.com/title-iii/chapter-2/article-13/\", \"CRE\": \"820-877\"}},\n",
        "    {\"id\": \"ART13-12\", \"properties\": {\"label\": \"Mechanisms to Collect, Store and Interpret Logs\", \"Article\": 13, \"URL\": \"https://artificialintelligenceact.com/title-iii/chapter-2/article-13/\", \"CRE\": \"842-876\"}}\n",
        "\n",
        "    {\"id\": \"ART16-1\", \"properties\": {\"label\": \"Compliance with Ch2 (High Risk AI System Reqs)\", \"Article\": 16, \"URL\": \"https://artificialintelligenceact.com/title-iii/chapter-3/article-16/\", \"CRE\": \"464-513\"}},\n",
        "    {\"id\": \"ART16-2\", \"properties\": {\"label\": \"Indicate Name, TM, Contact Address\", \"Article\": 16, \"URL\": \"https://artificialintelligenceact.com/title-iii/chapter-3/article-16/\", \"CRE\": \"820-877\"}},\n",
        "    {\"id\": \"ART16-3\", \"properties\": {\"label\": \"Quality Management System\", \"Article\": 16, \"URL\": \"https://artificialintelligenceact.com/title-iii/chapter-3/article-16/\", \"CRE\": \"464-513\"}},\n",
        "    {\"id\": \"ART16-4\", \"properties\": {\"label\": \"Documentation\", \"Article\": 16, \"URL\": \"https://artificialintelligenceact.com/title-iii/chapter-3/article-16/\", \"CRE\": \"820-877\"}},\n",
        "    {\"id\": \"ART16-5\", \"properties\": {\"label\": \"Logs\", \"Article\": 16, \"URL\": \"https://artificialintelligenceact.com/title-iii/chapter-3/article-16/\", \"CRE\": \"842-876\"}},\n",
        "    {\"id\": \"ART16-6\", \"properties\": {\"label\": \"Conformity Assessment\", \"Article\": 16, \"URL\": \"https://artificialintelligenceact.com/title-iii/chapter-3/article-16/\", \"CRE\": \"464-513\"}},\n",
        "    {\"id\": \"ART16-7\", \"properties\": {\"label\": \"Conformity Declaration\", \"Article\": 16, \"URL\": \"https://artificialintelligenceact.com/title-iii/chapter-3/article-16/\", \"CRE\": \"464-513\"}},\n",
        "    {\"id\": \"ART16-8\", \"properties\": {\"label\": \"Affix CE Marking\", \"Article\": 16, \"URL\": \"https://artificialintelligenceact.com/title-iii/chapter-3/article-16/\", \"CRE\": \"464-513\"}},\n",
        "    {\"id\": \"ART16-9\", \"properties\": {\"label\": \"Registration\", \"Article\": 16, \"URL\": \"https://artificialintelligenceact.com/title-iii/chapter-3/article-16/\", \"CRE\": \"510-324\"}},\n",
        "    {\"id\": \"ART16-10\", \"properties\": {\"label\": \"Corrective Action / Duty of Information\", \"Article\": 16, \"URL\": \"https://artificialintelligenceact.com/title-iii/chapter-3/article-16/\", \"CRE\": \"887-750\"}},\n",
        "    {\"id\": \"ART16-11\", \"properties\": {\"label\": \"Regulatory Cooperation (Demonstrate Conformity)\", \"Article\": 16, \"URL\": \"https://artificialintelligenceact.com/title-iii/chapter-3/article-16/\", \"CRE\": \"464-513\"}},\n",
        "    {\"id\": \"ART16-12\", \"properties\": {\"label\": \"Accessibility Requirements\", \"Article\": 16, \"URL\": \"https://artificialintelligenceact.com/title-iii/chapter-3/article-16/\", \"CRE\": \"510-324\"}}\n",
        "\n",
        "    {\"id\": \"ART17-1\", \"properties\": {\"label\": \"Strategy for Regulatory Compliance\", \"Article\": 17, \"URL\": \"https://artificialintelligenceact.com/title-iii/chapter-3/article-17/\", \"CRE\": \"510-324\"}},\n",
        "    {\"id\": \"ART17-2\", \"properties\": {\"label\": \"Design, Design Control and Design Verification Measures\", \"Article\": 17, \"URL\": \"https://artificialintelligenceact.com/title-iii/chapter-3/article-17/\", \"CRE\": \"326-704\"}},\n",
        "    {\"id\": \"ART17-3\", \"properties\": {\"label\": \"Development , Quality Control and QA Measures\", \"Article\": 17, \"URL\": \"https://artificialintelligenceact.com/title-iii/chapter-3/article-17/\", \"CRE\": \"433-442\"}},\n",
        "    {\"id\": \"ART17-4\", \"properties\": {\"label\": \"Examination, Test & Validation Measures and Frequency\", \"Article\": 17, \"URL\": \"https://artificialintelligenceact.com/title-iii/chapter-3/article-17/\", \"CRE\": \"433-442\"}},\n",
        "    {\"id\": \"ART17-5\", \"properties\": {\"label\": \"Technical Specifications to be Applied\", \"Article\": 17, \"URL\": \"https://artificialintelligenceact.com/title-iii/chapter-3/article-17/\", \"CRE\": \"787-638\"}},\n",
        "    {\"id\": \"ART17-6\", \"properties\": {\"label\": \"Data Management Systems and Procedures\", \"Article\": 17, \"URL\": \"https://artificialintelligenceact.com/title-iii/chapter-3/article-17/\", \"CRE\": \"126-668\"}},\n",
        "    {\"id\": \"ART17-7\", \"properties\": {\"label\": \"Risk Management System\", \"Article\": 17, \"URL\": \"https://artificialintelligenceact.com/title-iii/chapter-3/article-17/\", \"CRE\": \"307-242\"}},\n",
        "    {\"id\": \"ART17-8\", \"properties\": {\"label\": \"Implement Post-Market Monitoring System\", \"Article\": 17, \"URL\": \"https://artificialintelligenceact.com/title-iii/chapter-3/article-17/\", \"CRE\": \"887-750\"}},\n",
        "    {\"id\": \"ART17-9\", \"properties\": {\"label\": \"Serious Incident Reporting Procedures\", \"Article\": 17, \"URL\": \"https://artificialintelligenceact.com/title-iii/chapter-3/article-17/\", \"CRE\": \"463-577\"}},\n",
        "    {\"id\": \"ART17-10\", \"properties\": {\"label\": \"Communication with National Competent Authorities\", \"Article\": 17, \"URL\": \"https://artificialintelligenceact.com/title-iii/chapter-3/article-17/\", \"CRE\": \"510-324\"}},\n",
        "    {\"id\": \"ART17-11\", \"properties\": {\"label\": \"Resource Management\", \"Article\": 17, \"URL\": \"https://artificialintelligenceact.com/title-iii/chapter-3/article-17/\", \"CRE\": \"563-088\"}},\n",
        "    {\"id\": \"ART17-12\", \"properties\": {\"label\": \"Accountability Framework\", \"Article\": 17, \"URL\": \"https://artificialintelligenceact.com/title-iii/chapter-3/article-17/\", \"CRE\": \"427-113\"}}\n",
        "\n",
        "    {\"id\": \"ART9\", \"properties\": {\"label\": \"Risk Management System\", \"Article\": 9, \"URL\": \"https://artificialintelligenceact.com/title-iii/chapter-2/article-9/\", \"CRE\": \"307-242\"}},\n",
        "    {\"id\": \"ART10\", \"properties\": {\"label\": \"Data & Data Governance\", \"Article\": 10, \"URL\": \"https://artificialintelligenceact.com/title-iii/chapter-2/article-10/\", \"CRE\": \"287-823\"}},\n",
        "    {\"id\": \"ART11\", \"properties\": {\"label\": \"Technical Documentation\", \"Article\": 11, \"URL\": \"https://artificialintelligenceact.com/title-iii/chapter-2/article-11/\", \"CRE\": \"820-877\"}},\n",
        "    {\"id\": \"ART12\", \"properties\": {\"label\": \"Record Keeping (Logs)\", \"Article\": 12, \"URL\": \"https://artificialintelligenceact.com/title-iii/chapter-2/article-12/\", \"CRE\": \"842-876\"}},\n",
        "    {\"id\": \"ART13\", \"properties\": {\"label\": \"Transparency & Use Instructions for Deployers\", \"Article\": 13, \"URL\": \"https://artificialintelligenceact.com/title-iii/chapter-2/article-13/\", \"CRE\": \"820-877\"}},\n",
        "    {\"id\": \"ART14\", \"properties\": {\"label\": \"Design/Develop to enable Human Oversight\", \"Article\": 14, \"URL\": \"https://artificialintelligenceact.com/title-iii/chapter-2/article-14/\", \"CRE\": \"433-342\"}},\n",
        "    {\"id\": \"ART15\", \"properties\": {\"label\": \"Accuracy, Robustness & Cybersecurity\", \"Article\": 15, \"URL\": \"https://artificialintelligenceact.com/title-iii/chapter-2/article-15/\", \"CRE\": \"464-513\"}}\n",
        "\n",
        "    {\"id\": \"ART18-1\", \"properties\": {\"label\": \"Changes Approved by Notified Bodies\", \"Article\": 18, \"URL\": \"https://artificialintelligenceact.com/title-iii/chapter-3/article-18/\", \"CRE\": \"124-564\"}},\n",
        "    {\"id\": \"ART18-2\", \"properties\": {\"label\": \"Decisions/Documents Issues by Notified Bodies\", \"Article\": 18, \"URL\": \"https://artificialintelligenceact.com/title-iii/chapter-3/article-18/\", \"CRE\": \"464-513\"}},\n",
        "    {\"id\": \"ART18-3\", \"properties\": {\"label\": \"EU Declaration of Conformity\", \"Article\": 18, \"URL\": \"https://artificialintelligenceact.com/title-iii/chapter-3/article-18/\", \"CRE\": \"464-513\"}}\n",
        "\n",
        "    {\"id\": \"ART51-1\", \"properties\": {\"label\": \"Register High Risk AI System Provider\", \"Article\": 51, \"URL\": \"https://artificialintelligenceact.com/title-iii/chapter-5/article-51/\", \"CRE\": \"766-162\"}},\n",
        "    {\"id\": \"ART51-2\", \"properties\": {\"label\": \"Register High Risk AI System\", \"Article\": 51, \"URL\": \"https://artificialintelligenceact.com/title-iii/chapter-5/article-51/\", \"CRE\": \"766-162\"}}\n",
        "\n",
        "]\n",
        "\n",
        "w.edges = [\n",
        "    {\"id\": 1, \"start\": \"ART16-3\", \"end\": \"ART17-1\", \"properties\": {\"label\": \"TO_INCLUDE\"}},\n",
        "    {\"id\": 2, \"start\": \"ART16-3\", \"end\": \"ART17-2\", \"properties\": {\"label\": \"TO_INCLUDE\"}},\n",
        "    {\"id\": 3, \"start\": \"ART16-3\", \"end\": \"ART17-3\", \"properties\": {\"label\": \"TO_INCLUDE\"}},\n",
        "    {\"id\": 4, \"start\": \"ART16-3\", \"end\": \"ART17-4\", \"properties\": {\"label\": \"TO_INCLUDE\"}},\n",
        "    {\"id\": 5, \"start\": \"ART16-3\", \"end\": \"ART17-6\", \"properties\": {\"label\": \"TO_INCLUDE\"}},\n",
        "    {\"id\": 6, \"start\": \"ART16-3\", \"end\": \"ART17-7\", \"properties\": {\"label\": \"TO_INCLUDE\"}},\n",
        "    {\"id\": 7, \"start\": \"ART16-3\", \"end\": \"ART17-8\", \"properties\": {\"label\": \"TO_INCLUDE\"}},\n",
        "    {\"id\": 8, \"start\": \"ART16-3\", \"end\": \"ART17-9\", \"properties\": {\"label\": \"TO_INCLUDE\"}},\n",
        "    {\"id\": 9, \"start\": \"ART16-3\", \"end\": \"ART17-10\", \"properties\": {\"label\": \"TO_INCLUDE\"}},\n",
        "    {\"id\": 10, \"start\": \"ART16-3\", \"end\": \"ART17-11\", \"properties\": {\"label\": \"TO_INCLUDE\"}},\n",
        "    {\"id\": 11, \"start\": \"ART16-3\", \"end\": \"ART17-12\", \"properties\": {\"label\": \"TO_INCLUDE\"}},\n",
        "    {\"id\": 12, \"start\": \"ART16-3\", \"end\": \"ART16-4\", \"properties\": {\"label\": \"TO_INCLUDE\"}},\n",
        "    {\"id\": 13, \"start\": \"ART16-10\", \"end\": \"ART17-9\", \"properties\": {\"label\": \"SEE_ALSO\"}},\n",
        "    {\"id\": 14, \"start\": \"ART16-1\", \"end\": \"ART9\", \"properties\": {\"label\": \"REQUIRES\"}},\n",
        "    {\"id\": 15, \"start\": \"ART16-1\", \"end\": \"ART10\", \"properties\": {\"label\": \"REQUIRES\"}},\n",
        "    {\"id\": 16, \"start\": \"ART16-1\", \"end\": \"ART11\", \"properties\": {\"label\": \"REQUIRES\"}},\n",
        "    {\"id\": 17, \"start\": \"ART16-1\", \"end\": \"ART12\", \"properties\": {\"label\": \"REQUIRES\"}},\n",
        "    {\"id\": 18, \"start\": \"ART16-1\", \"end\": \"ART13\", \"properties\": {\"label\": \"REQUIRES\"}},\n",
        "    {\"id\": 19, \"start\": \"ART16-1\", \"end\": \"ART14\", \"properties\": {\"label\": \"REQUIRES\"}},\n",
        "    {\"id\": 20, \"start\": \"ART16-1\", \"end\": \"ART15\", \"properties\": {\"label\": \"REQUIRES\"}},\n",
        "    {\"id\": 21, \"start\": \"ART9\", \"end\": \"ART17-7\", \"properties\": {\"label\": \"RELATED_TO\"}},\n",
        "    {\"id\": 22, \"start\": \"ART16-4\", \"end\": \"ART11\", \"properties\": {\"label\": \"RELATED_TO\"}},\n",
        "    {\"id\": 23, \"start\": \"ART16-4\", \"end\": \"ART18-1\", \"properties\": {\"label\": \"REQUIRES\"}},\n",
        "    {\"id\": 24, \"start\": \"ART16-4\", \"end\": \"ART18-2\", \"properties\": {\"label\": \"REQUIRES\"}},\n",
        "    {\"id\": 25, \"start\": \"ART16-4\", \"end\": \"ART18-3\", \"properties\": {\"label\": \"REQUIRES\"}},\n",
        "    {\"id\": 26, \"start\": \"ART16-5\", \"end\": \"ART12\", \"properties\": {\"label\": \"RELATED_TO\"}},\n",
        "    {\"id\": 27, \"start\": \"ART16-9\", \"end\": \"ART51-1\", \"properties\": {\"label\": \"REQUIRES\"}},\n",
        "    {\"id\": 28, \"start\": \"ART16-9\", \"end\": \"ART51-2\", \"properties\": {\"label\": \"REQUIRES\"}},\n",
        "    {\"id\": 29, \"start\": \"ART13\", \"end\": \"ART13-1\", \"properties\": {\"label\": \"REQUIRES\"}},\n",
        "    {\"id\": 30, \"start\": \"ART13\", \"end\": \"ART13-2\", \"properties\": {\"label\": \"REQUIRES\"}},\n",
        "    {\"id\": 31, \"start\": \"ART13\", \"end\": \"ART13-3\", \"properties\": {\"label\": \"REQUIRES\"}},\n",
        "    {\"id\": 32, \"start\": \"ART13\", \"end\": \"ART13-4\", \"properties\": {\"label\": \"REQUIRES\"}},\n",
        "    {\"id\": 33, \"start\": \"ART13\", \"end\": \"ART13-5\", \"properties\": {\"label\": \"REQUIRES\"}},\n",
        "    {\"id\": 34, \"start\": \"ART13\", \"end\": \"ART13-6\", \"properties\": {\"label\": \"REQUIRES\"}},\n",
        "    {\"id\": 35, \"start\": \"ART13\", \"end\": \"ART13-7\", \"properties\": {\"label\": \"REQUIRES\"}},\n",
        "    {\"id\": 36, \"start\": \"ART13\", \"end\": \"ART13-8\", \"properties\": {\"label\": \"REQUIRES\"}},\n",
        "    {\"id\": 37, \"start\": \"ART13\", \"end\": \"ART13-9\", \"properties\": {\"label\": \"REQUIRES\"}},\n",
        "    {\"id\": 38, \"start\": \"ART13\", \"end\": \"ART13-10\", \"properties\": {\"label\": \"REQUIRES\"}},\n",
        "    {\"id\": 39, \"start\": \"ART13\", \"end\": \"ART13-11\", \"properties\": {\"label\": \"REQUIRES\"}},\n",
        "    {\"id\": 40, \"start\": \"ART13\", \"end\": \"ART13-12\", \"properties\": {\"label\": \"REQUIRES\"}},\n",
        "    {\"id\": 41, \"start\": \"ART13-10\", \"end\": \"ART14\", \"properties\": {\"label\": \"SEE_ALSO\"}},\n",
        "]\n",
        "\n",
        "w.directed = True\n",
        "\n",
        "# Define a function to determine node color based on ID prefix\n",
        "def custom_node_color_mapping(node: Dict):\n",
        "    \"\"\"Determine node color based on ID prefix and return the corresponding color with an attractive scheme.\"\"\"\n",
        "    # Define attractive colors for each node type\n",
        "    colors = {\n",
        "        \"ART16\": \"#e8a876\",\n",
        "        \"ART17\": \"#93e876\",\n",
        "        \"ART9\": \"#e362d4\",\n",
        "        \"ART10\": \"#e362d4\",\n",
        "        \"ART11\": \"#e362d4\",\n",
        "        \"ART12\": \"#e362d4\",\n",
        "        \"ART13\": \"#e362d4\",\n",
        "        \"ART13-\": \"#ede772\",\n",
        "        \"ART14\": \"#e362d4\",\n",
        "        \"ART15\": \"#e362d4\",\n",
        "        \"ART18\": \"#FF6347\",\n",
        "        \"ART51\": \"#76c0e8\",\n",
        "    }\n",
        "\n",
        "    # Determine the node type from its ID and apply the corresponding color\n",
        "    for prefix, color in colors.items():\n",
        "        if node['id'].startswith(prefix):\n",
        "            return color\n",
        "\n",
        "    # Return a default color if the node type does not match any of the specified types\n",
        "    # This line can be omitted if you do not wish to apply a default color\n",
        "    return \"#CCCCCC\"  # Light gray as a default color\n",
        "\n",
        "# Use the defined function to set node colors\n",
        "w.set_node_color_mapping(custom_node_color_mapping)\n",
        "\n",
        "# Display the graph\n",
        "display(w)"
      ]
    },
    {
      "cell_type": "markdown",
      "id": "-WioipTP4fu1",
      "metadata": {
        "id": "-WioipTP4fu1"
      },
      "source": [
        "## Exploring Relationships\n",
        "\n",
        "The graph visualisation allows you to explore the relationships between different requirements and their parent articles. Here are a few interesting relationships to investigate:\n",
        "\n",
        "- The specific requirements that fall under a given Article\n",
        "- Nodes (requirements) that are connected by specific relationship types such as \"REQUIRES\" or \"SEE_ALSO\"\n",
        "- Identifying key requirements by analysing their degree of centrality in the graph\n",
        "\n",
        "Use the code cells below to generate subgraphs focusing on specific aspects of the AI Act."
      ]
    },
    {
      "cell_type": "markdown",
      "id": "cEHvU-va5Os9",
      "metadata": {
        "id": "cEHvU-va5Os9"
      },
      "source": [
        "### Requirements in Article\n",
        "This subgraph focuses on the nodes and edges related to Article 16 of the AI regulation. It provides a visual representation of the specific requirements and their relationships within Article 16, allowing for a more targeted analysis of this particular section of the regulation."
      ]
    },
    {
      "cell_type": "code",
      "execution_count": null,
      "id": "Hy6qhGKc4EvJ",
      "metadata": {
        "colab": {
          "base_uri": "https://localhost:8080/",
          "height": 517,
          "referenced_widgets": [
            "f57966e3c00548788b16a770a0102c50",
            "199e51bb71394d2d9fad486ce9a2b5a0"
          ]
        },
        "id": "Hy6qhGKc4EvJ",
        "outputId": "5ab94df7-1a23-4cb2-ebbb-d286dcc718e2"
      },
      "outputs": [],
      "source": [
        "# Generate a subgraph showing nodes related to Article 16\n",
        "article_16_nodes = [node for node in w.nodes if node['properties']['Article'] == 16]\n",
        "article_16_edges = [edge for edge in w.edges if edge['start'] in [node['id'] for node in article_16_nodes] or edge['end'] in [node['id'] for node in article_16_nodes]]\n",
        "article_16_graph = GraphWidget()\n",
        "article_16_graph.nodes = article_16_nodes\n",
        "article_16_graph.edges = article_16_edges\n",
        "article_16_graph.directed = True\n",
        "article_16_graph.set_node_color_mapping(custom_node_color_mapping)\n",
        "display(article_16_graph)"
      ]
    },
    {
      "cell_type": "markdown",
      "id": "Qr8GmNS25sYt",
      "metadata": {
        "id": "Qr8GmNS25sYt"
      },
      "source": [
        "### Subgraph of \"REQUIRES\" Relationships\n",
        "\n",
        "This subgraph highlights the nodes and edges that are connected by the \"REQUIRES\" relationship type. It allows for a focused analysis of the dependencies and mandatory relationships between different requirements in the AI regulation."
      ]
    },
    {
      "cell_type": "code",
      "execution_count": null,
      "id": "r8JD9Kl74QXN",
      "metadata": {
        "colab": {
          "base_uri": "https://localhost:8080/",
          "height": 817,
          "referenced_widgets": [
            "a155a9e56624429c962ccfce4b37912d",
            "da12a591227b4f589361fd4dd202a77c"
          ]
        },
        "id": "r8JD9Kl74QXN",
        "outputId": "b14c7fa9-2ad5-4bdf-e13d-87b255786f54"
      },
      "outputs": [],
      "source": [
        "# Generate a subgraph showing nodes connected by the \"REQUIRES\" edge type\n",
        "requires_edges = [edge for edge in w.edges if edge['properties']['label'] == 'REQUIRES']\n",
        "requires_nodes = list(set([edge['start'] for edge in requires_edges] + [edge['end'] for edge in requires_edges]))\n",
        "requires_subgraph = GraphWidget()\n",
        "requires_subgraph.nodes = [node for node in w.nodes if node['id'] in requires_nodes]\n",
        "requires_subgraph.edges = requires_edges\n",
        "requires_subgraph.directed = True\n",
        "requires_subgraph.set_node_color_mapping(custom_node_color_mapping)\n",
        "display(requires_subgraph)"
      ]
    },
    {
      "cell_type": "markdown",
      "id": "v26viIhl8K5l",
      "metadata": {
        "id": "v26viIhl8K5l"
      },
      "source": [
        "### Requirements with High Degree Centrality\n",
        "\n",
        "This subgraph focuses on nodes that have a high degree centrality, meaning they have a large number of incoming and/or outgoing edges. Nodes with a degree centrality above a specified threshold are included in the subgraph. This analysis can help identify key requirements or articles that are highly connected and potentially have a significant impact on the overall regulatory framework."
      ]
    },
    {
      "cell_type": "code",
      "execution_count": null,
      "id": "Vm4Sbvt-6Vlg",
      "metadata": {
        "colab": {
          "base_uri": "https://localhost:8080/",
          "height": 817,
          "referenced_widgets": [
            "024bd818e8be4126b6074ab805dfcdde",
            "221f47fff78549d0b0bf83e7a24731b3"
          ]
        },
        "id": "Vm4Sbvt-6Vlg",
        "outputId": "4733cd38-043e-4d46-9e62-50db03fe6500"
      },
      "outputs": [],
      "source": [
        "# Calculate degree centrality for each node\n",
        "degree_centrality = {}\n",
        "for node in w.nodes:\n",
        "    degree_centrality[node['id']] = sum([1 for edge in w.edges if edge['start'] == node['id'] or edge['end'] == node['id']])\n",
        "\n",
        "# Generate a subgraph showing nodes with a degree centrality above a certain threshold\n",
        "threshold = 5\n",
        "high_degree_nodes = [node for node in w.nodes if degree_centrality[node['id']] > threshold]\n",
        "high_degree_edges = [edge for edge in w.edges if edge['start'] in [node['id'] for node in high_degree_nodes] or edge['end'] in [node['id'] for node in high_degree_nodes]]\n",
        "high_degree_subgraph = GraphWidget()\n",
        "high_degree_subgraph.nodes = high_degree_nodes\n",
        "high_degree_subgraph.edges = high_degree_edges\n",
        "high_degree_subgraph.directed = True\n",
        "high_degree_subgraph.set_node_color_mapping(custom_node_color_mapping)\n",
        "display(high_degree_subgraph)"
      ]
    }
  ],
  "metadata": {
    "colab": {
      "provenance": []
    },
    "kernelspec": {
      "display_name": "Python 3 (ipykernel)",
      "language": "python",
      "name": "python3"
    },
    "language_info": {
      "codemirror_mode": {
        "name": "ipython",
        "version": 3
      },
      "file_extension": ".py",
      "mimetype": "text/x-python",
      "name": "python",
      "nbconvert_exporter": "python",
      "pygments_lexer": "ipython3",
      "version": "3.12.2"
    },
    "widgets": {
      "application/vnd.jupyter.widget-state+json": {
        "024bd818e8be4126b6074ab805dfcdde": {
          "model_module": "yfiles-jupyter-graphs",
          "model_module_version": "^1.6.2",
          "model_name": "GraphModel",
          "state": {
            "_context_pane_mapping": [
              {
                "id": "Neighborhood",
                "title": "Neighborhood"
              },
              {
                "id": "Data",
                "title": "Data"
              },
              {
                "id": "Search",
                "title": "Search"
              },
              {
                "id": "About",
                "title": "About"
              }
            ],
            "_data_importer": "unknown",
            "_directed": true,
            "_dom_classes": [],
            "_edges": [
              {
                "color": "#15AFAC",
                "directed": true,
                "end": "TYP4",
                "id": 3,
                "label": "IS_OF_TYPE",
                "properties": {
                  "label": "IS_OF_TYPE"
                },
                "start": "CTL1",
                "thickness_factor": 1
              },
              {
                "color": "#15AFAC",
                "directed": true,
                "end": "TYP1",
                "id": 6,
                "label": "IS_OF_TYPE",
                "properties": {
                  "label": "IS_OF_TYPE"
                },
                "start": "CTL2",
                "thickness_factor": 1
              },
              {
                "color": "#15AFAC",
                "directed": true,
                "end": "TYP1",
                "id": 9,
                "label": "IS_OF_TYPE",
                "properties": {
                  "label": "IS_OF_TYPE"
                },
                "start": "CTL3",
                "thickness_factor": 1
              },
              {
                "color": "#15AFAC",
                "directed": true,
                "end": "TYP4",
                "id": 12,
                "label": "IS_OF_TYPE",
                "properties": {
                  "label": "IS_OF_TYPE"
                },
                "start": "CTL4",
                "thickness_factor": 1
              },
              {
                "color": "#15AFAC",
                "directed": true,
                "end": "TYP1",
                "id": 15,
                "label": "IS_OF_TYPE",
                "properties": {
                  "label": "IS_OF_TYPE"
                },
                "start": "CTL5",
                "thickness_factor": 1
              },
              {
                "color": "#15AFAC",
                "directed": true,
                "end": "TYP1",
                "id": 18,
                "label": "IS_OF_TYPE",
                "properties": {
                  "label": "IS_OF_TYPE"
                },
                "start": "CTL6",
                "thickness_factor": 1
              },
              {
                "color": "#15AFAC",
                "directed": true,
                "end": "TYP4",
                "id": 21,
                "label": "IS_OF_TYPE",
                "properties": {
                  "label": "IS_OF_TYPE"
                },
                "start": "CTL7",
                "thickness_factor": 1
              },
              {
                "color": "#15AFAC",
                "directed": true,
                "end": "TYP1",
                "id": 24,
                "label": "IS_OF_TYPE",
                "properties": {
                  "label": "IS_OF_TYPE"
                },
                "start": "CTL8",
                "thickness_factor": 1
              },
              {
                "color": "#15AFAC",
                "directed": true,
                "end": "TYP4",
                "id": 27,
                "label": "IS_OF_TYPE",
                "properties": {
                  "label": "IS_OF_TYPE"
                },
                "start": "CTL9",
                "thickness_factor": 1
              },
              {
                "color": "#15AFAC",
                "directed": true,
                "end": "TYP2",
                "id": 30,
                "label": "IS_OF_TYPE",
                "properties": {
                  "label": "IS_OF_TYPE"
                },
                "start": "CTL10",
                "thickness_factor": 1
              },
              {
                "color": "#15AFAC",
                "directed": true,
                "end": "TYP3",
                "id": 31,
                "label": "IS_OF_TYPE",
                "properties": {
                  "label": "IS_OF_TYPE"
                },
                "start": "CTL10",
                "thickness_factor": 1
              },
              {
                "color": "#15AFAC",
                "directed": true,
                "end": "TYP2",
                "id": 34,
                "label": "IS_OF_TYPE",
                "properties": {
                  "label": "IS_OF_TYPE"
                },
                "start": "CTL11",
                "thickness_factor": 1
              },
              {
                "color": "#15AFAC",
                "directed": true,
                "end": "TYP2",
                "id": 37,
                "label": "IS_OF_TYPE",
                "properties": {
                  "label": "IS_OF_TYPE"
                },
                "start": "CTL12",
                "thickness_factor": 1
              },
              {
                "color": "#15AFAC",
                "directed": true,
                "end": "TYP4",
                "id": 40,
                "label": "IS_OF_TYPE",
                "properties": {
                  "label": "IS_OF_TYPE"
                },
                "start": "CTL13",
                "thickness_factor": 1
              },
              {
                "color": "#15AFAC",
                "directed": true,
                "end": "TYP4",
                "id": 43,
                "label": "IS_OF_TYPE",
                "properties": {
                  "label": "IS_OF_TYPE"
                },
                "start": "CTL14",
                "thickness_factor": 1
              },
              {
                "color": "#15AFAC",
                "directed": true,
                "end": "TYP3",
                "id": 46,
                "label": "IS_OF_TYPE",
                "properties": {
                  "label": "IS_OF_TYPE"
                },
                "start": "CTL15",
                "thickness_factor": 1
              },
              {
                "color": "#15AFAC",
                "directed": true,
                "end": "TYP1",
                "id": 49,
                "label": "IS_OF_TYPE",
                "properties": {
                  "label": "IS_OF_TYPE"
                },
                "start": "CTL16",
                "thickness_factor": 1
              },
              {
                "color": "#15AFAC",
                "directed": true,
                "end": "TYP1",
                "id": 57,
                "label": "IS_OF_TYPE",
                "properties": {
                  "label": "IS_OF_TYPE"
                },
                "start": "CTL17",
                "thickness_factor": 1
              },
              {
                "color": "#15AFAC",
                "directed": true,
                "end": "TYP1",
                "id": 65,
                "label": "IS_OF_TYPE",
                "properties": {
                  "label": "IS_OF_TYPE"
                },
                "start": "CTL18",
                "thickness_factor": 1
              },
              {
                "color": "#15AFAC",
                "directed": true,
                "end": "TYP1",
                "id": 73,
                "label": "IS_OF_TYPE",
                "properties": {
                  "label": "IS_OF_TYPE"
                },
                "start": "CTL19",
                "thickness_factor": 1
              },
              {
                "color": "#15AFAC",
                "directed": true,
                "end": "TYP2",
                "id": 76,
                "label": "IS_OF_TYPE",
                "properties": {
                  "label": "IS_OF_TYPE"
                },
                "start": "CTL20",
                "thickness_factor": 1
              },
              {
                "color": "#15AFAC",
                "directed": true,
                "end": "TYP2",
                "id": 79,
                "label": "IS_OF_TYPE",
                "properties": {
                  "label": "IS_OF_TYPE"
                },
                "start": "CTL21",
                "thickness_factor": 1
              },
              {
                "color": "#15AFAC",
                "directed": true,
                "end": "TYP3",
                "id": 82,
                "label": "IS_OF_TYPE",
                "properties": {
                  "label": "IS_OF_TYPE"
                },
                "start": "CTL22",
                "thickness_factor": 1
              },
              {
                "color": "#15AFAC",
                "directed": true,
                "end": "TYP3",
                "id": 85,
                "label": "IS_OF_TYPE",
                "properties": {
                  "label": "IS_OF_TYPE"
                },
                "start": "CTL23",
                "thickness_factor": 1
              },
              {
                "color": "#15AFAC",
                "directed": true,
                "end": "TYP3",
                "id": 88,
                "label": "IS_OF_TYPE",
                "properties": {
                  "label": "IS_OF_TYPE"
                },
                "start": "CTL24",
                "thickness_factor": 1
              },
              {
                "color": "#15AFAC",
                "directed": true,
                "end": "TYP3",
                "id": 91,
                "label": "IS_OF_TYPE",
                "properties": {
                  "label": "IS_OF_TYPE"
                },
                "start": "CTL25",
                "thickness_factor": 1
              },
              {
                "color": "#15AFAC",
                "directed": true,
                "end": "TYP4",
                "id": 94,
                "label": "IS_OF_TYPE",
                "properties": {
                  "label": "IS_OF_TYPE"
                },
                "start": "CTL26",
                "thickness_factor": 1
              },
              {
                "color": "#15AFAC",
                "directed": true,
                "end": "TYP4",
                "id": 97,
                "label": "IS_OF_TYPE",
                "properties": {
                  "label": "IS_OF_TYPE"
                },
                "start": "CTL27",
                "thickness_factor": 1
              },
              {
                "color": "#15AFAC",
                "directed": true,
                "end": "TYP3",
                "id": 100,
                "label": "IS_OF_TYPE",
                "properties": {
                  "label": "IS_OF_TYPE"
                },
                "start": "CTL28",
                "thickness_factor": 1
              },
              {
                "color": "#15AFAC",
                "directed": true,
                "end": "TYP1",
                "id": 103,
                "label": "IS_OF_TYPE",
                "properties": {
                  "label": "IS_OF_TYPE"
                },
                "start": "CTL29",
                "thickness_factor": 1
              },
              {
                "color": "#15AFAC",
                "directed": true,
                "end": "TYP1",
                "id": 106,
                "label": "IS_OF_TYPE",
                "properties": {
                  "label": "IS_OF_TYPE"
                },
                "start": "CTL30",
                "thickness_factor": 1
              },
              {
                "color": "#15AFAC",
                "directed": true,
                "end": "TYP1",
                "id": 115,
                "label": "IS_OF_TYPE",
                "properties": {
                  "label": "IS_OF_TYPE"
                },
                "start": "CTL31",
                "thickness_factor": 1
              },
              {
                "color": "#15AFAC",
                "directed": true,
                "end": "TYP1",
                "id": 124,
                "label": "IS_OF_TYPE",
                "properties": {
                  "label": "IS_OF_TYPE"
                },
                "start": "CTL32",
                "thickness_factor": 1
              },
              {
                "color": "#15AFAC",
                "directed": true,
                "end": "TYP1",
                "id": 133,
                "label": "IS_OF_TYPE",
                "properties": {
                  "label": "IS_OF_TYPE"
                },
                "start": "CTL33",
                "thickness_factor": 1
              },
              {
                "color": "#15AFAC",
                "directed": true,
                "end": "TYP4",
                "id": 142,
                "label": "IS_OF_TYPE",
                "properties": {
                  "label": "IS_OF_TYPE"
                },
                "start": "CTL34",
                "thickness_factor": 1
              },
              {
                "color": "#15AFAC",
                "directed": true,
                "end": "TYP3",
                "id": 151,
                "label": "IS_OF_TYPE",
                "properties": {
                  "label": "IS_OF_TYPE"
                },
                "start": "CTL35",
                "thickness_factor": 1
              },
              {
                "color": "#15AFAC",
                "directed": true,
                "end": "TYP1",
                "id": 161,
                "label": "IS_OF_TYPE",
                "properties": {
                  "label": "IS_OF_TYPE"
                },
                "start": "CTL36",
                "thickness_factor": 1
              },
              {
                "color": "#15AFAC",
                "directed": true,
                "end": "TYP3",
                "id": 164,
                "label": "IS_OF_TYPE",
                "properties": {
                  "label": "IS_OF_TYPE"
                },
                "start": "CTL37",
                "thickness_factor": 1
              },
              {
                "color": "#15AFAC",
                "directed": true,
                "end": "TYP3",
                "id": 167,
                "label": "IS_OF_TYPE",
                "properties": {
                  "label": "IS_OF_TYPE"
                },
                "start": "CTL38",
                "thickness_factor": 1
              },
              {
                "color": "#15AFAC",
                "directed": true,
                "end": "TYP3",
                "id": 170,
                "label": "IS_OF_TYPE",
                "properties": {
                  "label": "IS_OF_TYPE"
                },
                "start": "CTL39",
                "thickness_factor": 1
              },
              {
                "color": "#15AFAC",
                "directed": true,
                "end": "TYP3",
                "id": 173,
                "label": "IS_OF_TYPE",
                "properties": {
                  "label": "IS_OF_TYPE"
                },
                "start": "CTL40",
                "thickness_factor": 1
              },
              {
                "color": "#15AFAC",
                "directed": true,
                "end": "TYP3",
                "id": 176,
                "label": "IS_OF_TYPE",
                "properties": {
                  "label": "IS_OF_TYPE"
                },
                "start": "CTL41",
                "thickness_factor": 1
              },
              {
                "color": "#15AFAC",
                "directed": true,
                "end": "TYP1",
                "id": 179,
                "label": "IS_OF_TYPE",
                "properties": {
                  "label": "IS_OF_TYPE"
                },
                "start": "CTL42",
                "thickness_factor": 1
              },
              {
                "color": "#15AFAC",
                "directed": true,
                "end": "TYP1",
                "id": 182,
                "label": "IS_OF_TYPE",
                "properties": {
                  "label": "IS_OF_TYPE"
                },
                "start": "CTL43",
                "thickness_factor": 1
              },
              {
                "color": "#15AFAC",
                "directed": true,
                "end": "TYP1",
                "id": 185,
                "label": "IS_OF_TYPE",
                "properties": {
                  "label": "IS_OF_TYPE"
                },
                "start": "CTL44",
                "thickness_factor": 1
              },
              {
                "color": "#15AFAC",
                "directed": true,
                "end": "TYP1",
                "id": 188,
                "label": "IS_OF_TYPE",
                "properties": {
                  "label": "IS_OF_TYPE"
                },
                "start": "CTL45",
                "thickness_factor": 1
              },
              {
                "color": "#15AFAC",
                "directed": true,
                "end": "TYP1",
                "id": 191,
                "label": "IS_OF_TYPE",
                "properties": {
                  "label": "IS_OF_TYPE"
                },
                "start": "CTL46",
                "thickness_factor": 1
              },
              {
                "color": "#15AFAC",
                "directed": true,
                "end": "TYP1",
                "id": 194,
                "label": "IS_OF_TYPE",
                "properties": {
                  "label": "IS_OF_TYPE"
                },
                "start": "CTL47",
                "thickness_factor": 1
              },
              {
                "color": "#15AFAC",
                "directed": true,
                "end": "TYP4",
                "id": 197,
                "label": "IS_OF_TYPE",
                "properties": {
                  "label": "IS_OF_TYPE"
                },
                "start": "CTL48",
                "thickness_factor": 1
              },
              {
                "color": "#15AFAC",
                "directed": true,
                "end": "TYP1",
                "id": 200,
                "label": "IS_OF_TYPE",
                "properties": {
                  "label": "IS_OF_TYPE"
                },
                "start": "CTL49",
                "thickness_factor": 1
              },
              {
                "color": "#15AFAC",
                "directed": true,
                "end": "TYP4",
                "id": 203,
                "label": "IS_OF_TYPE",
                "properties": {
                  "label": "IS_OF_TYPE"
                },
                "start": "CTL50",
                "thickness_factor": 1
              },
              {
                "color": "#15AFAC",
                "directed": true,
                "end": "TYP4",
                "id": 206,
                "label": "IS_OF_TYPE",
                "properties": {
                  "label": "IS_OF_TYPE"
                },
                "start": "CTL51",
                "thickness_factor": 1
              },
              {
                "color": "#15AFAC",
                "directed": true,
                "end": "TYP4",
                "id": 209,
                "label": "IS_OF_TYPE",
                "properties": {
                  "label": "IS_OF_TYPE"
                },
                "start": "CTL52",
                "thickness_factor": 1
              }
            ],
            "_graph_layout": {},
            "_highlight": [],
            "_license": {},
            "_model_module": "yfiles-jupyter-graphs",
            "_model_module_version": "^1.6.2",
            "_model_name": "GraphModel",
            "_neighborhood": {},
            "_nodes": [
              {
                "color": "#DAA520",
                "id": "TYP1",
                "label": "Standard InfoSec Control",
                "position": [
                  0,
                  0
                ],
                "properties": {
                  "label": "Standard InfoSec Control"
                },
                "scale_factor": 1,
                "size": [
                  55,
                  55
                ],
                "styles": {},
                "type": "#DAA520"
              },
              {
                "color": "#DAA520",
                "id": "TYP2",
                "label": "Runtime Data Science Control",
                "position": [
                  0,
                  0
                ],
                "properties": {
                  "label": "Runtime Data Science Control"
                },
                "scale_factor": 1,
                "size": [
                  55,
                  55
                ],
                "styles": {},
                "type": "#DAA520"
              },
              {
                "color": "#DAA520",
                "id": "TYP3",
                "label": "Development-time Data Science Control",
                "position": [
                  0,
                  0
                ],
                "properties": {
                  "label": "Development-time Data Science Control"
                },
                "scale_factor": 1,
                "size": [
                  55,
                  55
                ],
                "styles": {},
                "type": "#DAA520"
              },
              {
                "color": "#DAA520",
                "id": "TYP4",
                "label": "Other Control",
                "position": [
                  0,
                  0
                ],
                "properties": {
                  "label": "Other Control"
                },
                "scale_factor": 1,
                "size": [
                  55,
                  55
                ],
                "styles": {},
                "type": "#DAA520"
              },
              {
                "color": "#FF7F50",
                "id": "CTL1",
                "label": "AIPROGRAM",
                "position": [
                  0,
                  0
                ],
                "properties": {
                  "URL": "https://owaspai.org/docs/1_general_controls/#aiprogram",
                  "label": "AIPROGRAM"
                },
                "scale_factor": 1,
                "size": [
                  55,
                  55
                ],
                "styles": {},
                "type": "#FF7F50"
              },
              {
                "color": "#FF7F50",
                "id": "CTL2",
                "label": "SECPROGRAM",
                "position": [
                  0,
                  0
                ],
                "properties": {
                  "URL": "https://owaspai.org/docs/1_general_controls/#secprogram",
                  "label": "SECPROGRAM"
                },
                "scale_factor": 1,
                "size": [
                  55,
                  55
                ],
                "styles": {},
                "type": "#FF7F50"
              },
              {
                "color": "#FF7F50",
                "id": "CTL3",
                "label": "SECDEVPROGRAM",
                "position": [
                  0,
                  0
                ],
                "properties": {
                  "URL": "https://owaspai.org/docs/1_general_controls/#secdevprogram",
                  "label": "SECDEVPROGRAM"
                },
                "scale_factor": 1,
                "size": [
                  55,
                  55
                ],
                "styles": {},
                "type": "#FF7F50"
              },
              {
                "color": "#FF7F50",
                "id": "CTL4",
                "label": "DEVPROGRAM",
                "position": [
                  0,
                  0
                ],
                "properties": {
                  "URL": "https://owaspai.org/docs/1_general_controls/#devprogram",
                  "label": "DEVPROGRAM"
                },
                "scale_factor": 1,
                "size": [
                  55,
                  55
                ],
                "styles": {},
                "type": "#FF7F50"
              },
              {
                "color": "#FF7F50",
                "id": "CTL5",
                "label": "CHECKCOMPLIANCE",
                "position": [
                  0,
                  0
                ],
                "properties": {
                  "URL": "https://owaspai.org/docs/1_general_controls/#checkcompliance",
                  "label": "CHECKCOMPLIANCE"
                },
                "scale_factor": 1,
                "size": [
                  55,
                  55
                ],
                "styles": {},
                "type": "#FF7F50"
              },
              {
                "color": "#FF7F50",
                "id": "CTL6",
                "label": "SECEDUCATE",
                "position": [
                  0,
                  0
                ],
                "properties": {
                  "URL": "https://owaspai.org/docs/1_general_controls/#seceducate",
                  "label": "SECEDUCATE"
                },
                "scale_factor": 1,
                "size": [
                  55,
                  55
                ],
                "styles": {},
                "type": "#FF7F50"
              },
              {
                "color": "#FF7F50",
                "id": "CTL7",
                "label": "OVERSIGHT",
                "position": [
                  0,
                  0
                ],
                "properties": {
                  "URL": "https://owaspai.org/docs/1_general_controls/#oversight",
                  "label": "OVERSIGHT"
                },
                "scale_factor": 1,
                "size": [
                  55,
                  55
                ],
                "styles": {},
                "type": "#FF7F50"
              },
              {
                "color": "#FF7F50",
                "id": "CTL8",
                "label": "LEASTMODELPRIVILEGE",
                "position": [
                  0,
                  0
                ],
                "properties": {
                  "URL": "https://owaspai.org/docs/1_general_controls/#leastmodelprivilege",
                  "label": "LEASTMODELPRIVILEGE"
                },
                "scale_factor": 1,
                "size": [
                  55,
                  55
                ],
                "styles": {},
                "type": "#FF7F50"
              },
              {
                "color": "#FF7F50",
                "id": "CTL9",
                "label": "AITRANSPARENCY",
                "position": [
                  0,
                  0
                ],
                "properties": {
                  "URL": "https://owaspai.org/docs/1_general_controls/#aitransparency",
                  "label": "AITRANSPARENCY"
                },
                "scale_factor": 1,
                "size": [
                  55,
                  55
                ],
                "styles": {},
                "type": "#FF7F50"
              },
              {
                "color": "#FF7F50",
                "id": "CTL10",
                "label": "CONTINUOUSVALIDATION",
                "position": [
                  0,
                  0
                ],
                "properties": {
                  "URL": "https://owaspai.org/docs/1_general_controls/#continuousvalidation",
                  "label": "CONTINUOUSVALIDATION"
                },
                "scale_factor": 1,
                "size": [
                  55,
                  55
                ],
                "styles": {},
                "type": "#FF7F50"
              },
              {
                "color": "#FF7F50",
                "id": "CTL11",
                "label": "EXPLAINABILITY",
                "position": [
                  0,
                  0
                ],
                "properties": {
                  "URL": "https://owaspai.org/docs/1_general_controls/#explainability",
                  "label": "EXPLAINABILITY"
                },
                "scale_factor": 1,
                "size": [
                  55,
                  55
                ],
                "styles": {},
                "type": "#FF7F50"
              },
              {
                "color": "#FF7F50",
                "id": "CTL12",
                "label": "UNWANTEDBIASTESTING",
                "position": [
                  0,
                  0
                ],
                "properties": {
                  "URL": "https://owaspai.org/docs/1_general_controls/#unwantedbiastesting",
                  "label": "UNWANTEDBIASTESTING"
                },
                "scale_factor": 1,
                "size": [
                  55,
                  55
                ],
                "styles": {},
                "type": "#FF7F50"
              },
              {
                "color": "#FF7F50",
                "id": "CTL13",
                "label": "DATAMINIMIZE",
                "position": [
                  0,
                  0
                ],
                "properties": {
                  "URL": "https://owaspai.org/docs/1_general_controls/#dataminimize",
                  "label": "DATAMINIMIZE"
                },
                "scale_factor": 1,
                "size": [
                  55,
                  55
                ],
                "styles": {},
                "type": "#FF7F50"
              },
              {
                "color": "#FF7F50",
                "id": "CTL14",
                "label": "ALLOWEDDATA",
                "position": [
                  0,
                  0
                ],
                "properties": {
                  "URL": "https://owaspai.org/docs/1_general_controls/#alloweddata",
                  "label": "ALLOWEDDATA"
                },
                "scale_factor": 1,
                "size": [
                  55,
                  55
                ],
                "styles": {},
                "type": "#FF7F50"
              },
              {
                "color": "#FF7F50",
                "id": "CTL15",
                "label": "SHORTRETAIN",
                "position": [
                  0,
                  0
                ],
                "properties": {
                  "URL": "https://owaspai.org/docs/1_general_controls/#shortretain",
                  "label": "SHORTRETAIN"
                },
                "scale_factor": 1,
                "size": [
                  55,
                  55
                ],
                "styles": {},
                "type": "#FF7F50"
              },
              {
                "color": "#FF7F50",
                "id": "CTL15",
                "label": "OBFUSCATETRAININGDATA",
                "position": [
                  0,
                  0
                ],
                "properties": {
                  "URL": "https://owaspai.org/docs/1_general_controls/#obfuscatetrainingdata",
                  "label": "OBFUSCATETRAININGDATA"
                },
                "scale_factor": 1,
                "size": [
                  55,
                  55
                ],
                "styles": {},
                "type": "#FF7F50"
              },
              {
                "color": "#FF7F50",
                "id": "CTL16",
                "label": "DISCRETE",
                "position": [
                  0,
                  0
                ],
                "properties": {
                  "URL": "https://owaspai.org/docs/1_general_controls/#discrete",
                  "label": "DISCRETE"
                },
                "scale_factor": 1,
                "size": [
                  55,
                  55
                ],
                "styles": {},
                "type": "#FF7F50"
              },
              {
                "color": "#FF7F50",
                "id": "CTL17",
                "label": "MONITORUSE",
                "position": [
                  0,
                  0
                ],
                "properties": {
                  "URL": "https://owaspai.org/docs/2_threats_through_use/#monitoruse",
                  "label": "MONITORUSE"
                },
                "scale_factor": 1,
                "size": [
                  55,
                  55
                ],
                "styles": {},
                "type": "#FF7F50"
              },
              {
                "color": "#FF7F50",
                "id": "CTL18",
                "label": "RATELIMIT",
                "position": [
                  0,
                  0
                ],
                "properties": {
                  "URL": "https://owaspai.org/docs/2_threats_through_use/#ratelimit",
                  "label": "RATELIMIT"
                },
                "scale_factor": 1,
                "size": [
                  55,
                  55
                ],
                "styles": {},
                "type": "#FF7F50"
              },
              {
                "color": "#FF7F50",
                "id": "CTL19",
                "label": "MODELACCESSCONTROL",
                "position": [
                  0,
                  0
                ],
                "properties": {
                  "URL": "https://owaspai.org/docs/2_threats_through_use/#modelaccesscontrol",
                  "label": "MODELACCESSCONTROL"
                },
                "scale_factor": 1,
                "size": [
                  55,
                  55
                ],
                "styles": {},
                "type": "#FF7F50"
              },
              {
                "color": "#FF7F50",
                "id": "CTL20",
                "label": "DETECTODDINPUT",
                "position": [
                  0,
                  0
                ],
                "properties": {
                  "URL": "https://owaspai.org/docs/2_threats_through_use/#detectoddinput",
                  "label": "DETECTODDINPUT"
                },
                "scale_factor": 1,
                "size": [
                  55,
                  55
                ],
                "styles": {},
                "type": "#FF7F50"
              },
              {
                "color": "#FF7F50",
                "id": "CTL21",
                "label": "DETECTADVERSARIALINPUT",
                "position": [
                  0,
                  0
                ],
                "properties": {
                  "URL": "https://owaspai.org/docs/2_threats_through_use/#detectadversarialinput",
                  "label": "DETECTADVERSARIALINPUT"
                },
                "scale_factor": 1,
                "size": [
                  55,
                  55
                ],
                "styles": {},
                "type": "#FF7F50"
              },
              {
                "color": "#FF7F50",
                "id": "CTL22",
                "label": "EVASIONROBUSTMODEL",
                "position": [
                  0,
                  0
                ],
                "properties": {
                  "URL": "https://owaspai.org/docs/2_threats_through_use/#evasionrobustmodel",
                  "label": "EVASIONROBUSTMODEL"
                },
                "scale_factor": 1,
                "size": [
                  55,
                  55
                ],
                "styles": {},
                "type": "#FF7F50"
              },
              {
                "color": "#FF7F50",
                "id": "CTL23",
                "label": "TRAINADVERSARIAL",
                "position": [
                  0,
                  0
                ],
                "properties": {
                  "URL": "https://owaspai.org/docs/2_threats_through_use/#trainadversarial",
                  "label": "TRAINADVERSARIAL"
                },
                "scale_factor": 1,
                "size": [
                  55,
                  55
                ],
                "styles": {},
                "type": "#FF7F50"
              },
              {
                "color": "#FF7F50",
                "id": "CTL24",
                "label": "INPUTDISTORTION",
                "position": [
                  0,
                  0
                ],
                "properties": {
                  "URL": "https://owaspai.org/docs/2_threats_through_use/#inputdistortion",
                  "label": "INPUTDISTORTION"
                },
                "scale_factor": 1,
                "size": [
                  55,
                  55
                ],
                "styles": {},
                "type": "#FF7F50"
              },
              {
                "color": "#FF7F50",
                "id": "CTL25",
                "label": "ADVERSARIALROBUSTDISTILLATION",
                "position": [
                  0,
                  0
                ],
                "properties": {
                  "URL": "https://owaspai.org/docs/2_threats_through_use/#adversarialrobustdistillation",
                  "label": "ADVERSARIALROBUSTDISTILLATION"
                },
                "scale_factor": 1,
                "size": [
                  55,
                  55
                ],
                "styles": {},
                "type": "#FF7F50"
              },
              {
                "color": "#FF7F50",
                "id": "CTL26",
                "label": "FILTERSENSITIVEMODELOUTPUT",
                "position": [
                  0,
                  0
                ],
                "properties": {
                  "URL": "https://owaspai.org/docs/2_threats_through_use/#filtersensitivemodeloutput",
                  "label": "FILTERSENSITIVEMODELOUTPUT"
                },
                "scale_factor": 1,
                "size": [
                  55,
                  55
                ],
                "styles": {},
                "type": "#FF7F50"
              },
              {
                "color": "#FF7F50",
                "id": "CTL27",
                "label": "OBSCURECONFIDENCE",
                "position": [
                  0,
                  0
                ],
                "properties": {
                  "URL": "https://owaspai.org/docs/2_threats_through_use/#obscureconfidence",
                  "label": "OBSCURECONFIDENCE"
                },
                "scale_factor": 1,
                "size": [
                  55,
                  55
                ],
                "styles": {},
                "type": "#FF7F50"
              },
              {
                "color": "#FF7F50",
                "id": "CTL28",
                "label": "SMALLMODEL",
                "position": [
                  0,
                  0
                ],
                "properties": {
                  "URL": "https://owaspai.org/docs/2_threats_through_use/#smallmodel",
                  "label": "SMALLMODEL"
                },
                "scale_factor": 1,
                "size": [
                  55,
                  55
                ],
                "styles": {},
                "type": "#FF7F50"
              },
              {
                "color": "#FF7F50",
                "id": "CTL29",
                "label": "DOSINPUTVALIDATION",
                "position": [
                  0,
                  0
                ],
                "properties": {
                  "URL": "https://owaspai.org/docs/2_threats_through_use/#dosinputvalidation",
                  "label": "DOSINPUTVALIDATION"
                },
                "scale_factor": 1,
                "size": [
                  55,
                  55
                ],
                "styles": {},
                "type": "#FF7F50"
              },
              {
                "color": "#FF7F50",
                "id": "CTL30",
                "label": "LIMITRESOURCES",
                "position": [
                  0,
                  0
                ],
                "properties": {
                  "URL": "https://owaspai.org/docs/2_threats_through_use/#limitresources",
                  "label": "LIMITRESOURCES"
                },
                "scale_factor": 1,
                "size": [
                  55,
                  55
                ],
                "styles": {},
                "type": "#FF7F50"
              },
              {
                "color": "#FF7F50",
                "id": "CTL31",
                "label": "DEVDATAPROTECT",
                "position": [
                  0,
                  0
                ],
                "properties": {
                  "URL": "https://owaspai.org/docs/3_development_time_threats/#devdataprotect",
                  "label": "DEVDATAPROTECT"
                },
                "scale_factor": 1,
                "size": [
                  55,
                  55
                ],
                "styles": {},
                "type": "#FF7F50"
              },
              {
                "color": "#FF7F50",
                "id": "CTL32",
                "label": "DEVSECURITY",
                "position": [
                  0,
                  0
                ],
                "properties": {
                  "URL": "https://owaspai.org/docs/3_development_time_threats/#devsecurity",
                  "label": "DEVSECURITY"
                },
                "scale_factor": 1,
                "size": [
                  55,
                  55
                ],
                "styles": {},
                "type": "#FF7F50"
              },
              {
                "color": "#FF7F50",
                "id": "CTL33",
                "label": "SEGREGATEDATA",
                "position": [
                  0,
                  0
                ],
                "properties": {
                  "URL": "https://owaspai.org/docs/3_development_time_threats/#segregatedata",
                  "label": "SEGREGATEDATA"
                },
                "scale_factor": 1,
                "size": [
                  55,
                  55
                ],
                "styles": {},
                "type": "#FF7F50"
              },
              {
                "color": "#FF7F50",
                "id": "CTL34",
                "label": "CONFCOMPUTE",
                "position": [
                  0,
                  0
                ],
                "properties": {
                  "URL": "https://owaspai.org/docs/3_development_time_threats/#confcompute",
                  "label": "CONFCOMPUTE"
                },
                "scale_factor": 1,
                "size": [
                  55,
                  55
                ],
                "styles": {},
                "type": "#FF7F50"
              },
              {
                "color": "#FF7F50",
                "id": "CTL35",
                "label": "FEDERATEDLEARNING",
                "position": [
                  0,
                  0
                ],
                "properties": {
                  "URL": "https://owaspai.org/docs/3_development_time_threats/#federatedlearning",
                  "label": "FEDERATEDLEARNING"
                },
                "scale_factor": 1,
                "size": [
                  55,
                  55
                ],
                "styles": {},
                "type": "#FF7F50"
              },
              {
                "color": "#FF7F50",
                "id": "CTL36",
                "label": "SUPPLYCHAINIMAGE",
                "position": [
                  0,
                  0
                ],
                "properties": {
                  "URL": "https://owaspai.org/docs/3_development_time_threats/#supplychainmanage",
                  "label": "SUPPLYCHAINIMAGE"
                },
                "scale_factor": 1,
                "size": [
                  55,
                  55
                ],
                "styles": {},
                "type": "#FF7F50"
              },
              {
                "color": "#FF7F50",
                "id": "CTL37",
                "label": "MODELENSEMBLE",
                "position": [
                  0,
                  0
                ],
                "properties": {
                  "URL": "https://owaspai.org/docs/3_development_time_threats/#modelensemble",
                  "label": "MODELENSEMBLE"
                },
                "scale_factor": 1,
                "size": [
                  55,
                  55
                ],
                "styles": {},
                "type": "#FF7F50"
              },
              {
                "color": "#FF7F50",
                "id": "CTL38",
                "label": "MORETRAINDATA",
                "position": [
                  0,
                  0
                ],
                "properties": {
                  "URL": "https://owaspai.org/docs/3_development_time_threats/#moretraindata",
                  "label": "MORETRAINDATA"
                },
                "scale_factor": 1,
                "size": [
                  55,
                  55
                ],
                "styles": {},
                "type": "#FF7F50"
              },
              {
                "color": "#FF7F50",
                "id": "CTL39",
                "label": "DATAQUALITYCONTROL",
                "position": [
                  0,
                  0
                ],
                "properties": {
                  "URL": "https://owaspai.org/docs/3_development_time_threats/#dataqualitycontrol",
                  "label": "DATAQUALITYCONTROL"
                },
                "scale_factor": 1,
                "size": [
                  55,
                  55
                ],
                "styles": {},
                "type": "#FF7F50"
              },
              {
                "color": "#FF7F50",
                "id": "CTL40",
                "label": "TRAINDATADISTORTION",
                "position": [
                  0,
                  0
                ],
                "properties": {
                  "URL": "https://owaspai.org/docs/3_development_time_threats/#traindatadistortion",
                  "label": "TRAINDATADISTORTION"
                },
                "scale_factor": 1,
                "size": [
                  55,
                  55
                ],
                "styles": {},
                "type": "#FF7F50"
              },
              {
                "color": "#FF7F50",
                "id": "CTL41",
                "label": "POISONROBUSTMODEL",
                "position": [
                  0,
                  0
                ],
                "properties": {
                  "URL": "https://owaspai.org/docs/3_development_time_threats/#poisonrobustmodel",
                  "label": "POISONROBUSTMODEL"
                },
                "scale_factor": 1,
                "size": [
                  55,
                  55
                ],
                "styles": {},
                "type": "#FF7F50"
              },
              {
                "color": "#FF7F50",
                "id": "CTL42",
                "label": "Technical AppSec Controls",
                "position": [
                  0,
                  0
                ],
                "properties": {
                  "URL": "https://www.opencre.org/cre/636-660",
                  "label": "Technical AppSec Controls"
                },
                "scale_factor": 1,
                "size": [
                  55,
                  55
                ],
                "styles": {},
                "type": "#FF7F50"
              },
              {
                "color": "#FF7F50",
                "id": "CTL43",
                "label": "Operational Security",
                "position": [
                  0,
                  0
                ],
                "properties": {
                  "URL": "https://www.opencre.org/cre/862-452",
                  "label": "Operational Security"
                },
                "scale_factor": 1,
                "size": [
                  55,
                  55
                ],
                "styles": {},
                "type": "#FF7F50"
              },
              {
                "color": "#FF7F50",
                "id": "CTL44",
                "label": "ENCODEMODELOUTPUT",
                "position": [
                  0,
                  0
                ],
                "properties": {
                  "URL": "https://owaspai.org/docs/4_runtime_application_security_threats/#encodemodeloutput",
                  "label": "ENCODEMODELOUTPUT"
                },
                "scale_factor": 1,
                "size": [
                  55,
                  55
                ],
                "styles": {},
                "type": "#FF7F50"
              },
              {
                "color": "#FF7F50",
                "id": "CTL45",
                "label": "MODELINPUTCONFIDENTIALITY",
                "position": [
                  0,
                  0
                ],
                "properties": {
                  "URL": "https://owaspai.org/docs/4_runtime_application_security_threats/#modelinputconfidentiality",
                  "label": "MODELINPUTCONFIDENTIALITY"
                },
                "scale_factor": 1,
                "size": [
                  55,
                  55
                ],
                "styles": {},
                "type": "#FF7F50"
              },
              {
                "color": "#FF7F50",
                "id": "CTL46",
                "label": "RUNTIMEMODELINTEGRITY",
                "position": [
                  0,
                  0
                ],
                "properties": {
                  "URL": "https://owaspai.org/docs/4_runtime_application_security_threats/#runtimemodelintegrity",
                  "label": "RUNTIMEMODELINTEGRITY"
                },
                "scale_factor": 1,
                "size": [
                  55,
                  55
                ],
                "styles": {},
                "type": "#FF7F50"
              },
              {
                "color": "#FF7F50",
                "id": "CTL47",
                "label": "RUNTIMEMODELIOINTEGRITY",
                "position": [
                  0,
                  0
                ],
                "properties": {
                  "URL": "https://owaspai.org/docs/4_runtime_application_security_threats/#runtimemodeliointegrity",
                  "label": "RUNTIMEMODELIOINTEGRITY"
                },
                "scale_factor": 1,
                "size": [
                  55,
                  55
                ],
                "styles": {},
                "type": "#FF7F50"
              },
              {
                "color": "#FF7F50",
                "id": "CTL48",
                "label": "Embedded In Model",
                "position": [
                  0,
                  0
                ],
                "properties": {
                  "URL": "https://llmtop10.com/llm01/",
                  "label": "Embedded In Model"
                },
                "scale_factor": 1,
                "size": [
                  55,
                  55
                ],
                "styles": {},
                "type": "#FF7F50"
              },
              {
                "color": "#FF7F50",
                "id": "CTL49",
                "label": "RUNTIMEMODELCONFIDENTIALITY",
                "position": [
                  0,
                  0
                ],
                "properties": {
                  "URL": "https://owaspai.org/docs/4_runtime_application_security_threats/#runtimemodelconfidentiality",
                  "label": "RUNTIMEMODELCONFIDENTIALITY"
                },
                "scale_factor": 1,
                "size": [
                  55,
                  55
                ],
                "styles": {},
                "type": "#FF7F50"
              },
              {
                "color": "#FF7F50",
                "id": "CTL50",
                "label": "MODELOBFUSCATION",
                "position": [
                  0,
                  0
                ],
                "properties": {
                  "URL": "https://owaspai.org/docs/4_runtime_application_security_threats/#modelobfuscation",
                  "label": "MODELOBFUSCATION"
                },
                "scale_factor": 1,
                "size": [
                  55,
                  55
                ],
                "styles": {},
                "type": "#FF7F50"
              },
              {
                "color": "#FF7F50",
                "id": "CTL51",
                "label": "PROMPTINPUTVALIDATION",
                "position": [
                  0,
                  0
                ],
                "properties": {
                  "URL": "https://owaspai.org/docs/4_runtime_application_security_threats/#promptinputvalidation",
                  "label": "PROMPTINPUTVALIDATION"
                },
                "scale_factor": 1,
                "size": [
                  55,
                  55
                ],
                "styles": {},
                "type": "#FF7F50"
              },
              {
                "color": "#FF7F50",
                "id": "CTL52",
                "label": "INPUTSEGREGATION",
                "position": [
                  0,
                  0
                ],
                "properties": {
                  "URL": "https://owaspai.org/docs/4_runtime_application_security_threats/#inputsegregation",
                  "label": "INPUTSEGREGATION"
                },
                "scale_factor": 1,
                "size": [
                  55,
                  55
                ],
                "styles": {},
                "type": "#FF7F50"
              }
            ],
            "_overview": {
              "enabled": null,
              "overview_set": false
            },
            "_selected_graph": [
              [],
              []
            ],
            "_sidebar": {
              "enabled": true,
              "start_with": ""
            },
            "_view_count": null,
            "_view_module": "yfiles-jupyter-graphs",
            "_view_module_version": "^1.6.2",
            "_view_name": "GraphView",
            "layout": "IPY_MODEL_221f47fff78549d0b0bf83e7a24731b3"
          }
        },
        "199e51bb71394d2d9fad486ce9a2b5a0": {
          "model_module": "@jupyter-widgets/base",
          "model_module_version": "1.2.0",
          "model_name": "LayoutModel",
          "state": {
            "_model_module": "@jupyter-widgets/base",
            "_model_module_version": "1.2.0",
            "_model_name": "LayoutModel",
            "_view_count": null,
            "_view_module": "@jupyter-widgets/base",
            "_view_module_version": "1.2.0",
            "_view_name": "LayoutView",
            "align_content": null,
            "align_items": null,
            "align_self": null,
            "border": null,
            "bottom": null,
            "display": null,
            "flex": null,
            "flex_flow": null,
            "grid_area": null,
            "grid_auto_columns": null,
            "grid_auto_flow": null,
            "grid_auto_rows": null,
            "grid_column": null,
            "grid_gap": null,
            "grid_row": null,
            "grid_template_areas": null,
            "grid_template_columns": null,
            "grid_template_rows": null,
            "height": "500px",
            "justify_content": null,
            "justify_items": null,
            "left": null,
            "margin": null,
            "max_height": null,
            "max_width": null,
            "min_height": null,
            "min_width": null,
            "object_fit": null,
            "object_position": null,
            "order": null,
            "overflow": null,
            "overflow_x": null,
            "overflow_y": null,
            "padding": null,
            "right": null,
            "top": null,
            "visibility": null,
            "width": "100%"
          }
        },
        "221f47fff78549d0b0bf83e7a24731b3": {
          "model_module": "@jupyter-widgets/base",
          "model_module_version": "1.2.0",
          "model_name": "LayoutModel",
          "state": {
            "_model_module": "@jupyter-widgets/base",
            "_model_module_version": "1.2.0",
            "_model_name": "LayoutModel",
            "_view_count": null,
            "_view_module": "@jupyter-widgets/base",
            "_view_module_version": "1.2.0",
            "_view_name": "LayoutView",
            "align_content": null,
            "align_items": null,
            "align_self": null,
            "border": null,
            "bottom": null,
            "display": null,
            "flex": null,
            "flex_flow": null,
            "grid_area": null,
            "grid_auto_columns": null,
            "grid_auto_flow": null,
            "grid_auto_rows": null,
            "grid_column": null,
            "grid_gap": null,
            "grid_row": null,
            "grid_template_areas": null,
            "grid_template_columns": null,
            "grid_template_rows": null,
            "height": "800px",
            "justify_content": null,
            "justify_items": null,
            "left": null,
            "margin": null,
            "max_height": null,
            "max_width": null,
            "min_height": null,
            "min_width": null,
            "object_fit": null,
            "object_position": null,
            "order": null,
            "overflow": null,
            "overflow_x": null,
            "overflow_y": null,
            "padding": null,
            "right": null,
            "top": null,
            "visibility": null,
            "width": "100%"
          }
        },
        "3c3daa5784ff4a60ad397c4184309f28": {
          "model_module": "@jupyter-widgets/base",
          "model_module_version": "1.2.0",
          "model_name": "LayoutModel",
          "state": {
            "_model_module": "@jupyter-widgets/base",
            "_model_module_version": "1.2.0",
            "_model_name": "LayoutModel",
            "_view_count": null,
            "_view_module": "@jupyter-widgets/base",
            "_view_module_version": "1.2.0",
            "_view_name": "LayoutView",
            "align_content": null,
            "align_items": null,
            "align_self": null,
            "border": null,
            "bottom": null,
            "display": null,
            "flex": null,
            "flex_flow": null,
            "grid_area": null,
            "grid_auto_columns": null,
            "grid_auto_flow": null,
            "grid_auto_rows": null,
            "grid_column": null,
            "grid_gap": null,
            "grid_row": null,
            "grid_template_areas": null,
            "grid_template_columns": null,
            "grid_template_rows": null,
            "height": "780px",
            "justify_content": null,
            "justify_items": null,
            "left": null,
            "margin": null,
            "max_height": null,
            "max_width": null,
            "min_height": null,
            "min_width": null,
            "object_fit": null,
            "object_position": null,
            "order": null,
            "overflow": null,
            "overflow_x": null,
            "overflow_y": null,
            "padding": null,
            "right": null,
            "top": null,
            "visibility": null,
            "width": "100%"
          }
        },
        "7ec27616a66e4242a49e73afcd39bb73": {
          "model_module": "yfiles-jupyter-graphs",
          "model_module_version": "^1.6.2",
          "model_name": "GraphModel",
          "state": {
            "_context_pane_mapping": [
              {
                "id": "Neighborhood",
                "title": "Neighborhood"
              },
              {
                "id": "Data",
                "title": "Data"
              },
              {
                "id": "Search",
                "title": "Search"
              },
              {
                "id": "About",
                "title": "About"
              }
            ],
            "_data_importer": "unknown",
            "_directed": true,
            "_dom_classes": [],
            "_edges": [
              {
                "color": "#15AFAC",
                "directed": true,
                "end": "CAT2",
                "id": 50,
                "label": "IS_IN_CATEGORY",
                "properties": {
                  "label": "IS_IN_CATEGORY"
                },
                "start": "CTL17",
                "thickness_factor": 1
              },
              {
                "color": "#15AFAC",
                "directed": true,
                "end": "GRP4",
                "id": 51,
                "label": "IS_IN_GROUP",
                "properties": {
                  "label": "IS_IN_GROUP"
                },
                "start": "CTL17",
                "thickness_factor": 1
              },
              {
                "color": "#15AFAC",
                "directed": true,
                "end": "GRP5",
                "id": 52,
                "label": "IS_IN_GROUP",
                "properties": {
                  "label": "IS_IN_GROUP"
                },
                "start": "CTL17",
                "thickness_factor": 1
              },
              {
                "color": "#15AFAC",
                "directed": true,
                "end": "GRP7",
                "id": 53,
                "label": "IS_IN_GROUP",
                "properties": {
                  "label": "IS_IN_GROUP"
                },
                "start": "CTL17",
                "thickness_factor": 1
              },
              {
                "color": "#15AFAC",
                "directed": true,
                "end": "GRP8",
                "id": 54,
                "label": "IS_IN_GROUP",
                "properties": {
                  "label": "IS_IN_GROUP"
                },
                "start": "CTL17",
                "thickness_factor": 1
              },
              {
                "color": "#15AFAC",
                "directed": true,
                "end": "GRP9",
                "id": 55,
                "label": "IS_IN_GROUP",
                "properties": {
                  "label": "IS_IN_GROUP"
                },
                "start": "CTL17",
                "thickness_factor": 1
              },
              {
                "color": "#15AFAC",
                "directed": true,
                "end": "GRP10",
                "id": 56,
                "label": "IS_IN_GROUP",
                "properties": {
                  "label": "IS_IN_GROUP"
                },
                "start": "CTL17",
                "thickness_factor": 1
              },
              {
                "color": "#15AFAC",
                "directed": true,
                "end": "TYP1",
                "id": 57,
                "label": "IS_OF_TYPE",
                "properties": {
                  "label": "IS_OF_TYPE"
                },
                "start": "CTL17",
                "thickness_factor": 1
              },
              {
                "color": "#15AFAC",
                "directed": true,
                "end": "CAT2",
                "id": 58,
                "label": "IS_IN_CATEGORY",
                "properties": {
                  "label": "IS_IN_CATEGORY"
                },
                "start": "CTL18",
                "thickness_factor": 1
              },
              {
                "color": "#15AFAC",
                "directed": true,
                "end": "GRP4",
                "id": 59,
                "label": "IS_IN_GROUP",
                "properties": {
                  "label": "IS_IN_GROUP"
                },
                "start": "CTL18",
                "thickness_factor": 1
              },
              {
                "color": "#15AFAC",
                "directed": true,
                "end": "GRP5",
                "id": 60,
                "label": "IS_IN_GROUP",
                "properties": {
                  "label": "IS_IN_GROUP"
                },
                "start": "CTL18",
                "thickness_factor": 1
              },
              {
                "color": "#15AFAC",
                "directed": true,
                "end": "GRP7",
                "id": 61,
                "label": "IS_IN_GROUP",
                "properties": {
                  "label": "IS_IN_GROUP"
                },
                "start": "CTL18",
                "thickness_factor": 1
              },
              {
                "color": "#15AFAC",
                "directed": true,
                "end": "GRP8",
                "id": 62,
                "label": "IS_IN_GROUP",
                "properties": {
                  "label": "IS_IN_GROUP"
                },
                "start": "CTL18",
                "thickness_factor": 1
              },
              {
                "color": "#15AFAC",
                "directed": true,
                "end": "GRP9",
                "id": 63,
                "label": "IS_IN_GROUP",
                "properties": {
                  "label": "IS_IN_GROUP"
                },
                "start": "CTL18",
                "thickness_factor": 1
              },
              {
                "color": "#15AFAC",
                "directed": true,
                "end": "GRP10",
                "id": 64,
                "label": "IS_IN_GROUP",
                "properties": {
                  "label": "IS_IN_GROUP"
                },
                "start": "CTL18",
                "thickness_factor": 1
              },
              {
                "color": "#15AFAC",
                "directed": true,
                "end": "TYP1",
                "id": 65,
                "label": "IS_OF_TYPE",
                "properties": {
                  "label": "IS_OF_TYPE"
                },
                "start": "CTL18",
                "thickness_factor": 1
              },
              {
                "color": "#15AFAC",
                "directed": true,
                "end": "CAT2",
                "id": 66,
                "label": "IS_IN_CATEGORY",
                "properties": {
                  "label": "IS_IN_CATEGORY"
                },
                "start": "CTL19",
                "thickness_factor": 1
              },
              {
                "color": "#15AFAC",
                "directed": true,
                "end": "GRP4",
                "id": 67,
                "label": "IS_IN_GROUP",
                "properties": {
                  "label": "IS_IN_GROUP"
                },
                "start": "CTL19",
                "thickness_factor": 1
              },
              {
                "color": "#15AFAC",
                "directed": true,
                "end": "GRP5",
                "id": 68,
                "label": "IS_IN_GROUP",
                "properties": {
                  "label": "IS_IN_GROUP"
                },
                "start": "CTL19",
                "thickness_factor": 1
              },
              {
                "color": "#15AFAC",
                "directed": true,
                "end": "GRP7",
                "id": 69,
                "label": "IS_IN_GROUP",
                "properties": {
                  "label": "IS_IN_GROUP"
                },
                "start": "CTL19",
                "thickness_factor": 1
              },
              {
                "color": "#15AFAC",
                "directed": true,
                "end": "GRP8",
                "id": 70,
                "label": "IS_IN_GROUP",
                "properties": {
                  "label": "IS_IN_GROUP"
                },
                "start": "CTL19",
                "thickness_factor": 1
              },
              {
                "color": "#15AFAC",
                "directed": true,
                "end": "GRP9",
                "id": 71,
                "label": "IS_IN_GROUP",
                "properties": {
                  "label": "IS_IN_GROUP"
                },
                "start": "CTL19",
                "thickness_factor": 1
              },
              {
                "color": "#15AFAC",
                "directed": true,
                "end": "GRP10",
                "id": 72,
                "label": "IS_IN_GROUP",
                "properties": {
                  "label": "IS_IN_GROUP"
                },
                "start": "CTL19",
                "thickness_factor": 1
              },
              {
                "color": "#15AFAC",
                "directed": true,
                "end": "TYP1",
                "id": 73,
                "label": "IS_OF_TYPE",
                "properties": {
                  "label": "IS_OF_TYPE"
                },
                "start": "CTL19",
                "thickness_factor": 1
              },
              {
                "color": "#15AFAC",
                "directed": true,
                "end": "CAT3",
                "id": 107,
                "label": "IS_IN_CATEGORY",
                "properties": {
                  "label": "IS_IN_CATEGORY"
                },
                "start": "CTL31",
                "thickness_factor": 1
              },
              {
                "color": "#15AFAC",
                "directed": true,
                "end": "GRP11",
                "id": 108,
                "label": "IS_IN_GROUP",
                "properties": {
                  "label": "IS_IN_GROUP"
                },
                "start": "CTL31",
                "thickness_factor": 1
              },
              {
                "color": "#15AFAC",
                "directed": true,
                "end": "GRP12",
                "id": 109,
                "label": "IS_IN_GROUP",
                "properties": {
                  "label": "IS_IN_GROUP"
                },
                "start": "CTL31",
                "thickness_factor": 1
              },
              {
                "color": "#15AFAC",
                "directed": true,
                "end": "GRP13",
                "id": 110,
                "label": "IS_IN_GROUP",
                "properties": {
                  "label": "IS_IN_GROUP"
                },
                "start": "CTL31",
                "thickness_factor": 1
              },
              {
                "color": "#15AFAC",
                "directed": true,
                "end": "GRP14",
                "id": 111,
                "label": "IS_IN_GROUP",
                "properties": {
                  "label": "IS_IN_GROUP"
                },
                "start": "CTL31",
                "thickness_factor": 1
              },
              {
                "color": "#15AFAC",
                "directed": true,
                "end": "GRP17",
                "id": 112,
                "label": "IS_IN_GROUP",
                "properties": {
                  "label": "IS_IN_GROUP"
                },
                "start": "CTL31",
                "thickness_factor": 1
              },
              {
                "color": "#15AFAC",
                "directed": true,
                "end": "GRP18",
                "id": 113,
                "label": "IS_IN_GROUP",
                "properties": {
                  "label": "IS_IN_GROUP"
                },
                "start": "CTL31",
                "thickness_factor": 1
              },
              {
                "color": "#15AFAC",
                "directed": true,
                "end": "GRP19",
                "id": 114,
                "label": "IS_IN_GROUP",
                "properties": {
                  "label": "IS_IN_GROUP"
                },
                "start": "CTL31",
                "thickness_factor": 1
              },
              {
                "color": "#15AFAC",
                "directed": true,
                "end": "TYP1",
                "id": 115,
                "label": "IS_OF_TYPE",
                "properties": {
                  "label": "IS_OF_TYPE"
                },
                "start": "CTL31",
                "thickness_factor": 1
              },
              {
                "color": "#15AFAC",
                "directed": true,
                "end": "CAT3",
                "id": 116,
                "label": "IS_IN_CATEGORY",
                "properties": {
                  "label": "IS_IN_CATEGORY"
                },
                "start": "CTL32",
                "thickness_factor": 1
              },
              {
                "color": "#15AFAC",
                "directed": true,
                "end": "GRP11",
                "id": 117,
                "label": "IS_IN_GROUP",
                "properties": {
                  "label": "IS_IN_GROUP"
                },
                "start": "CTL32",
                "thickness_factor": 1
              },
              {
                "color": "#15AFAC",
                "directed": true,
                "end": "GRP12",
                "id": 118,
                "label": "IS_IN_GROUP",
                "properties": {
                  "label": "IS_IN_GROUP"
                },
                "start": "CTL32",
                "thickness_factor": 1
              },
              {
                "color": "#15AFAC",
                "directed": true,
                "end": "GRP13",
                "id": 119,
                "label": "IS_IN_GROUP",
                "properties": {
                  "label": "IS_IN_GROUP"
                },
                "start": "CTL32",
                "thickness_factor": 1
              },
              {
                "color": "#15AFAC",
                "directed": true,
                "end": "GRP14",
                "id": 120,
                "label": "IS_IN_GROUP",
                "properties": {
                  "label": "IS_IN_GROUP"
                },
                "start": "CTL32",
                "thickness_factor": 1
              },
              {
                "color": "#15AFAC",
                "directed": true,
                "end": "GRP17",
                "id": 121,
                "label": "IS_IN_GROUP",
                "properties": {
                  "label": "IS_IN_GROUP"
                },
                "start": "CTL32",
                "thickness_factor": 1
              },
              {
                "color": "#15AFAC",
                "directed": true,
                "end": "GRP18",
                "id": 122,
                "label": "IS_IN_GROUP",
                "properties": {
                  "label": "IS_IN_GROUP"
                },
                "start": "CTL32",
                "thickness_factor": 1
              },
              {
                "color": "#15AFAC",
                "directed": true,
                "end": "GRP19",
                "id": 123,
                "label": "IS_IN_GROUP",
                "properties": {
                  "label": "IS_IN_GROUP"
                },
                "start": "CTL32",
                "thickness_factor": 1
              },
              {
                "color": "#15AFAC",
                "directed": true,
                "end": "TYP1",
                "id": 124,
                "label": "IS_OF_TYPE",
                "properties": {
                  "label": "IS_OF_TYPE"
                },
                "start": "CTL32",
                "thickness_factor": 1
              },
              {
                "color": "#15AFAC",
                "directed": true,
                "end": "CAT3",
                "id": 125,
                "label": "IS_IN_CATEGORY",
                "properties": {
                  "label": "IS_IN_CATEGORY"
                },
                "start": "CTL33",
                "thickness_factor": 1
              },
              {
                "color": "#15AFAC",
                "directed": true,
                "end": "GRP11",
                "id": 126,
                "label": "IS_IN_GROUP",
                "properties": {
                  "label": "IS_IN_GROUP"
                },
                "start": "CTL33",
                "thickness_factor": 1
              },
              {
                "color": "#15AFAC",
                "directed": true,
                "end": "GRP12",
                "id": 127,
                "label": "IS_IN_GROUP",
                "properties": {
                  "label": "IS_IN_GROUP"
                },
                "start": "CTL33",
                "thickness_factor": 1
              },
              {
                "color": "#15AFAC",
                "directed": true,
                "end": "GRP13",
                "id": 128,
                "label": "IS_IN_GROUP",
                "properties": {
                  "label": "IS_IN_GROUP"
                },
                "start": "CTL33",
                "thickness_factor": 1
              },
              {
                "color": "#15AFAC",
                "directed": true,
                "end": "GRP14",
                "id": 129,
                "label": "IS_IN_GROUP",
                "properties": {
                  "label": "IS_IN_GROUP"
                },
                "start": "CTL33",
                "thickness_factor": 1
              },
              {
                "color": "#15AFAC",
                "directed": true,
                "end": "GRP17",
                "id": 130,
                "label": "IS_IN_GROUP",
                "properties": {
                  "label": "IS_IN_GROUP"
                },
                "start": "CTL33",
                "thickness_factor": 1
              },
              {
                "color": "#15AFAC",
                "directed": true,
                "end": "GRP18",
                "id": 131,
                "label": "IS_IN_GROUP",
                "properties": {
                  "label": "IS_IN_GROUP"
                },
                "start": "CTL33",
                "thickness_factor": 1
              },
              {
                "color": "#15AFAC",
                "directed": true,
                "end": "GRP19",
                "id": 132,
                "label": "IS_IN_GROUP",
                "properties": {
                  "label": "IS_IN_GROUP"
                },
                "start": "CTL33",
                "thickness_factor": 1
              },
              {
                "color": "#15AFAC",
                "directed": true,
                "end": "TYP1",
                "id": 133,
                "label": "IS_OF_TYPE",
                "properties": {
                  "label": "IS_OF_TYPE"
                },
                "start": "CTL33",
                "thickness_factor": 1
              },
              {
                "color": "#15AFAC",
                "directed": true,
                "end": "CAT3",
                "id": 134,
                "label": "IS_IN_CATEGORY",
                "properties": {
                  "label": "IS_IN_CATEGORY"
                },
                "start": "CTL34",
                "thickness_factor": 1
              },
              {
                "color": "#15AFAC",
                "directed": true,
                "end": "GRP11",
                "id": 135,
                "label": "IS_IN_GROUP",
                "properties": {
                  "label": "IS_IN_GROUP"
                },
                "start": "CTL34",
                "thickness_factor": 1
              },
              {
                "color": "#15AFAC",
                "directed": true,
                "end": "GRP12",
                "id": 136,
                "label": "IS_IN_GROUP",
                "properties": {
                  "label": "IS_IN_GROUP"
                },
                "start": "CTL34",
                "thickness_factor": 1
              },
              {
                "color": "#15AFAC",
                "directed": true,
                "end": "GRP13",
                "id": 137,
                "label": "IS_IN_GROUP",
                "properties": {
                  "label": "IS_IN_GROUP"
                },
                "start": "CTL34",
                "thickness_factor": 1
              },
              {
                "color": "#15AFAC",
                "directed": true,
                "end": "GRP14",
                "id": 138,
                "label": "IS_IN_GROUP",
                "properties": {
                  "label": "IS_IN_GROUP"
                },
                "start": "CTL34",
                "thickness_factor": 1
              },
              {
                "color": "#15AFAC",
                "directed": true,
                "end": "GRP17",
                "id": 139,
                "label": "IS_IN_GROUP",
                "properties": {
                  "label": "IS_IN_GROUP"
                },
                "start": "CTL34",
                "thickness_factor": 1
              },
              {
                "color": "#15AFAC",
                "directed": true,
                "end": "GRP18",
                "id": 140,
                "label": "IS_IN_GROUP",
                "properties": {
                  "label": "IS_IN_GROUP"
                },
                "start": "CTL34",
                "thickness_factor": 1
              },
              {
                "color": "#15AFAC",
                "directed": true,
                "end": "GRP19",
                "id": 141,
                "label": "IS_IN_GROUP",
                "properties": {
                  "label": "IS_IN_GROUP"
                },
                "start": "CTL34",
                "thickness_factor": 1
              },
              {
                "color": "#15AFAC",
                "directed": true,
                "end": "TYP4",
                "id": 142,
                "label": "IS_OF_TYPE",
                "properties": {
                  "label": "IS_OF_TYPE"
                },
                "start": "CTL34",
                "thickness_factor": 1
              },
              {
                "color": "#15AFAC",
                "directed": true,
                "end": "CAT3",
                "id": 143,
                "label": "IS_IN_CATEGORY",
                "properties": {
                  "label": "IS_IN_CATEGORY"
                },
                "start": "CTL35",
                "thickness_factor": 1
              },
              {
                "color": "#15AFAC",
                "directed": true,
                "end": "GRP11",
                "id": 144,
                "label": "IS_IN_GROUP",
                "properties": {
                  "label": "IS_IN_GROUP"
                },
                "start": "CTL35",
                "thickness_factor": 1
              },
              {
                "color": "#15AFAC",
                "directed": true,
                "end": "GRP12",
                "id": 145,
                "label": "IS_IN_GROUP",
                "properties": {
                  "label": "IS_IN_GROUP"
                },
                "start": "CTL35",
                "thickness_factor": 1
              },
              {
                "color": "#15AFAC",
                "directed": true,
                "end": "GRP13",
                "id": 146,
                "label": "IS_IN_GROUP",
                "properties": {
                  "label": "IS_IN_GROUP"
                },
                "start": "CTL35",
                "thickness_factor": 1
              },
              {
                "color": "#15AFAC",
                "directed": true,
                "end": "GRP14",
                "id": 147,
                "label": "IS_IN_GROUP",
                "properties": {
                  "label": "IS_IN_GROUP"
                },
                "start": "CTL35",
                "thickness_factor": 1
              },
              {
                "color": "#15AFAC",
                "directed": true,
                "end": "GRP17",
                "id": 148,
                "label": "IS_IN_GROUP",
                "properties": {
                  "label": "IS_IN_GROUP"
                },
                "start": "CTL35",
                "thickness_factor": 1
              },
              {
                "color": "#15AFAC",
                "directed": true,
                "end": "GRP18",
                "id": 149,
                "label": "IS_IN_GROUP",
                "properties": {
                  "label": "IS_IN_GROUP"
                },
                "start": "CTL35",
                "thickness_factor": 1
              },
              {
                "color": "#15AFAC",
                "directed": true,
                "end": "GRP19",
                "id": 150,
                "label": "IS_IN_GROUP",
                "properties": {
                  "label": "IS_IN_GROUP"
                },
                "start": "CTL35",
                "thickness_factor": 1
              },
              {
                "color": "#15AFAC",
                "directed": true,
                "end": "TYP3",
                "id": 151,
                "label": "IS_OF_TYPE",
                "properties": {
                  "label": "IS_OF_TYPE"
                },
                "start": "CTL35",
                "thickness_factor": 1
              },
              {
                "color": "#15AFAC",
                "directed": true,
                "end": "CAT3",
                "id": 152,
                "label": "IS_IN_CATEGORY",
                "properties": {
                  "label": "IS_IN_CATEGORY"
                },
                "start": "CTL36",
                "thickness_factor": 1
              },
              {
                "color": "#15AFAC",
                "directed": true,
                "end": "GRP11",
                "id": 153,
                "label": "IS_IN_GROUP",
                "properties": {
                  "label": "IS_IN_GROUP"
                },
                "start": "CTL36",
                "thickness_factor": 1
              },
              {
                "color": "#15AFAC",
                "directed": true,
                "end": "GRP12",
                "id": 154,
                "label": "IS_IN_GROUP",
                "properties": {
                  "label": "IS_IN_GROUP"
                },
                "start": "CTL36",
                "thickness_factor": 1
              },
              {
                "color": "#15AFAC",
                "directed": true,
                "end": "GRP13",
                "id": 155,
                "label": "IS_IN_GROUP",
                "properties": {
                  "label": "IS_IN_GROUP"
                },
                "start": "CTL36",
                "thickness_factor": 1
              },
              {
                "color": "#15AFAC",
                "directed": true,
                "end": "GRP14",
                "id": 156,
                "label": "IS_IN_GROUP",
                "properties": {
                  "label": "IS_IN_GROUP"
                },
                "start": "CTL36",
                "thickness_factor": 1
              },
              {
                "color": "#15AFAC",
                "directed": true,
                "end": "GRP15",
                "id": 157,
                "label": "IS_IN_GROUP",
                "properties": {
                  "label": "IS_IN_GROUP"
                },
                "start": "CTL36",
                "thickness_factor": 1
              },
              {
                "color": "#15AFAC",
                "directed": true,
                "end": "GRP17",
                "id": 158,
                "label": "IS_IN_GROUP",
                "properties": {
                  "label": "IS_IN_GROUP"
                },
                "start": "CTL36",
                "thickness_factor": 1
              },
              {
                "color": "#15AFAC",
                "directed": true,
                "end": "GRP18",
                "id": 159,
                "label": "IS_IN_GROUP",
                "properties": {
                  "label": "IS_IN_GROUP"
                },
                "start": "CTL36",
                "thickness_factor": 1
              },
              {
                "color": "#15AFAC",
                "directed": true,
                "end": "GRP19",
                "id": 160,
                "label": "IS_IN_GROUP",
                "properties": {
                  "label": "IS_IN_GROUP"
                },
                "start": "CTL36",
                "thickness_factor": 1
              },
              {
                "color": "#15AFAC",
                "directed": true,
                "end": "TYP1",
                "id": 161,
                "label": "IS_OF_TYPE",
                "properties": {
                  "label": "IS_OF_TYPE"
                },
                "start": "CTL36",
                "thickness_factor": 1
              }
            ],
            "_graph_layout": {},
            "_highlight": [],
            "_license": {},
            "_model_module": "yfiles-jupyter-graphs",
            "_model_module_version": "^1.6.2",
            "_model_name": "GraphModel",
            "_neighborhood": {},
            "_nodes": [
              {
                "color": "#FF7F50",
                "id": "CTL17",
                "label": "MONITORUSE",
                "position": [
                  0,
                  0
                ],
                "properties": {
                  "URL": "https://owaspai.org/docs/2_threats_through_use/#monitoruse",
                  "label": "MONITORUSE"
                },
                "scale_factor": 1,
                "size": [
                  55,
                  55
                ],
                "styles": {},
                "type": "#FF7F50"
              },
              {
                "color": "#FF7F50",
                "id": "CTL18",
                "label": "RATELIMIT",
                "position": [
                  0,
                  0
                ],
                "properties": {
                  "URL": "https://owaspai.org/docs/2_threats_through_use/#ratelimit",
                  "label": "RATELIMIT"
                },
                "scale_factor": 1,
                "size": [
                  55,
                  55
                ],
                "styles": {},
                "type": "#FF7F50"
              },
              {
                "color": "#FF7F50",
                "id": "CTL19",
                "label": "MODELACCESSCONTROL",
                "position": [
                  0,
                  0
                ],
                "properties": {
                  "URL": "https://owaspai.org/docs/2_threats_through_use/#modelaccesscontrol",
                  "label": "MODELACCESSCONTROL"
                },
                "scale_factor": 1,
                "size": [
                  55,
                  55
                ],
                "styles": {},
                "type": "#FF7F50"
              },
              {
                "color": "#FF7F50",
                "id": "CTL31",
                "label": "DEVDATAPROTECT",
                "position": [
                  0,
                  0
                ],
                "properties": {
                  "URL": "https://owaspai.org/docs/3_development_time_threats/#devdataprotect",
                  "label": "DEVDATAPROTECT"
                },
                "scale_factor": 1,
                "size": [
                  55,
                  55
                ],
                "styles": {},
                "type": "#FF7F50"
              },
              {
                "color": "#FF7F50",
                "id": "CTL32",
                "label": "DEVSECURITY",
                "position": [
                  0,
                  0
                ],
                "properties": {
                  "URL": "https://owaspai.org/docs/3_development_time_threats/#devsecurity",
                  "label": "DEVSECURITY"
                },
                "scale_factor": 1,
                "size": [
                  55,
                  55
                ],
                "styles": {},
                "type": "#FF7F50"
              },
              {
                "color": "#FF7F50",
                "id": "CTL33",
                "label": "SEGREGATEDATA",
                "position": [
                  0,
                  0
                ],
                "properties": {
                  "URL": "https://owaspai.org/docs/3_development_time_threats/#segregatedata",
                  "label": "SEGREGATEDATA"
                },
                "scale_factor": 1,
                "size": [
                  55,
                  55
                ],
                "styles": {},
                "type": "#FF7F50"
              },
              {
                "color": "#FF7F50",
                "id": "CTL34",
                "label": "CONFCOMPUTE",
                "position": [
                  0,
                  0
                ],
                "properties": {
                  "URL": "https://owaspai.org/docs/3_development_time_threats/#confcompute",
                  "label": "CONFCOMPUTE"
                },
                "scale_factor": 1,
                "size": [
                  55,
                  55
                ],
                "styles": {},
                "type": "#FF7F50"
              },
              {
                "color": "#FF7F50",
                "id": "CTL35",
                "label": "FEDERATEDLEARNING",
                "position": [
                  0,
                  0
                ],
                "properties": {
                  "URL": "https://owaspai.org/docs/3_development_time_threats/#federatedlearning",
                  "label": "FEDERATEDLEARNING"
                },
                "scale_factor": 1,
                "size": [
                  55,
                  55
                ],
                "styles": {},
                "type": "#FF7F50"
              },
              {
                "color": "#FF7F50",
                "id": "CTL36",
                "label": "SUPPLYCHAINIMAGE",
                "position": [
                  0,
                  0
                ],
                "properties": {
                  "URL": "https://owaspai.org/docs/3_development_time_threats/#supplychainmanage",
                  "label": "SUPPLYCHAINIMAGE"
                },
                "scale_factor": 1,
                "size": [
                  55,
                  55
                ],
                "styles": {},
                "type": "#FF7F50"
              },
              {
                "color": "#00BFFF",
                "id": "CAT2",
                "label": "Threats Through Use Controls",
                "position": [
                  0,
                  0
                ],
                "properties": {
                  "label": "Threats Through Use Controls"
                },
                "scale_factor": 1,
                "size": [
                  55,
                  55
                ],
                "styles": {},
                "type": "#00BFFF"
              },
              {
                "color": "#00BFFF",
                "id": "CAT3",
                "label": "Development-time Threat Controls",
                "position": [
                  0,
                  0
                ],
                "properties": {
                  "label": "Development-time Threat Controls"
                },
                "scale_factor": 1,
                "size": [
                  55,
                  55
                ],
                "styles": {},
                "type": "#00BFFF"
              },
              {
                "color": "#3CB371",
                "id": "GRP4",
                "label": "Always Against Use Threats",
                "position": [
                  0,
                  0
                ],
                "properties": {
                  "label": "Always Against Use Threats"
                },
                "scale_factor": 1,
                "size": [
                  55,
                  55
                ],
                "styles": {},
                "type": "#3CB371"
              },
              {
                "color": "#3CB371",
                "id": "GRP5",
                "label": "Against Evasion",
                "position": [
                  0,
                  0
                ],
                "properties": {
                  "label": "Against Evasion"
                },
                "scale_factor": 1,
                "size": [
                  55,
                  55
                ],
                "styles": {},
                "type": "#3CB371"
              },
              {
                "color": "#3CB371",
                "id": "GRP7",
                "label": "Against Data Disclosure by Model",
                "position": [
                  0,
                  0
                ],
                "properties": {
                  "label": "Against Data Disclosure by Model"
                },
                "scale_factor": 1,
                "size": [
                  55,
                  55
                ],
                "styles": {},
                "type": "#3CB371"
              },
              {
                "color": "#3CB371",
                "id": "GRP8",
                "label": "Against Model Inversion and Membership Inference",
                "position": [
                  0,
                  0
                ],
                "properties": {
                  "label": "Against Model Inversion and Membership Inference"
                },
                "scale_factor": 1,
                "size": [
                  55,
                  55
                ],
                "styles": {},
                "type": "#3CB371"
              },
              {
                "color": "#3CB371",
                "id": "GRP9",
                "label": "Against Model Theft by Use",
                "position": [
                  0,
                  0
                ],
                "properties": {
                  "label": "Against Model Theft by Use"
                },
                "scale_factor": 1,
                "size": [
                  55,
                  55
                ],
                "styles": {},
                "type": "#3CB371"
              },
              {
                "color": "#3CB371",
                "id": "GRP10",
                "label": "Against Failure by Use",
                "position": [
                  0,
                  0
                ],
                "properties": {
                  "label": "Against Failure by Use"
                },
                "scale_factor": 1,
                "size": [
                  55,
                  55
                ],
                "styles": {},
                "type": "#3CB371"
              },
              {
                "color": "#3CB371",
                "id": "GRP11",
                "label": "Always Against Dev-Time Threats",
                "position": [
                  0,
                  0
                ],
                "properties": {
                  "label": "Always Against Dev-Time Threats"
                },
                "scale_factor": 1,
                "size": [
                  55,
                  55
                ],
                "styles": {},
                "type": "#3CB371"
              },
              {
                "color": "#3CB371",
                "id": "GRP12",
                "label": "Against Broad Model Poisoning",
                "position": [
                  0,
                  0
                ],
                "properties": {
                  "label": "Against Broad Model Poisoning"
                },
                "scale_factor": 1,
                "size": [
                  55,
                  55
                ],
                "styles": {},
                "type": "#3CB371"
              },
              {
                "color": "#3CB371",
                "id": "GRP13",
                "label": "Against Data Poisoning",
                "position": [
                  0,
                  0
                ],
                "properties": {
                  "label": "Against Data Poisoning"
                },
                "scale_factor": 1,
                "size": [
                  55,
                  55
                ],
                "styles": {},
                "type": "#3CB371"
              },
              {
                "color": "#3CB371",
                "id": "GRP14",
                "label": "Against Dev-Time Model Poisoning",
                "position": [
                  0,
                  0
                ],
                "properties": {
                  "label": "Against Dev-Time Model Poisoning"
                },
                "scale_factor": 1,
                "size": [
                  55,
                  55
                ],
                "styles": {},
                "type": "#3CB371"
              },
              {
                "color": "#3CB371",
                "id": "GRP15",
                "label": "Against Transfer Learning Attacks",
                "position": [
                  0,
                  0
                ],
                "properties": {
                  "label": "Against Transfer Learning Attacks"
                },
                "scale_factor": 1,
                "size": [
                  55,
                  55
                ],
                "styles": {},
                "type": "#3CB371"
              },
              {
                "color": "#3CB371",
                "id": "GRP17",
                "label": "Against Train/Test Data Leak",
                "position": [
                  0,
                  0
                ],
                "properties": {
                  "label": "Against Train/Test Data Leak"
                },
                "scale_factor": 1,
                "size": [
                  55,
                  55
                ],
                "styles": {},
                "type": "#3CB371"
              },
              {
                "color": "#3CB371",
                "id": "GRP18",
                "label": "Against Dev-Time Model Leak",
                "position": [
                  0,
                  0
                ],
                "properties": {
                  "label": "Against Dev-Time Model Leak"
                },
                "scale_factor": 1,
                "size": [
                  55,
                  55
                ],
                "styles": {},
                "type": "#3CB371"
              },
              {
                "color": "#3CB371",
                "id": "GRP19",
                "label": "Against Source Code/Config Leak",
                "position": [
                  0,
                  0
                ],
                "properties": {
                  "label": "Against Source Code/Config Leak"
                },
                "scale_factor": 1,
                "size": [
                  55,
                  55
                ],
                "styles": {},
                "type": "#3CB371"
              },
              {
                "color": "#DAA520",
                "id": "TYP1",
                "label": "Standard InfoSec Control",
                "position": [
                  0,
                  0
                ],
                "properties": {
                  "label": "Standard InfoSec Control"
                },
                "scale_factor": 1,
                "size": [
                  55,
                  55
                ],
                "styles": {},
                "type": "#DAA520"
              },
              {
                "color": "#DAA520",
                "id": "TYP3",
                "label": "Development-time Data Science Control",
                "position": [
                  0,
                  0
                ],
                "properties": {
                  "label": "Development-time Data Science Control"
                },
                "scale_factor": 1,
                "size": [
                  55,
                  55
                ],
                "styles": {},
                "type": "#DAA520"
              },
              {
                "color": "#DAA520",
                "id": "TYP4",
                "label": "Other Control",
                "position": [
                  0,
                  0
                ],
                "properties": {
                  "label": "Other Control"
                },
                "scale_factor": 1,
                "size": [
                  55,
                  55
                ],
                "styles": {},
                "type": "#DAA520"
              }
            ],
            "_overview": {
              "enabled": null,
              "overview_set": false
            },
            "_selected_graph": [
              [
                {
                  "id": "CTL19",
                  "properties": {
                    "URL": "https://owaspai.org/docs/2_threats_through_use/#modelaccesscontrol",
                    "label": "MODELACCESSCONTROL"
                  }
                }
              ],
              []
            ],
            "_sidebar": {
              "enabled": true,
              "start_with": ""
            },
            "_view_count": null,
            "_view_module": "yfiles-jupyter-graphs",
            "_view_module_version": "^1.6.2",
            "_view_name": "GraphView",
            "layout": "IPY_MODEL_3c3daa5784ff4a60ad397c4184309f28"
          }
        },
        "a155a9e56624429c962ccfce4b37912d": {
          "model_module": "yfiles-jupyter-graphs",
          "model_module_version": "^1.6.2",
          "model_name": "GraphModel",
          "state": {
            "_context_pane_mapping": [
              {
                "id": "Neighborhood",
                "title": "Neighborhood"
              },
              {
                "id": "Data",
                "title": "Data"
              },
              {
                "id": "Search",
                "title": "Search"
              },
              {
                "id": "About",
                "title": "About"
              }
            ],
            "_data_importer": "unknown",
            "_directed": true,
            "_dom_classes": [],
            "_edges": [
              {
                "color": "#15AFAC",
                "directed": true,
                "end": "CAT1",
                "id": 1,
                "label": "IS_IN_CATEGORY",
                "properties": {
                  "label": "IS_IN_CATEGORY"
                },
                "start": "CTL1",
                "thickness_factor": 1
              },
              {
                "color": "#15AFAC",
                "directed": true,
                "end": "CAT1",
                "id": 4,
                "label": "IS_IN_CATEGORY",
                "properties": {
                  "label": "IS_IN_CATEGORY"
                },
                "start": "CTL2",
                "thickness_factor": 1
              },
              {
                "color": "#15AFAC",
                "directed": true,
                "end": "CAT1",
                "id": 7,
                "label": "IS_IN_CATEGORY",
                "properties": {
                  "label": "IS_IN_CATEGORY"
                },
                "start": "CTL3",
                "thickness_factor": 1
              },
              {
                "color": "#15AFAC",
                "directed": true,
                "end": "CAT1",
                "id": 10,
                "label": "IS_IN_CATEGORY",
                "properties": {
                  "label": "IS_IN_CATEGORY"
                },
                "start": "CTL4",
                "thickness_factor": 1
              },
              {
                "color": "#15AFAC",
                "directed": true,
                "end": "CAT1",
                "id": 13,
                "label": "IS_IN_CATEGORY",
                "properties": {
                  "label": "IS_IN_CATEGORY"
                },
                "start": "CTL5",
                "thickness_factor": 1
              },
              {
                "color": "#15AFAC",
                "directed": true,
                "end": "CAT1",
                "id": 16,
                "label": "IS_IN_CATEGORY",
                "properties": {
                  "label": "IS_IN_CATEGORY"
                },
                "start": "CTL6",
                "thickness_factor": 1
              },
              {
                "color": "#15AFAC",
                "directed": true,
                "end": "CAT1",
                "id": 19,
                "label": "IS_IN_CATEGORY",
                "properties": {
                  "label": "IS_IN_CATEGORY"
                },
                "start": "CTL7",
                "thickness_factor": 1
              },
              {
                "color": "#15AFAC",
                "directed": true,
                "end": "CAT1",
                "id": 22,
                "label": "IS_IN_CATEGORY",
                "properties": {
                  "label": "IS_IN_CATEGORY"
                },
                "start": "CTL8",
                "thickness_factor": 1
              },
              {
                "color": "#15AFAC",
                "directed": true,
                "end": "CAT1",
                "id": 25,
                "label": "IS_IN_CATEGORY",
                "properties": {
                  "label": "IS_IN_CATEGORY"
                },
                "start": "CTL9",
                "thickness_factor": 1
              },
              {
                "color": "#15AFAC",
                "directed": true,
                "end": "CAT1",
                "id": 28,
                "label": "IS_IN_CATEGORY",
                "properties": {
                  "label": "IS_IN_CATEGORY"
                },
                "start": "CTL10",
                "thickness_factor": 1
              },
              {
                "color": "#15AFAC",
                "directed": true,
                "end": "CAT1",
                "id": 32,
                "label": "IS_IN_CATEGORY",
                "properties": {
                  "label": "IS_IN_CATEGORY"
                },
                "start": "CTL11",
                "thickness_factor": 1
              },
              {
                "color": "#15AFAC",
                "directed": true,
                "end": "CAT1",
                "id": 35,
                "label": "IS_IN_CATEGORY",
                "properties": {
                  "label": "IS_IN_CATEGORY"
                },
                "start": "CTL12",
                "thickness_factor": 1
              },
              {
                "color": "#15AFAC",
                "directed": true,
                "end": "CAT1",
                "id": 38,
                "label": "IS_IN_CATEGORY",
                "properties": {
                  "label": "IS_IN_CATEGORY"
                },
                "start": "CTL13",
                "thickness_factor": 1
              },
              {
                "color": "#15AFAC",
                "directed": true,
                "end": "CAT1",
                "id": 41,
                "label": "IS_IN_CATEGORY",
                "properties": {
                  "label": "IS_IN_CATEGORY"
                },
                "start": "CTL14",
                "thickness_factor": 1
              },
              {
                "color": "#15AFAC",
                "directed": true,
                "end": "CAT1",
                "id": 44,
                "label": "IS_IN_CATEGORY",
                "properties": {
                  "label": "IS_IN_CATEGORY"
                },
                "start": "CTL15",
                "thickness_factor": 1
              },
              {
                "color": "#15AFAC",
                "directed": true,
                "end": "CAT1",
                "id": 47,
                "label": "IS_IN_CATEGORY",
                "properties": {
                  "label": "IS_IN_CATEGORY"
                },
                "start": "CTL16",
                "thickness_factor": 1
              },
              {
                "color": "#15AFAC",
                "directed": true,
                "end": "CAT2",
                "id": 50,
                "label": "IS_IN_CATEGORY",
                "properties": {
                  "label": "IS_IN_CATEGORY"
                },
                "start": "CTL17",
                "thickness_factor": 1
              },
              {
                "color": "#15AFAC",
                "directed": true,
                "end": "CAT2",
                "id": 58,
                "label": "IS_IN_CATEGORY",
                "properties": {
                  "label": "IS_IN_CATEGORY"
                },
                "start": "CTL18",
                "thickness_factor": 1
              },
              {
                "color": "#15AFAC",
                "directed": true,
                "end": "CAT2",
                "id": 66,
                "label": "IS_IN_CATEGORY",
                "properties": {
                  "label": "IS_IN_CATEGORY"
                },
                "start": "CTL19",
                "thickness_factor": 1
              },
              {
                "color": "#15AFAC",
                "directed": true,
                "end": "CAT2",
                "id": 74,
                "label": "IS_IN_CATEGORY",
                "properties": {
                  "label": "IS_IN_CATEGORY"
                },
                "start": "CTL20",
                "thickness_factor": 1
              },
              {
                "color": "#15AFAC",
                "directed": true,
                "end": "CAT2",
                "id": 77,
                "label": "IS_IN_CATEGORY",
                "properties": {
                  "label": "IS_IN_CATEGORY"
                },
                "start": "CTL21",
                "thickness_factor": 1
              },
              {
                "color": "#15AFAC",
                "directed": true,
                "end": "CAT2",
                "id": 80,
                "label": "IS_IN_CATEGORY",
                "properties": {
                  "label": "IS_IN_CATEGORY"
                },
                "start": "CTL22",
                "thickness_factor": 1
              },
              {
                "color": "#15AFAC",
                "directed": true,
                "end": "CAT2",
                "id": 83,
                "label": "IS_IN_CATEGORY",
                "properties": {
                  "label": "IS_IN_CATEGORY"
                },
                "start": "CTL23",
                "thickness_factor": 1
              },
              {
                "color": "#15AFAC",
                "directed": true,
                "end": "CAT2",
                "id": 86,
                "label": "IS_IN_CATEGORY",
                "properties": {
                  "label": "IS_IN_CATEGORY"
                },
                "start": "CTL24",
                "thickness_factor": 1
              },
              {
                "color": "#15AFAC",
                "directed": true,
                "end": "CAT2",
                "id": 89,
                "label": "IS_IN_CATEGORY",
                "properties": {
                  "label": "IS_IN_CATEGORY"
                },
                "start": "CTL25",
                "thickness_factor": 1
              },
              {
                "color": "#15AFAC",
                "directed": true,
                "end": "CAT2",
                "id": 92,
                "label": "IS_IN_CATEGORY",
                "properties": {
                  "label": "IS_IN_CATEGORY"
                },
                "start": "CTL26",
                "thickness_factor": 1
              },
              {
                "color": "#15AFAC",
                "directed": true,
                "end": "CAT2",
                "id": 95,
                "label": "IS_IN_CATEGORY",
                "properties": {
                  "label": "IS_IN_CATEGORY"
                },
                "start": "CTL27",
                "thickness_factor": 1
              },
              {
                "color": "#15AFAC",
                "directed": true,
                "end": "CAT2",
                "id": 98,
                "label": "IS_IN_CATEGORY",
                "properties": {
                  "label": "IS_IN_CATEGORY"
                },
                "start": "CTL28",
                "thickness_factor": 1
              },
              {
                "color": "#15AFAC",
                "directed": true,
                "end": "CAT2",
                "id": 101,
                "label": "IS_IN_CATEGORY",
                "properties": {
                  "label": "IS_IN_CATEGORY"
                },
                "start": "CTL29",
                "thickness_factor": 1
              },
              {
                "color": "#15AFAC",
                "directed": true,
                "end": "CAT2",
                "id": 104,
                "label": "IS_IN_CATEGORY",
                "properties": {
                  "label": "IS_IN_CATEGORY"
                },
                "start": "CTL30",
                "thickness_factor": 1
              },
              {
                "color": "#15AFAC",
                "directed": true,
                "end": "CAT3",
                "id": 107,
                "label": "IS_IN_CATEGORY",
                "properties": {
                  "label": "IS_IN_CATEGORY"
                },
                "start": "CTL31",
                "thickness_factor": 1
              },
              {
                "color": "#15AFAC",
                "directed": true,
                "end": "CAT3",
                "id": 116,
                "label": "IS_IN_CATEGORY",
                "properties": {
                  "label": "IS_IN_CATEGORY"
                },
                "start": "CTL32",
                "thickness_factor": 1
              },
              {
                "color": "#15AFAC",
                "directed": true,
                "end": "CAT3",
                "id": 125,
                "label": "IS_IN_CATEGORY",
                "properties": {
                  "label": "IS_IN_CATEGORY"
                },
                "start": "CTL33",
                "thickness_factor": 1
              },
              {
                "color": "#15AFAC",
                "directed": true,
                "end": "CAT3",
                "id": 134,
                "label": "IS_IN_CATEGORY",
                "properties": {
                  "label": "IS_IN_CATEGORY"
                },
                "start": "CTL34",
                "thickness_factor": 1
              },
              {
                "color": "#15AFAC",
                "directed": true,
                "end": "CAT3",
                "id": 143,
                "label": "IS_IN_CATEGORY",
                "properties": {
                  "label": "IS_IN_CATEGORY"
                },
                "start": "CTL35",
                "thickness_factor": 1
              },
              {
                "color": "#15AFAC",
                "directed": true,
                "end": "CAT3",
                "id": 152,
                "label": "IS_IN_CATEGORY",
                "properties": {
                  "label": "IS_IN_CATEGORY"
                },
                "start": "CTL36",
                "thickness_factor": 1
              },
              {
                "color": "#15AFAC",
                "directed": true,
                "end": "CAT3",
                "id": 162,
                "label": "IS_IN_CATEGORY",
                "properties": {
                  "label": "IS_IN_CATEGORY"
                },
                "start": "CTL37",
                "thickness_factor": 1
              },
              {
                "color": "#15AFAC",
                "directed": true,
                "end": "CAT3",
                "id": 165,
                "label": "IS_IN_CATEGORY",
                "properties": {
                  "label": "IS_IN_CATEGORY"
                },
                "start": "CTL38",
                "thickness_factor": 1
              },
              {
                "color": "#15AFAC",
                "directed": true,
                "end": "CAT3",
                "id": 168,
                "label": "IS_IN_CATEGORY",
                "properties": {
                  "label": "IS_IN_CATEGORY"
                },
                "start": "CTL39",
                "thickness_factor": 1
              },
              {
                "color": "#15AFAC",
                "directed": true,
                "end": "CAT3",
                "id": 171,
                "label": "IS_IN_CATEGORY",
                "properties": {
                  "label": "IS_IN_CATEGORY"
                },
                "start": "CTL40",
                "thickness_factor": 1
              },
              {
                "color": "#15AFAC",
                "directed": true,
                "end": "CAT3",
                "id": 174,
                "label": "IS_IN_CATEGORY",
                "properties": {
                  "label": "IS_IN_CATEGORY"
                },
                "start": "CTL41",
                "thickness_factor": 1
              },
              {
                "color": "#15AFAC",
                "directed": true,
                "end": "CAT4",
                "id": 177,
                "label": "IS_IN_CATEGORY",
                "properties": {
                  "label": "IS_IN_CATEGORY"
                },
                "start": "CTL42",
                "thickness_factor": 1
              },
              {
                "color": "#15AFAC",
                "directed": true,
                "end": "CAT4",
                "id": 180,
                "label": "IS_IN_CATEGORY",
                "properties": {
                  "label": "IS_IN_CATEGORY"
                },
                "start": "CTL43",
                "thickness_factor": 1
              },
              {
                "color": "#15AFAC",
                "directed": true,
                "end": "CAT4",
                "id": 183,
                "label": "IS_IN_CATEGORY",
                "properties": {
                  "label": "IS_IN_CATEGORY"
                },
                "start": "CTL44",
                "thickness_factor": 1
              },
              {
                "color": "#15AFAC",
                "directed": true,
                "end": "CAT4",
                "id": 186,
                "label": "IS_IN_CATEGORY",
                "properties": {
                  "label": "IS_IN_CATEGORY"
                },
                "start": "CTL45",
                "thickness_factor": 1
              },
              {
                "color": "#15AFAC",
                "directed": true,
                "end": "CAT4",
                "id": 189,
                "label": "IS_IN_CATEGORY",
                "properties": {
                  "label": "IS_IN_CATEGORY"
                },
                "start": "CTL46",
                "thickness_factor": 1
              },
              {
                "color": "#15AFAC",
                "directed": true,
                "end": "CAT4",
                "id": 192,
                "label": "IS_IN_CATEGORY",
                "properties": {
                  "label": "IS_IN_CATEGORY"
                },
                "start": "CTL47",
                "thickness_factor": 1
              },
              {
                "color": "#15AFAC",
                "directed": true,
                "end": "CAT4",
                "id": 195,
                "label": "IS_IN_CATEGORY",
                "properties": {
                  "label": "IS_IN_CATEGORY"
                },
                "start": "CTL48",
                "thickness_factor": 1
              },
              {
                "color": "#15AFAC",
                "directed": true,
                "end": "CAT4",
                "id": 198,
                "label": "IS_IN_CATEGORY",
                "properties": {
                  "label": "IS_IN_CATEGORY"
                },
                "start": "CTL49",
                "thickness_factor": 1
              },
              {
                "color": "#15AFAC",
                "directed": true,
                "end": "CAT4",
                "id": 201,
                "label": "IS_IN_CATEGORY",
                "properties": {
                  "label": "IS_IN_CATEGORY"
                },
                "start": "CTL50",
                "thickness_factor": 1
              },
              {
                "color": "#15AFAC",
                "directed": true,
                "end": "CAT4",
                "id": 204,
                "label": "IS_IN_CATEGORY",
                "properties": {
                  "label": "IS_IN_CATEGORY"
                },
                "start": "CTL51",
                "thickness_factor": 1
              },
              {
                "color": "#15AFAC",
                "directed": true,
                "end": "CAT4",
                "id": 207,
                "label": "IS_IN_CATEGORY",
                "properties": {
                  "label": "IS_IN_CATEGORY"
                },
                "start": "CTL52",
                "thickness_factor": 1
              }
            ],
            "_graph_layout": {},
            "_highlight": [],
            "_license": {},
            "_model_module": "yfiles-jupyter-graphs",
            "_model_module_version": "^1.6.2",
            "_model_name": "GraphModel",
            "_neighborhood": {},
            "_nodes": [
              {
                "color": "#00BFFF",
                "id": "CAT1",
                "label": "General Controls",
                "position": [
                  0,
                  0
                ],
                "properties": {
                  "label": "General Controls"
                },
                "scale_factor": 1,
                "size": [
                  55,
                  55
                ],
                "styles": {},
                "type": "#00BFFF"
              },
              {
                "color": "#00BFFF",
                "id": "CAT2",
                "label": "Threats Through Use Controls",
                "position": [
                  0,
                  0
                ],
                "properties": {
                  "label": "Threats Through Use Controls"
                },
                "scale_factor": 1,
                "size": [
                  55,
                  55
                ],
                "styles": {},
                "type": "#00BFFF"
              },
              {
                "color": "#00BFFF",
                "id": "CAT3",
                "label": "Development-time Threat Controls",
                "position": [
                  0,
                  0
                ],
                "properties": {
                  "label": "Development-time Threat Controls"
                },
                "scale_factor": 1,
                "size": [
                  55,
                  55
                ],
                "styles": {},
                "type": "#00BFFF"
              },
              {
                "color": "#00BFFF",
                "id": "CAT4",
                "label": "Runtime Application Security Threats Controls",
                "position": [
                  0,
                  0
                ],
                "properties": {
                  "label": "Runtime Application Security Threats Controls"
                },
                "scale_factor": 1,
                "size": [
                  55,
                  55
                ],
                "styles": {},
                "type": "#00BFFF"
              },
              {
                "color": "#FF7F50",
                "id": "CTL1",
                "label": "AIPROGRAM",
                "position": [
                  0,
                  0
                ],
                "properties": {
                  "URL": "https://owaspai.org/docs/1_general_controls/#aiprogram",
                  "label": "AIPROGRAM"
                },
                "scale_factor": 1,
                "size": [
                  55,
                  55
                ],
                "styles": {},
                "type": "#FF7F50"
              },
              {
                "color": "#FF7F50",
                "id": "CTL2",
                "label": "SECPROGRAM",
                "position": [
                  0,
                  0
                ],
                "properties": {
                  "URL": "https://owaspai.org/docs/1_general_controls/#secprogram",
                  "label": "SECPROGRAM"
                },
                "scale_factor": 1,
                "size": [
                  55,
                  55
                ],
                "styles": {},
                "type": "#FF7F50"
              },
              {
                "color": "#FF7F50",
                "id": "CTL3",
                "label": "SECDEVPROGRAM",
                "position": [
                  0,
                  0
                ],
                "properties": {
                  "URL": "https://owaspai.org/docs/1_general_controls/#secdevprogram",
                  "label": "SECDEVPROGRAM"
                },
                "scale_factor": 1,
                "size": [
                  55,
                  55
                ],
                "styles": {},
                "type": "#FF7F50"
              },
              {
                "color": "#FF7F50",
                "id": "CTL4",
                "label": "DEVPROGRAM",
                "position": [
                  0,
                  0
                ],
                "properties": {
                  "URL": "https://owaspai.org/docs/1_general_controls/#devprogram",
                  "label": "DEVPROGRAM"
                },
                "scale_factor": 1,
                "size": [
                  55,
                  55
                ],
                "styles": {},
                "type": "#FF7F50"
              },
              {
                "color": "#FF7F50",
                "id": "CTL5",
                "label": "CHECKCOMPLIANCE",
                "position": [
                  0,
                  0
                ],
                "properties": {
                  "URL": "https://owaspai.org/docs/1_general_controls/#checkcompliance",
                  "label": "CHECKCOMPLIANCE"
                },
                "scale_factor": 1,
                "size": [
                  55,
                  55
                ],
                "styles": {},
                "type": "#FF7F50"
              },
              {
                "color": "#FF7F50",
                "id": "CTL6",
                "label": "SECEDUCATE",
                "position": [
                  0,
                  0
                ],
                "properties": {
                  "URL": "https://owaspai.org/docs/1_general_controls/#seceducate",
                  "label": "SECEDUCATE"
                },
                "scale_factor": 1,
                "size": [
                  55,
                  55
                ],
                "styles": {},
                "type": "#FF7F50"
              },
              {
                "color": "#FF7F50",
                "id": "CTL7",
                "label": "OVERSIGHT",
                "position": [
                  0,
                  0
                ],
                "properties": {
                  "URL": "https://owaspai.org/docs/1_general_controls/#oversight",
                  "label": "OVERSIGHT"
                },
                "scale_factor": 1,
                "size": [
                  55,
                  55
                ],
                "styles": {},
                "type": "#FF7F50"
              },
              {
                "color": "#FF7F50",
                "id": "CTL8",
                "label": "LEASTMODELPRIVILEGE",
                "position": [
                  0,
                  0
                ],
                "properties": {
                  "URL": "https://owaspai.org/docs/1_general_controls/#leastmodelprivilege",
                  "label": "LEASTMODELPRIVILEGE"
                },
                "scale_factor": 1,
                "size": [
                  55,
                  55
                ],
                "styles": {},
                "type": "#FF7F50"
              },
              {
                "color": "#FF7F50",
                "id": "CTL9",
                "label": "AITRANSPARENCY",
                "position": [
                  0,
                  0
                ],
                "properties": {
                  "URL": "https://owaspai.org/docs/1_general_controls/#aitransparency",
                  "label": "AITRANSPARENCY"
                },
                "scale_factor": 1,
                "size": [
                  55,
                  55
                ],
                "styles": {},
                "type": "#FF7F50"
              },
              {
                "color": "#FF7F50",
                "id": "CTL10",
                "label": "CONTINUOUSVALIDATION",
                "position": [
                  0,
                  0
                ],
                "properties": {
                  "URL": "https://owaspai.org/docs/1_general_controls/#continuousvalidation",
                  "label": "CONTINUOUSVALIDATION"
                },
                "scale_factor": 1,
                "size": [
                  55,
                  55
                ],
                "styles": {},
                "type": "#FF7F50"
              },
              {
                "color": "#FF7F50",
                "id": "CTL11",
                "label": "EXPLAINABILITY",
                "position": [
                  0,
                  0
                ],
                "properties": {
                  "URL": "https://owaspai.org/docs/1_general_controls/#explainability",
                  "label": "EXPLAINABILITY"
                },
                "scale_factor": 1,
                "size": [
                  55,
                  55
                ],
                "styles": {},
                "type": "#FF7F50"
              },
              {
                "color": "#FF7F50",
                "id": "CTL12",
                "label": "UNWANTEDBIASTESTING",
                "position": [
                  0,
                  0
                ],
                "properties": {
                  "URL": "https://owaspai.org/docs/1_general_controls/#unwantedbiastesting",
                  "label": "UNWANTEDBIASTESTING"
                },
                "scale_factor": 1,
                "size": [
                  55,
                  55
                ],
                "styles": {},
                "type": "#FF7F50"
              },
              {
                "color": "#FF7F50",
                "id": "CTL13",
                "label": "DATAMINIMIZE",
                "position": [
                  0,
                  0
                ],
                "properties": {
                  "URL": "https://owaspai.org/docs/1_general_controls/#dataminimize",
                  "label": "DATAMINIMIZE"
                },
                "scale_factor": 1,
                "size": [
                  55,
                  55
                ],
                "styles": {},
                "type": "#FF7F50"
              },
              {
                "color": "#FF7F50",
                "id": "CTL14",
                "label": "ALLOWEDDATA",
                "position": [
                  0,
                  0
                ],
                "properties": {
                  "URL": "https://owaspai.org/docs/1_general_controls/#alloweddata",
                  "label": "ALLOWEDDATA"
                },
                "scale_factor": 1,
                "size": [
                  55,
                  55
                ],
                "styles": {},
                "type": "#FF7F50"
              },
              {
                "color": "#FF7F50",
                "id": "CTL15",
                "label": "SHORTRETAIN",
                "position": [
                  0,
                  0
                ],
                "properties": {
                  "URL": "https://owaspai.org/docs/1_general_controls/#shortretain",
                  "label": "SHORTRETAIN"
                },
                "scale_factor": 1,
                "size": [
                  55,
                  55
                ],
                "styles": {},
                "type": "#FF7F50"
              },
              {
                "color": "#FF7F50",
                "id": "CTL15",
                "label": "OBFUSCATETRAININGDATA",
                "position": [
                  0,
                  0
                ],
                "properties": {
                  "URL": "https://owaspai.org/docs/1_general_controls/#obfuscatetrainingdata",
                  "label": "OBFUSCATETRAININGDATA"
                },
                "scale_factor": 1,
                "size": [
                  55,
                  55
                ],
                "styles": {},
                "type": "#FF7F50"
              },
              {
                "color": "#FF7F50",
                "id": "CTL16",
                "label": "DISCRETE",
                "position": [
                  0,
                  0
                ],
                "properties": {
                  "URL": "https://owaspai.org/docs/1_general_controls/#discrete",
                  "label": "DISCRETE"
                },
                "scale_factor": 1,
                "size": [
                  55,
                  55
                ],
                "styles": {},
                "type": "#FF7F50"
              },
              {
                "color": "#FF7F50",
                "id": "CTL17",
                "label": "MONITORUSE",
                "position": [
                  0,
                  0
                ],
                "properties": {
                  "URL": "https://owaspai.org/docs/2_threats_through_use/#monitoruse",
                  "label": "MONITORUSE"
                },
                "scale_factor": 1,
                "size": [
                  55,
                  55
                ],
                "styles": {},
                "type": "#FF7F50"
              },
              {
                "color": "#FF7F50",
                "id": "CTL18",
                "label": "RATELIMIT",
                "position": [
                  0,
                  0
                ],
                "properties": {
                  "URL": "https://owaspai.org/docs/2_threats_through_use/#ratelimit",
                  "label": "RATELIMIT"
                },
                "scale_factor": 1,
                "size": [
                  55,
                  55
                ],
                "styles": {},
                "type": "#FF7F50"
              },
              {
                "color": "#FF7F50",
                "id": "CTL19",
                "label": "MODELACCESSCONTROL",
                "position": [
                  0,
                  0
                ],
                "properties": {
                  "URL": "https://owaspai.org/docs/2_threats_through_use/#modelaccesscontrol",
                  "label": "MODELACCESSCONTROL"
                },
                "scale_factor": 1,
                "size": [
                  55,
                  55
                ],
                "styles": {},
                "type": "#FF7F50"
              },
              {
                "color": "#FF7F50",
                "id": "CTL20",
                "label": "DETECTODDINPUT",
                "position": [
                  0,
                  0
                ],
                "properties": {
                  "URL": "https://owaspai.org/docs/2_threats_through_use/#detectoddinput",
                  "label": "DETECTODDINPUT"
                },
                "scale_factor": 1,
                "size": [
                  55,
                  55
                ],
                "styles": {},
                "type": "#FF7F50"
              },
              {
                "color": "#FF7F50",
                "id": "CTL21",
                "label": "DETECTADVERSARIALINPUT",
                "position": [
                  0,
                  0
                ],
                "properties": {
                  "URL": "https://owaspai.org/docs/2_threats_through_use/#detectadversarialinput",
                  "label": "DETECTADVERSARIALINPUT"
                },
                "scale_factor": 1,
                "size": [
                  55,
                  55
                ],
                "styles": {},
                "type": "#FF7F50"
              },
              {
                "color": "#FF7F50",
                "id": "CTL22",
                "label": "EVASIONROBUSTMODEL",
                "position": [
                  0,
                  0
                ],
                "properties": {
                  "URL": "https://owaspai.org/docs/2_threats_through_use/#evasionrobustmodel",
                  "label": "EVASIONROBUSTMODEL"
                },
                "scale_factor": 1,
                "size": [
                  55,
                  55
                ],
                "styles": {},
                "type": "#FF7F50"
              },
              {
                "color": "#FF7F50",
                "id": "CTL23",
                "label": "TRAINADVERSARIAL",
                "position": [
                  0,
                  0
                ],
                "properties": {
                  "URL": "https://owaspai.org/docs/2_threats_through_use/#trainadversarial",
                  "label": "TRAINADVERSARIAL"
                },
                "scale_factor": 1,
                "size": [
                  55,
                  55
                ],
                "styles": {},
                "type": "#FF7F50"
              },
              {
                "color": "#FF7F50",
                "id": "CTL24",
                "label": "INPUTDISTORTION",
                "position": [
                  0,
                  0
                ],
                "properties": {
                  "URL": "https://owaspai.org/docs/2_threats_through_use/#inputdistortion",
                  "label": "INPUTDISTORTION"
                },
                "scale_factor": 1,
                "size": [
                  55,
                  55
                ],
                "styles": {},
                "type": "#FF7F50"
              },
              {
                "color": "#FF7F50",
                "id": "CTL25",
                "label": "ADVERSARIALROBUSTDISTILLATION",
                "position": [
                  0,
                  0
                ],
                "properties": {
                  "URL": "https://owaspai.org/docs/2_threats_through_use/#adversarialrobustdistillation",
                  "label": "ADVERSARIALROBUSTDISTILLATION"
                },
                "scale_factor": 1,
                "size": [
                  55,
                  55
                ],
                "styles": {},
                "type": "#FF7F50"
              },
              {
                "color": "#FF7F50",
                "id": "CTL26",
                "label": "FILTERSENSITIVEMODELOUTPUT",
                "position": [
                  0,
                  0
                ],
                "properties": {
                  "URL": "https://owaspai.org/docs/2_threats_through_use/#filtersensitivemodeloutput",
                  "label": "FILTERSENSITIVEMODELOUTPUT"
                },
                "scale_factor": 1,
                "size": [
                  55,
                  55
                ],
                "styles": {},
                "type": "#FF7F50"
              },
              {
                "color": "#FF7F50",
                "id": "CTL27",
                "label": "OBSCURECONFIDENCE",
                "position": [
                  0,
                  0
                ],
                "properties": {
                  "URL": "https://owaspai.org/docs/2_threats_through_use/#obscureconfidence",
                  "label": "OBSCURECONFIDENCE"
                },
                "scale_factor": 1,
                "size": [
                  55,
                  55
                ],
                "styles": {},
                "type": "#FF7F50"
              },
              {
                "color": "#FF7F50",
                "id": "CTL28",
                "label": "SMALLMODEL",
                "position": [
                  0,
                  0
                ],
                "properties": {
                  "URL": "https://owaspai.org/docs/2_threats_through_use/#smallmodel",
                  "label": "SMALLMODEL"
                },
                "scale_factor": 1,
                "size": [
                  55,
                  55
                ],
                "styles": {},
                "type": "#FF7F50"
              },
              {
                "color": "#FF7F50",
                "id": "CTL29",
                "label": "DOSINPUTVALIDATION",
                "position": [
                  0,
                  0
                ],
                "properties": {
                  "URL": "https://owaspai.org/docs/2_threats_through_use/#dosinputvalidation",
                  "label": "DOSINPUTVALIDATION"
                },
                "scale_factor": 1,
                "size": [
                  55,
                  55
                ],
                "styles": {},
                "type": "#FF7F50"
              },
              {
                "color": "#FF7F50",
                "id": "CTL30",
                "label": "LIMITRESOURCES",
                "position": [
                  0,
                  0
                ],
                "properties": {
                  "URL": "https://owaspai.org/docs/2_threats_through_use/#limitresources",
                  "label": "LIMITRESOURCES"
                },
                "scale_factor": 1,
                "size": [
                  55,
                  55
                ],
                "styles": {},
                "type": "#FF7F50"
              },
              {
                "color": "#FF7F50",
                "id": "CTL31",
                "label": "DEVDATAPROTECT",
                "position": [
                  0,
                  0
                ],
                "properties": {
                  "URL": "https://owaspai.org/docs/3_development_time_threats/#devdataprotect",
                  "label": "DEVDATAPROTECT"
                },
                "scale_factor": 1,
                "size": [
                  55,
                  55
                ],
                "styles": {},
                "type": "#FF7F50"
              },
              {
                "color": "#FF7F50",
                "id": "CTL32",
                "label": "DEVSECURITY",
                "position": [
                  0,
                  0
                ],
                "properties": {
                  "URL": "https://owaspai.org/docs/3_development_time_threats/#devsecurity",
                  "label": "DEVSECURITY"
                },
                "scale_factor": 1,
                "size": [
                  55,
                  55
                ],
                "styles": {},
                "type": "#FF7F50"
              },
              {
                "color": "#FF7F50",
                "id": "CTL33",
                "label": "SEGREGATEDATA",
                "position": [
                  0,
                  0
                ],
                "properties": {
                  "URL": "https://owaspai.org/docs/3_development_time_threats/#segregatedata",
                  "label": "SEGREGATEDATA"
                },
                "scale_factor": 1,
                "size": [
                  55,
                  55
                ],
                "styles": {},
                "type": "#FF7F50"
              },
              {
                "color": "#FF7F50",
                "id": "CTL34",
                "label": "CONFCOMPUTE",
                "position": [
                  0,
                  0
                ],
                "properties": {
                  "URL": "https://owaspai.org/docs/3_development_time_threats/#confcompute",
                  "label": "CONFCOMPUTE"
                },
                "scale_factor": 1,
                "size": [
                  55,
                  55
                ],
                "styles": {},
                "type": "#FF7F50"
              },
              {
                "color": "#FF7F50",
                "id": "CTL35",
                "label": "FEDERATEDLEARNING",
                "position": [
                  0,
                  0
                ],
                "properties": {
                  "URL": "https://owaspai.org/docs/3_development_time_threats/#federatedlearning",
                  "label": "FEDERATEDLEARNING"
                },
                "scale_factor": 1,
                "size": [
                  55,
                  55
                ],
                "styles": {},
                "type": "#FF7F50"
              },
              {
                "color": "#FF7F50",
                "id": "CTL36",
                "label": "SUPPLYCHAINIMAGE",
                "position": [
                  0,
                  0
                ],
                "properties": {
                  "URL": "https://owaspai.org/docs/3_development_time_threats/#supplychainmanage",
                  "label": "SUPPLYCHAINIMAGE"
                },
                "scale_factor": 1,
                "size": [
                  55,
                  55
                ],
                "styles": {},
                "type": "#FF7F50"
              },
              {
                "color": "#FF7F50",
                "id": "CTL37",
                "label": "MODELENSEMBLE",
                "position": [
                  0,
                  0
                ],
                "properties": {
                  "URL": "https://owaspai.org/docs/3_development_time_threats/#modelensemble",
                  "label": "MODELENSEMBLE"
                },
                "scale_factor": 1,
                "size": [
                  55,
                  55
                ],
                "styles": {},
                "type": "#FF7F50"
              },
              {
                "color": "#FF7F50",
                "id": "CTL38",
                "label": "MORETRAINDATA",
                "position": [
                  0,
                  0
                ],
                "properties": {
                  "URL": "https://owaspai.org/docs/3_development_time_threats/#moretraindata",
                  "label": "MORETRAINDATA"
                },
                "scale_factor": 1,
                "size": [
                  55,
                  55
                ],
                "styles": {},
                "type": "#FF7F50"
              },
              {
                "color": "#FF7F50",
                "id": "CTL39",
                "label": "DATAQUALITYCONTROL",
                "position": [
                  0,
                  0
                ],
                "properties": {
                  "URL": "https://owaspai.org/docs/3_development_time_threats/#dataqualitycontrol",
                  "label": "DATAQUALITYCONTROL"
                },
                "scale_factor": 1,
                "size": [
                  55,
                  55
                ],
                "styles": {},
                "type": "#FF7F50"
              },
              {
                "color": "#FF7F50",
                "id": "CTL40",
                "label": "TRAINDATADISTORTION",
                "position": [
                  0,
                  0
                ],
                "properties": {
                  "URL": "https://owaspai.org/docs/3_development_time_threats/#traindatadistortion",
                  "label": "TRAINDATADISTORTION"
                },
                "scale_factor": 1,
                "size": [
                  55,
                  55
                ],
                "styles": {},
                "type": "#FF7F50"
              },
              {
                "color": "#FF7F50",
                "id": "CTL41",
                "label": "POISONROBUSTMODEL",
                "position": [
                  0,
                  0
                ],
                "properties": {
                  "URL": "https://owaspai.org/docs/3_development_time_threats/#poisonrobustmodel",
                  "label": "POISONROBUSTMODEL"
                },
                "scale_factor": 1,
                "size": [
                  55,
                  55
                ],
                "styles": {},
                "type": "#FF7F50"
              },
              {
                "color": "#FF7F50",
                "id": "CTL42",
                "label": "Technical AppSec Controls",
                "position": [
                  0,
                  0
                ],
                "properties": {
                  "URL": "https://www.opencre.org/cre/636-660",
                  "label": "Technical AppSec Controls"
                },
                "scale_factor": 1,
                "size": [
                  55,
                  55
                ],
                "styles": {},
                "type": "#FF7F50"
              },
              {
                "color": "#FF7F50",
                "id": "CTL43",
                "label": "Operational Security",
                "position": [
                  0,
                  0
                ],
                "properties": {
                  "URL": "https://www.opencre.org/cre/862-452",
                  "label": "Operational Security"
                },
                "scale_factor": 1,
                "size": [
                  55,
                  55
                ],
                "styles": {},
                "type": "#FF7F50"
              },
              {
                "color": "#FF7F50",
                "id": "CTL44",
                "label": "ENCODEMODELOUTPUT",
                "position": [
                  0,
                  0
                ],
                "properties": {
                  "URL": "https://owaspai.org/docs/4_runtime_application_security_threats/#encodemodeloutput",
                  "label": "ENCODEMODELOUTPUT"
                },
                "scale_factor": 1,
                "size": [
                  55,
                  55
                ],
                "styles": {},
                "type": "#FF7F50"
              },
              {
                "color": "#FF7F50",
                "id": "CTL45",
                "label": "MODELINPUTCONFIDENTIALITY",
                "position": [
                  0,
                  0
                ],
                "properties": {
                  "URL": "https://owaspai.org/docs/4_runtime_application_security_threats/#modelinputconfidentiality",
                  "label": "MODELINPUTCONFIDENTIALITY"
                },
                "scale_factor": 1,
                "size": [
                  55,
                  55
                ],
                "styles": {},
                "type": "#FF7F50"
              },
              {
                "color": "#FF7F50",
                "id": "CTL46",
                "label": "RUNTIMEMODELINTEGRITY",
                "position": [
                  0,
                  0
                ],
                "properties": {
                  "URL": "https://owaspai.org/docs/4_runtime_application_security_threats/#runtimemodelintegrity",
                  "label": "RUNTIMEMODELINTEGRITY"
                },
                "scale_factor": 1,
                "size": [
                  55,
                  55
                ],
                "styles": {},
                "type": "#FF7F50"
              },
              {
                "color": "#FF7F50",
                "id": "CTL47",
                "label": "RUNTIMEMODELIOINTEGRITY",
                "position": [
                  0,
                  0
                ],
                "properties": {
                  "URL": "https://owaspai.org/docs/4_runtime_application_security_threats/#runtimemodeliointegrity",
                  "label": "RUNTIMEMODELIOINTEGRITY"
                },
                "scale_factor": 1,
                "size": [
                  55,
                  55
                ],
                "styles": {},
                "type": "#FF7F50"
              },
              {
                "color": "#FF7F50",
                "id": "CTL48",
                "label": "Embedded In Model",
                "position": [
                  0,
                  0
                ],
                "properties": {
                  "URL": "https://llmtop10.com/llm01/",
                  "label": "Embedded In Model"
                },
                "scale_factor": 1,
                "size": [
                  55,
                  55
                ],
                "styles": {},
                "type": "#FF7F50"
              },
              {
                "color": "#FF7F50",
                "id": "CTL49",
                "label": "RUNTIMEMODELCONFIDENTIALITY",
                "position": [
                  0,
                  0
                ],
                "properties": {
                  "URL": "https://owaspai.org/docs/4_runtime_application_security_threats/#runtimemodelconfidentiality",
                  "label": "RUNTIMEMODELCONFIDENTIALITY"
                },
                "scale_factor": 1,
                "size": [
                  55,
                  55
                ],
                "styles": {},
                "type": "#FF7F50"
              },
              {
                "color": "#FF7F50",
                "id": "CTL50",
                "label": "MODELOBFUSCATION",
                "position": [
                  0,
                  0
                ],
                "properties": {
                  "URL": "https://owaspai.org/docs/4_runtime_application_security_threats/#modelobfuscation",
                  "label": "MODELOBFUSCATION"
                },
                "scale_factor": 1,
                "size": [
                  55,
                  55
                ],
                "styles": {},
                "type": "#FF7F50"
              },
              {
                "color": "#FF7F50",
                "id": "CTL51",
                "label": "PROMPTINPUTVALIDATION",
                "position": [
                  0,
                  0
                ],
                "properties": {
                  "URL": "https://owaspai.org/docs/4_runtime_application_security_threats/#promptinputvalidation",
                  "label": "PROMPTINPUTVALIDATION"
                },
                "scale_factor": 1,
                "size": [
                  55,
                  55
                ],
                "styles": {},
                "type": "#FF7F50"
              },
              {
                "color": "#FF7F50",
                "id": "CTL52",
                "label": "INPUTSEGREGATION",
                "position": [
                  0,
                  0
                ],
                "properties": {
                  "URL": "https://owaspai.org/docs/4_runtime_application_security_threats/#inputsegregation",
                  "label": "INPUTSEGREGATION"
                },
                "scale_factor": 1,
                "size": [
                  55,
                  55
                ],
                "styles": {},
                "type": "#FF7F50"
              }
            ],
            "_overview": {
              "enabled": null,
              "overview_set": false
            },
            "_selected_graph": [
              [],
              []
            ],
            "_sidebar": {
              "enabled": true,
              "start_with": ""
            },
            "_view_count": null,
            "_view_module": "yfiles-jupyter-graphs",
            "_view_module_version": "^1.6.2",
            "_view_name": "GraphView",
            "layout": "IPY_MODEL_da12a591227b4f589361fd4dd202a77c"
          }
        },
        "da12a591227b4f589361fd4dd202a77c": {
          "model_module": "@jupyter-widgets/base",
          "model_module_version": "1.2.0",
          "model_name": "LayoutModel",
          "state": {
            "_model_module": "@jupyter-widgets/base",
            "_model_module_version": "1.2.0",
            "_model_name": "LayoutModel",
            "_view_count": null,
            "_view_module": "@jupyter-widgets/base",
            "_view_module_version": "1.2.0",
            "_view_name": "LayoutView",
            "align_content": null,
            "align_items": null,
            "align_self": null,
            "border": null,
            "bottom": null,
            "display": null,
            "flex": null,
            "flex_flow": null,
            "grid_area": null,
            "grid_auto_columns": null,
            "grid_auto_flow": null,
            "grid_auto_rows": null,
            "grid_column": null,
            "grid_gap": null,
            "grid_row": null,
            "grid_template_areas": null,
            "grid_template_columns": null,
            "grid_template_rows": null,
            "height": "800px",
            "justify_content": null,
            "justify_items": null,
            "left": null,
            "margin": null,
            "max_height": null,
            "max_width": null,
            "min_height": null,
            "min_width": null,
            "object_fit": null,
            "object_position": null,
            "order": null,
            "overflow": null,
            "overflow_x": null,
            "overflow_y": null,
            "padding": null,
            "right": null,
            "top": null,
            "visibility": null,
            "width": "100%"
          }
        },
        "dd2ab1386eb94f48a0523d5fde4678ec": {
          "model_module": "@jupyter-widgets/base",
          "model_module_version": "1.2.0",
          "model_name": "LayoutModel",
          "state": {
            "_model_module": "@jupyter-widgets/base",
            "_model_module_version": "1.2.0",
            "_model_name": "LayoutModel",
            "_view_count": null,
            "_view_module": "@jupyter-widgets/base",
            "_view_module_version": "1.2.0",
            "_view_name": "LayoutView",
            "align_content": null,
            "align_items": null,
            "align_self": null,
            "border": null,
            "bottom": null,
            "display": null,
            "flex": null,
            "flex_flow": null,
            "grid_area": null,
            "grid_auto_columns": null,
            "grid_auto_flow": null,
            "grid_auto_rows": null,
            "grid_column": null,
            "grid_gap": null,
            "grid_row": null,
            "grid_template_areas": null,
            "grid_template_columns": null,
            "grid_template_rows": null,
            "height": "800px",
            "justify_content": null,
            "justify_items": null,
            "left": null,
            "margin": null,
            "max_height": null,
            "max_width": null,
            "min_height": null,
            "min_width": null,
            "object_fit": null,
            "object_position": null,
            "order": null,
            "overflow": null,
            "overflow_x": null,
            "overflow_y": null,
            "padding": null,
            "right": null,
            "top": null,
            "visibility": null,
            "width": "100%"
          }
        },
        "e251a286658346a18d436536c09bd67c": {
          "model_module": "yfiles-jupyter-graphs",
          "model_module_version": "^1.6.2",
          "model_name": "GraphModel",
          "state": {
            "_context_pane_mapping": [
              {
                "id": "Neighborhood",
                "title": "Neighborhood"
              },
              {
                "id": "Data",
                "title": "Data"
              },
              {
                "id": "Search",
                "title": "Search"
              },
              {
                "id": "About",
                "title": "About"
              }
            ],
            "_data_importer": "unknown",
            "_directed": true,
            "_dom_classes": [],
            "_edges": [
              {
                "color": "#15AFAC",
                "directed": true,
                "end": "CAT1",
                "id": 1,
                "label": "IS_IN_CATEGORY",
                "properties": {
                  "label": "IS_IN_CATEGORY"
                },
                "start": "CTL1",
                "thickness_factor": 1
              },
              {
                "color": "#15AFAC",
                "directed": true,
                "end": "GRP1",
                "id": 2,
                "label": "IS_IN_GROUP",
                "properties": {
                  "label": "IS_IN_GROUP"
                },
                "start": "CTL1",
                "thickness_factor": 1
              },
              {
                "color": "#15AFAC",
                "directed": true,
                "end": "TYP4",
                "id": 3,
                "label": "IS_OF_TYPE",
                "properties": {
                  "label": "IS_OF_TYPE"
                },
                "start": "CTL1",
                "thickness_factor": 1
              },
              {
                "color": "#15AFAC",
                "directed": true,
                "end": "CAT1",
                "id": 4,
                "label": "IS_IN_CATEGORY",
                "properties": {
                  "label": "IS_IN_CATEGORY"
                },
                "start": "CTL2",
                "thickness_factor": 1
              },
              {
                "color": "#15AFAC",
                "directed": true,
                "end": "GRP1",
                "id": 5,
                "label": "IS_IN_GROUP",
                "properties": {
                  "label": "IS_IN_GROUP"
                },
                "start": "CTL2",
                "thickness_factor": 1
              },
              {
                "color": "#15AFAC",
                "directed": true,
                "end": "TYP1",
                "id": 6,
                "label": "IS_OF_TYPE",
                "properties": {
                  "label": "IS_OF_TYPE"
                },
                "start": "CTL2",
                "thickness_factor": 1
              },
              {
                "color": "#15AFAC",
                "directed": true,
                "end": "CAT1",
                "id": 7,
                "label": "IS_IN_CATEGORY",
                "properties": {
                  "label": "IS_IN_CATEGORY"
                },
                "start": "CTL3",
                "thickness_factor": 1
              },
              {
                "color": "#15AFAC",
                "directed": true,
                "end": "GRP1",
                "id": 8,
                "label": "IS_IN_GROUP",
                "properties": {
                  "label": "IS_IN_GROUP"
                },
                "start": "CTL3",
                "thickness_factor": 1
              },
              {
                "color": "#15AFAC",
                "directed": true,
                "end": "TYP1",
                "id": 9,
                "label": "IS_OF_TYPE",
                "properties": {
                  "label": "IS_OF_TYPE"
                },
                "start": "CTL3",
                "thickness_factor": 1
              },
              {
                "color": "#15AFAC",
                "directed": true,
                "end": "CAT1",
                "id": 10,
                "label": "IS_IN_CATEGORY",
                "properties": {
                  "label": "IS_IN_CATEGORY"
                },
                "start": "CTL4",
                "thickness_factor": 1
              },
              {
                "color": "#15AFAC",
                "directed": true,
                "end": "GRP1",
                "id": 11,
                "label": "IS_IN_GROUP",
                "properties": {
                  "label": "IS_IN_GROUP"
                },
                "start": "CTL4",
                "thickness_factor": 1
              },
              {
                "color": "#15AFAC",
                "directed": true,
                "end": "TYP4",
                "id": 12,
                "label": "IS_OF_TYPE",
                "properties": {
                  "label": "IS_OF_TYPE"
                },
                "start": "CTL4",
                "thickness_factor": 1
              },
              {
                "color": "#15AFAC",
                "directed": true,
                "end": "CAT1",
                "id": 13,
                "label": "IS_IN_CATEGORY",
                "properties": {
                  "label": "IS_IN_CATEGORY"
                },
                "start": "CTL5",
                "thickness_factor": 1
              },
              {
                "color": "#15AFAC",
                "directed": true,
                "end": "GRP1",
                "id": 14,
                "label": "IS_IN_GROUP",
                "properties": {
                  "label": "IS_IN_GROUP"
                },
                "start": "CTL5",
                "thickness_factor": 1
              },
              {
                "color": "#15AFAC",
                "directed": true,
                "end": "TYP1",
                "id": 15,
                "label": "IS_OF_TYPE",
                "properties": {
                  "label": "IS_OF_TYPE"
                },
                "start": "CTL5",
                "thickness_factor": 1
              },
              {
                "color": "#15AFAC",
                "directed": true,
                "end": "CAT1",
                "id": 16,
                "label": "IS_IN_CATEGORY",
                "properties": {
                  "label": "IS_IN_CATEGORY"
                },
                "start": "CTL6",
                "thickness_factor": 1
              },
              {
                "color": "#15AFAC",
                "directed": true,
                "end": "GRP1",
                "id": 17,
                "label": "IS_IN_GROUP",
                "properties": {
                  "label": "IS_IN_GROUP"
                },
                "start": "CTL6",
                "thickness_factor": 1
              },
              {
                "color": "#15AFAC",
                "directed": true,
                "end": "TYP1",
                "id": 18,
                "label": "IS_OF_TYPE",
                "properties": {
                  "label": "IS_OF_TYPE"
                },
                "start": "CTL6",
                "thickness_factor": 1
              },
              {
                "color": "#15AFAC",
                "directed": true,
                "end": "CAT1",
                "id": 19,
                "label": "IS_IN_CATEGORY",
                "properties": {
                  "label": "IS_IN_CATEGORY"
                },
                "start": "CTL7",
                "thickness_factor": 1
              },
              {
                "color": "#15AFAC",
                "directed": true,
                "end": "GRP2",
                "id": 20,
                "label": "IS_IN_GROUP",
                "properties": {
                  "label": "IS_IN_GROUP"
                },
                "start": "CTL7",
                "thickness_factor": 1
              },
              {
                "color": "#15AFAC",
                "directed": true,
                "end": "TYP4",
                "id": 21,
                "label": "IS_OF_TYPE",
                "properties": {
                  "label": "IS_OF_TYPE"
                },
                "start": "CTL7",
                "thickness_factor": 1
              },
              {
                "color": "#15AFAC",
                "directed": true,
                "end": "CAT1",
                "id": 22,
                "label": "IS_IN_CATEGORY",
                "properties": {
                  "label": "IS_IN_CATEGORY"
                },
                "start": "CTL8",
                "thickness_factor": 1
              },
              {
                "color": "#15AFAC",
                "directed": true,
                "end": "GRP2",
                "id": 23,
                "label": "IS_IN_GROUP",
                "properties": {
                  "label": "IS_IN_GROUP"
                },
                "start": "CTL8",
                "thickness_factor": 1
              },
              {
                "color": "#15AFAC",
                "directed": true,
                "end": "TYP1",
                "id": 24,
                "label": "IS_OF_TYPE",
                "properties": {
                  "label": "IS_OF_TYPE"
                },
                "start": "CTL8",
                "thickness_factor": 1
              },
              {
                "color": "#15AFAC",
                "directed": true,
                "end": "CAT1",
                "id": 25,
                "label": "IS_IN_CATEGORY",
                "properties": {
                  "label": "IS_IN_CATEGORY"
                },
                "start": "CTL9",
                "thickness_factor": 1
              },
              {
                "color": "#15AFAC",
                "directed": true,
                "end": "GRP2",
                "id": 26,
                "label": "IS_IN_GROUP",
                "properties": {
                  "label": "IS_IN_GROUP"
                },
                "start": "CTL9",
                "thickness_factor": 1
              },
              {
                "color": "#15AFAC",
                "directed": true,
                "end": "TYP4",
                "id": 27,
                "label": "IS_OF_TYPE",
                "properties": {
                  "label": "IS_OF_TYPE"
                },
                "start": "CTL9",
                "thickness_factor": 1
              },
              {
                "color": "#15AFAC",
                "directed": true,
                "end": "CAT1",
                "id": 28,
                "label": "IS_IN_CATEGORY",
                "properties": {
                  "label": "IS_IN_CATEGORY"
                },
                "start": "CTL10",
                "thickness_factor": 1
              },
              {
                "color": "#15AFAC",
                "directed": true,
                "end": "GRP2",
                "id": 29,
                "label": "IS_IN_GROUP",
                "properties": {
                  "label": "IS_IN_GROUP"
                },
                "start": "CTL10",
                "thickness_factor": 1
              },
              {
                "color": "#15AFAC",
                "directed": true,
                "end": "TYP2",
                "id": 30,
                "label": "IS_OF_TYPE",
                "properties": {
                  "label": "IS_OF_TYPE"
                },
                "start": "CTL10",
                "thickness_factor": 1
              },
              {
                "color": "#15AFAC",
                "directed": true,
                "end": "TYP3",
                "id": 31,
                "label": "IS_OF_TYPE",
                "properties": {
                  "label": "IS_OF_TYPE"
                },
                "start": "CTL10",
                "thickness_factor": 1
              },
              {
                "color": "#15AFAC",
                "directed": true,
                "end": "CAT1",
                "id": 32,
                "label": "IS_IN_CATEGORY",
                "properties": {
                  "label": "IS_IN_CATEGORY"
                },
                "start": "CTL11",
                "thickness_factor": 1
              },
              {
                "color": "#15AFAC",
                "directed": true,
                "end": "GRP2",
                "id": 33,
                "label": "IS_IN_GROUP",
                "properties": {
                  "label": "IS_IN_GROUP"
                },
                "start": "CTL11",
                "thickness_factor": 1
              },
              {
                "color": "#15AFAC",
                "directed": true,
                "end": "TYP2",
                "id": 34,
                "label": "IS_OF_TYPE",
                "properties": {
                  "label": "IS_OF_TYPE"
                },
                "start": "CTL11",
                "thickness_factor": 1
              },
              {
                "color": "#15AFAC",
                "directed": true,
                "end": "CAT1",
                "id": 35,
                "label": "IS_IN_CATEGORY",
                "properties": {
                  "label": "IS_IN_CATEGORY"
                },
                "start": "CTL12",
                "thickness_factor": 1
              },
              {
                "color": "#15AFAC",
                "directed": true,
                "end": "GRP2",
                "id": 36,
                "label": "IS_IN_GROUP",
                "properties": {
                  "label": "IS_IN_GROUP"
                },
                "start": "CTL12",
                "thickness_factor": 1
              },
              {
                "color": "#15AFAC",
                "directed": true,
                "end": "TYP2",
                "id": 37,
                "label": "IS_OF_TYPE",
                "properties": {
                  "label": "IS_OF_TYPE"
                },
                "start": "CTL12",
                "thickness_factor": 1
              },
              {
                "color": "#15AFAC",
                "directed": true,
                "end": "CAT1",
                "id": 38,
                "label": "IS_IN_CATEGORY",
                "properties": {
                  "label": "IS_IN_CATEGORY"
                },
                "start": "CTL13",
                "thickness_factor": 1
              },
              {
                "color": "#15AFAC",
                "directed": true,
                "end": "GRP3",
                "id": 39,
                "label": "IS_IN_GROUP",
                "properties": {
                  "label": "IS_IN_GROUP"
                },
                "start": "CTL13",
                "thickness_factor": 1
              },
              {
                "color": "#15AFAC",
                "directed": true,
                "end": "TYP4",
                "id": 40,
                "label": "IS_OF_TYPE",
                "properties": {
                  "label": "IS_OF_TYPE"
                },
                "start": "CTL13",
                "thickness_factor": 1
              },
              {
                "color": "#15AFAC",
                "directed": true,
                "end": "CAT1",
                "id": 41,
                "label": "IS_IN_CATEGORY",
                "properties": {
                  "label": "IS_IN_CATEGORY"
                },
                "start": "CTL14",
                "thickness_factor": 1
              },
              {
                "color": "#15AFAC",
                "directed": true,
                "end": "GRP3",
                "id": 42,
                "label": "IS_IN_GROUP",
                "properties": {
                  "label": "IS_IN_GROUP"
                },
                "start": "CTL14",
                "thickness_factor": 1
              },
              {
                "color": "#15AFAC",
                "directed": true,
                "end": "TYP4",
                "id": 43,
                "label": "IS_OF_TYPE",
                "properties": {
                  "label": "IS_OF_TYPE"
                },
                "start": "CTL14",
                "thickness_factor": 1
              },
              {
                "color": "#15AFAC",
                "directed": true,
                "end": "CAT1",
                "id": 44,
                "label": "IS_IN_CATEGORY",
                "properties": {
                  "label": "IS_IN_CATEGORY"
                },
                "start": "CTL15",
                "thickness_factor": 1
              },
              {
                "color": "#15AFAC",
                "directed": true,
                "end": "GRP3",
                "id": 45,
                "label": "IS_IN_GROUP",
                "properties": {
                  "label": "IS_IN_GROUP"
                },
                "start": "CTL15",
                "thickness_factor": 1
              },
              {
                "color": "#15AFAC",
                "directed": true,
                "end": "TYP3",
                "id": 46,
                "label": "IS_OF_TYPE",
                "properties": {
                  "label": "IS_OF_TYPE"
                },
                "start": "CTL15",
                "thickness_factor": 1
              },
              {
                "color": "#15AFAC",
                "directed": true,
                "end": "CAT1",
                "id": 47,
                "label": "IS_IN_CATEGORY",
                "properties": {
                  "label": "IS_IN_CATEGORY"
                },
                "start": "CTL16",
                "thickness_factor": 1
              },
              {
                "color": "#15AFAC",
                "directed": true,
                "end": "GRP3",
                "id": 48,
                "label": "IS_IN_GROUP",
                "properties": {
                  "label": "IS_IN_GROUP"
                },
                "start": "CTL16",
                "thickness_factor": 1
              },
              {
                "color": "#15AFAC",
                "directed": true,
                "end": "TYP1",
                "id": 49,
                "label": "IS_OF_TYPE",
                "properties": {
                  "label": "IS_OF_TYPE"
                },
                "start": "CTL16",
                "thickness_factor": 1
              },
              {
                "color": "#15AFAC",
                "directed": true,
                "end": "CAT2",
                "id": 50,
                "label": "IS_IN_CATEGORY",
                "properties": {
                  "label": "IS_IN_CATEGORY"
                },
                "start": "CTL17",
                "thickness_factor": 1
              },
              {
                "color": "#15AFAC",
                "directed": true,
                "end": "GRP4",
                "id": 51,
                "label": "IS_IN_GROUP",
                "properties": {
                  "label": "IS_IN_GROUP"
                },
                "start": "CTL17",
                "thickness_factor": 1
              },
              {
                "color": "#15AFAC",
                "directed": true,
                "end": "GRP5",
                "id": 52,
                "label": "IS_IN_GROUP",
                "properties": {
                  "label": "IS_IN_GROUP"
                },
                "start": "CTL17",
                "thickness_factor": 1
              },
              {
                "color": "#15AFAC",
                "directed": true,
                "end": "GRP7",
                "id": 53,
                "label": "IS_IN_GROUP",
                "properties": {
                  "label": "IS_IN_GROUP"
                },
                "start": "CTL17",
                "thickness_factor": 1
              },
              {
                "color": "#15AFAC",
                "directed": true,
                "end": "GRP8",
                "id": 54,
                "label": "IS_IN_GROUP",
                "properties": {
                  "label": "IS_IN_GROUP"
                },
                "start": "CTL17",
                "thickness_factor": 1
              },
              {
                "color": "#15AFAC",
                "directed": true,
                "end": "GRP9",
                "id": 55,
                "label": "IS_IN_GROUP",
                "properties": {
                  "label": "IS_IN_GROUP"
                },
                "start": "CTL17",
                "thickness_factor": 1
              },
              {
                "color": "#15AFAC",
                "directed": true,
                "end": "GRP10",
                "id": 56,
                "label": "IS_IN_GROUP",
                "properties": {
                  "label": "IS_IN_GROUP"
                },
                "start": "CTL17",
                "thickness_factor": 1
              },
              {
                "color": "#15AFAC",
                "directed": true,
                "end": "TYP1",
                "id": 57,
                "label": "IS_OF_TYPE",
                "properties": {
                  "label": "IS_OF_TYPE"
                },
                "start": "CTL17",
                "thickness_factor": 1
              },
              {
                "color": "#15AFAC",
                "directed": true,
                "end": "CAT2",
                "id": 58,
                "label": "IS_IN_CATEGORY",
                "properties": {
                  "label": "IS_IN_CATEGORY"
                },
                "start": "CTL18",
                "thickness_factor": 1
              },
              {
                "color": "#15AFAC",
                "directed": true,
                "end": "GRP4",
                "id": 59,
                "label": "IS_IN_GROUP",
                "properties": {
                  "label": "IS_IN_GROUP"
                },
                "start": "CTL18",
                "thickness_factor": 1
              },
              {
                "color": "#15AFAC",
                "directed": true,
                "end": "GRP5",
                "id": 60,
                "label": "IS_IN_GROUP",
                "properties": {
                  "label": "IS_IN_GROUP"
                },
                "start": "CTL18",
                "thickness_factor": 1
              },
              {
                "color": "#15AFAC",
                "directed": true,
                "end": "GRP7",
                "id": 61,
                "label": "IS_IN_GROUP",
                "properties": {
                  "label": "IS_IN_GROUP"
                },
                "start": "CTL18",
                "thickness_factor": 1
              },
              {
                "color": "#15AFAC",
                "directed": true,
                "end": "GRP8",
                "id": 62,
                "label": "IS_IN_GROUP",
                "properties": {
                  "label": "IS_IN_GROUP"
                },
                "start": "CTL18",
                "thickness_factor": 1
              },
              {
                "color": "#15AFAC",
                "directed": true,
                "end": "GRP9",
                "id": 63,
                "label": "IS_IN_GROUP",
                "properties": {
                  "label": "IS_IN_GROUP"
                },
                "start": "CTL18",
                "thickness_factor": 1
              },
              {
                "color": "#15AFAC",
                "directed": true,
                "end": "GRP10",
                "id": 64,
                "label": "IS_IN_GROUP",
                "properties": {
                  "label": "IS_IN_GROUP"
                },
                "start": "CTL18",
                "thickness_factor": 1
              },
              {
                "color": "#15AFAC",
                "directed": true,
                "end": "TYP1",
                "id": 65,
                "label": "IS_OF_TYPE",
                "properties": {
                  "label": "IS_OF_TYPE"
                },
                "start": "CTL18",
                "thickness_factor": 1
              },
              {
                "color": "#15AFAC",
                "directed": true,
                "end": "CAT2",
                "id": 66,
                "label": "IS_IN_CATEGORY",
                "properties": {
                  "label": "IS_IN_CATEGORY"
                },
                "start": "CTL19",
                "thickness_factor": 1
              },
              {
                "color": "#15AFAC",
                "directed": true,
                "end": "GRP4",
                "id": 67,
                "label": "IS_IN_GROUP",
                "properties": {
                  "label": "IS_IN_GROUP"
                },
                "start": "CTL19",
                "thickness_factor": 1
              },
              {
                "color": "#15AFAC",
                "directed": true,
                "end": "GRP5",
                "id": 68,
                "label": "IS_IN_GROUP",
                "properties": {
                  "label": "IS_IN_GROUP"
                },
                "start": "CTL19",
                "thickness_factor": 1
              },
              {
                "color": "#15AFAC",
                "directed": true,
                "end": "GRP7",
                "id": 69,
                "label": "IS_IN_GROUP",
                "properties": {
                  "label": "IS_IN_GROUP"
                },
                "start": "CTL19",
                "thickness_factor": 1
              },
              {
                "color": "#15AFAC",
                "directed": true,
                "end": "GRP8",
                "id": 70,
                "label": "IS_IN_GROUP",
                "properties": {
                  "label": "IS_IN_GROUP"
                },
                "start": "CTL19",
                "thickness_factor": 1
              },
              {
                "color": "#15AFAC",
                "directed": true,
                "end": "GRP9",
                "id": 71,
                "label": "IS_IN_GROUP",
                "properties": {
                  "label": "IS_IN_GROUP"
                },
                "start": "CTL19",
                "thickness_factor": 1
              },
              {
                "color": "#15AFAC",
                "directed": true,
                "end": "GRP10",
                "id": 72,
                "label": "IS_IN_GROUP",
                "properties": {
                  "label": "IS_IN_GROUP"
                },
                "start": "CTL19",
                "thickness_factor": 1
              },
              {
                "color": "#15AFAC",
                "directed": true,
                "end": "TYP1",
                "id": 73,
                "label": "IS_OF_TYPE",
                "properties": {
                  "label": "IS_OF_TYPE"
                },
                "start": "CTL19",
                "thickness_factor": 1
              },
              {
                "color": "#15AFAC",
                "directed": true,
                "end": "CAT2",
                "id": 74,
                "label": "IS_IN_CATEGORY",
                "properties": {
                  "label": "IS_IN_CATEGORY"
                },
                "start": "CTL20",
                "thickness_factor": 1
              },
              {
                "color": "#15AFAC",
                "directed": true,
                "end": "GRP5",
                "id": 75,
                "label": "IS_IN_GROUP",
                "properties": {
                  "label": "IS_IN_GROUP"
                },
                "start": "CTL20",
                "thickness_factor": 1
              },
              {
                "color": "#15AFAC",
                "directed": true,
                "end": "TYP2",
                "id": 76,
                "label": "IS_OF_TYPE",
                "properties": {
                  "label": "IS_OF_TYPE"
                },
                "start": "CTL20",
                "thickness_factor": 1
              },
              {
                "color": "#15AFAC",
                "directed": true,
                "end": "CAT2",
                "id": 77,
                "label": "IS_IN_CATEGORY",
                "properties": {
                  "label": "IS_IN_CATEGORY"
                },
                "start": "CTL21",
                "thickness_factor": 1
              },
              {
                "color": "#15AFAC",
                "directed": true,
                "end": "GRP5",
                "id": 78,
                "label": "IS_IN_GROUP",
                "properties": {
                  "label": "IS_IN_GROUP"
                },
                "start": "CTL21",
                "thickness_factor": 1
              },
              {
                "color": "#15AFAC",
                "directed": true,
                "end": "TYP2",
                "id": 79,
                "label": "IS_OF_TYPE",
                "properties": {
                  "label": "IS_OF_TYPE"
                },
                "start": "CTL21",
                "thickness_factor": 1
              },
              {
                "color": "#15AFAC",
                "directed": true,
                "end": "CAT2",
                "id": 80,
                "label": "IS_IN_CATEGORY",
                "properties": {
                  "label": "IS_IN_CATEGORY"
                },
                "start": "CTL22",
                "thickness_factor": 1
              },
              {
                "color": "#15AFAC",
                "directed": true,
                "end": "GRP5",
                "id": 81,
                "label": "IS_IN_GROUP",
                "properties": {
                  "label": "IS_IN_GROUP"
                },
                "start": "CTL22",
                "thickness_factor": 1
              },
              {
                "color": "#15AFAC",
                "directed": true,
                "end": "TYP3",
                "id": 82,
                "label": "IS_OF_TYPE",
                "properties": {
                  "label": "IS_OF_TYPE"
                },
                "start": "CTL22",
                "thickness_factor": 1
              },
              {
                "color": "#15AFAC",
                "directed": true,
                "end": "CAT2",
                "id": 83,
                "label": "IS_IN_CATEGORY",
                "properties": {
                  "label": "IS_IN_CATEGORY"
                },
                "start": "CTL23",
                "thickness_factor": 1
              },
              {
                "color": "#15AFAC",
                "directed": true,
                "end": "GRP5",
                "id": 84,
                "label": "IS_IN_GROUP",
                "properties": {
                  "label": "IS_IN_GROUP"
                },
                "start": "CTL23",
                "thickness_factor": 1
              },
              {
                "color": "#15AFAC",
                "directed": true,
                "end": "TYP3",
                "id": 85,
                "label": "IS_OF_TYPE",
                "properties": {
                  "label": "IS_OF_TYPE"
                },
                "start": "CTL23",
                "thickness_factor": 1
              },
              {
                "color": "#15AFAC",
                "directed": true,
                "end": "CAT2",
                "id": 86,
                "label": "IS_IN_CATEGORY",
                "properties": {
                  "label": "IS_IN_CATEGORY"
                },
                "start": "CTL24",
                "thickness_factor": 1
              },
              {
                "color": "#15AFAC",
                "directed": true,
                "end": "GRP5",
                "id": 87,
                "label": "IS_IN_GROUP",
                "properties": {
                  "label": "IS_IN_GROUP"
                },
                "start": "CTL24",
                "thickness_factor": 1
              },
              {
                "color": "#15AFAC",
                "directed": true,
                "end": "TYP3",
                "id": 88,
                "label": "IS_OF_TYPE",
                "properties": {
                  "label": "IS_OF_TYPE"
                },
                "start": "CTL24",
                "thickness_factor": 1
              },
              {
                "color": "#15AFAC",
                "directed": true,
                "end": "CAT2",
                "id": 89,
                "label": "IS_IN_CATEGORY",
                "properties": {
                  "label": "IS_IN_CATEGORY"
                },
                "start": "CTL25",
                "thickness_factor": 1
              },
              {
                "color": "#15AFAC",
                "directed": true,
                "end": "GRP5",
                "id": 90,
                "label": "IS_IN_GROUP",
                "properties": {
                  "label": "IS_IN_GROUP"
                },
                "start": "CTL25",
                "thickness_factor": 1
              },
              {
                "color": "#15AFAC",
                "directed": true,
                "end": "TYP3",
                "id": 91,
                "label": "IS_OF_TYPE",
                "properties": {
                  "label": "IS_OF_TYPE"
                },
                "start": "CTL25",
                "thickness_factor": 1
              },
              {
                "color": "#15AFAC",
                "directed": true,
                "end": "CAT2",
                "id": 92,
                "label": "IS_IN_CATEGORY",
                "properties": {
                  "label": "IS_IN_CATEGORY"
                },
                "start": "CTL26",
                "thickness_factor": 1
              },
              {
                "color": "#15AFAC",
                "directed": true,
                "end": "GRP7",
                "id": 93,
                "label": "IS_IN_GROUP",
                "properties": {
                  "label": "IS_IN_GROUP"
                },
                "start": "CTL26",
                "thickness_factor": 1
              },
              {
                "color": "#15AFAC",
                "directed": true,
                "end": "TYP4",
                "id": 94,
                "label": "IS_OF_TYPE",
                "properties": {
                  "label": "IS_OF_TYPE"
                },
                "start": "CTL26",
                "thickness_factor": 1
              },
              {
                "color": "#15AFAC",
                "directed": true,
                "end": "CAT2",
                "id": 95,
                "label": "IS_IN_CATEGORY",
                "properties": {
                  "label": "IS_IN_CATEGORY"
                },
                "start": "CTL27",
                "thickness_factor": 1
              },
              {
                "color": "#15AFAC",
                "directed": true,
                "end": "GRP8",
                "id": 96,
                "label": "IS_IN_GROUP",
                "properties": {
                  "label": "IS_IN_GROUP"
                },
                "start": "CTL27",
                "thickness_factor": 1
              },
              {
                "color": "#15AFAC",
                "directed": true,
                "end": "TYP4",
                "id": 97,
                "label": "IS_OF_TYPE",
                "properties": {
                  "label": "IS_OF_TYPE"
                },
                "start": "CTL27",
                "thickness_factor": 1
              },
              {
                "color": "#15AFAC",
                "directed": true,
                "end": "CAT2",
                "id": 98,
                "label": "IS_IN_CATEGORY",
                "properties": {
                  "label": "IS_IN_CATEGORY"
                },
                "start": "CTL28",
                "thickness_factor": 1
              },
              {
                "color": "#15AFAC",
                "directed": true,
                "end": "GRP8",
                "id": 99,
                "label": "IS_IN_GROUP",
                "properties": {
                  "label": "IS_IN_GROUP"
                },
                "start": "CTL28",
                "thickness_factor": 1
              },
              {
                "color": "#15AFAC",
                "directed": true,
                "end": "TYP3",
                "id": 100,
                "label": "IS_OF_TYPE",
                "properties": {
                  "label": "IS_OF_TYPE"
                },
                "start": "CTL28",
                "thickness_factor": 1
              },
              {
                "color": "#15AFAC",
                "directed": true,
                "end": "CAT2",
                "id": 101,
                "label": "IS_IN_CATEGORY",
                "properties": {
                  "label": "IS_IN_CATEGORY"
                },
                "start": "CTL29",
                "thickness_factor": 1
              },
              {
                "color": "#15AFAC",
                "directed": true,
                "end": "GRP10",
                "id": 102,
                "label": "IS_IN_GROUP",
                "properties": {
                  "label": "IS_IN_GROUP"
                },
                "start": "CTL29",
                "thickness_factor": 1
              },
              {
                "color": "#15AFAC",
                "directed": true,
                "end": "TYP1",
                "id": 103,
                "label": "IS_OF_TYPE",
                "properties": {
                  "label": "IS_OF_TYPE"
                },
                "start": "CTL29",
                "thickness_factor": 1
              },
              {
                "color": "#15AFAC",
                "directed": true,
                "end": "CAT2",
                "id": 104,
                "label": "IS_IN_CATEGORY",
                "properties": {
                  "label": "IS_IN_CATEGORY"
                },
                "start": "CTL30",
                "thickness_factor": 1
              },
              {
                "color": "#15AFAC",
                "directed": true,
                "end": "GRP10",
                "id": 105,
                "label": "IS_IN_GROUP",
                "properties": {
                  "label": "IS_IN_GROUP"
                },
                "start": "CTL30",
                "thickness_factor": 1
              },
              {
                "color": "#15AFAC",
                "directed": true,
                "end": "TYP1",
                "id": 106,
                "label": "IS_OF_TYPE",
                "properties": {
                  "label": "IS_OF_TYPE"
                },
                "start": "CTL30",
                "thickness_factor": 1
              },
              {
                "color": "#15AFAC",
                "directed": true,
                "end": "CAT3",
                "id": 107,
                "label": "IS_IN_CATEGORY",
                "properties": {
                  "label": "IS_IN_CATEGORY"
                },
                "start": "CTL31",
                "thickness_factor": 1
              },
              {
                "color": "#15AFAC",
                "directed": true,
                "end": "GRP11",
                "id": 108,
                "label": "IS_IN_GROUP",
                "properties": {
                  "label": "IS_IN_GROUP"
                },
                "start": "CTL31",
                "thickness_factor": 1
              },
              {
                "color": "#15AFAC",
                "directed": true,
                "end": "GRP12",
                "id": 109,
                "label": "IS_IN_GROUP",
                "properties": {
                  "label": "IS_IN_GROUP"
                },
                "start": "CTL31",
                "thickness_factor": 1
              },
              {
                "color": "#15AFAC",
                "directed": true,
                "end": "GRP13",
                "id": 110,
                "label": "IS_IN_GROUP",
                "properties": {
                  "label": "IS_IN_GROUP"
                },
                "start": "CTL31",
                "thickness_factor": 1
              },
              {
                "color": "#15AFAC",
                "directed": true,
                "end": "GRP14",
                "id": 111,
                "label": "IS_IN_GROUP",
                "properties": {
                  "label": "IS_IN_GROUP"
                },
                "start": "CTL31",
                "thickness_factor": 1
              },
              {
                "color": "#15AFAC",
                "directed": true,
                "end": "GRP17",
                "id": 112,
                "label": "IS_IN_GROUP",
                "properties": {
                  "label": "IS_IN_GROUP"
                },
                "start": "CTL31",
                "thickness_factor": 1
              },
              {
                "color": "#15AFAC",
                "directed": true,
                "end": "GRP18",
                "id": 113,
                "label": "IS_IN_GROUP",
                "properties": {
                  "label": "IS_IN_GROUP"
                },
                "start": "CTL31",
                "thickness_factor": 1
              },
              {
                "color": "#15AFAC",
                "directed": true,
                "end": "GRP19",
                "id": 114,
                "label": "IS_IN_GROUP",
                "properties": {
                  "label": "IS_IN_GROUP"
                },
                "start": "CTL31",
                "thickness_factor": 1
              },
              {
                "color": "#15AFAC",
                "directed": true,
                "end": "TYP1",
                "id": 115,
                "label": "IS_OF_TYPE",
                "properties": {
                  "label": "IS_OF_TYPE"
                },
                "start": "CTL31",
                "thickness_factor": 1
              },
              {
                "color": "#15AFAC",
                "directed": true,
                "end": "CAT3",
                "id": 116,
                "label": "IS_IN_CATEGORY",
                "properties": {
                  "label": "IS_IN_CATEGORY"
                },
                "start": "CTL32",
                "thickness_factor": 1
              },
              {
                "color": "#15AFAC",
                "directed": true,
                "end": "GRP11",
                "id": 117,
                "label": "IS_IN_GROUP",
                "properties": {
                  "label": "IS_IN_GROUP"
                },
                "start": "CTL32",
                "thickness_factor": 1
              },
              {
                "color": "#15AFAC",
                "directed": true,
                "end": "GRP12",
                "id": 118,
                "label": "IS_IN_GROUP",
                "properties": {
                  "label": "IS_IN_GROUP"
                },
                "start": "CTL32",
                "thickness_factor": 1
              },
              {
                "color": "#15AFAC",
                "directed": true,
                "end": "GRP13",
                "id": 119,
                "label": "IS_IN_GROUP",
                "properties": {
                  "label": "IS_IN_GROUP"
                },
                "start": "CTL32",
                "thickness_factor": 1
              },
              {
                "color": "#15AFAC",
                "directed": true,
                "end": "GRP14",
                "id": 120,
                "label": "IS_IN_GROUP",
                "properties": {
                  "label": "IS_IN_GROUP"
                },
                "start": "CTL32",
                "thickness_factor": 1
              },
              {
                "color": "#15AFAC",
                "directed": true,
                "end": "GRP17",
                "id": 121,
                "label": "IS_IN_GROUP",
                "properties": {
                  "label": "IS_IN_GROUP"
                },
                "start": "CTL32",
                "thickness_factor": 1
              },
              {
                "color": "#15AFAC",
                "directed": true,
                "end": "GRP18",
                "id": 122,
                "label": "IS_IN_GROUP",
                "properties": {
                  "label": "IS_IN_GROUP"
                },
                "start": "CTL32",
                "thickness_factor": 1
              },
              {
                "color": "#15AFAC",
                "directed": true,
                "end": "GRP19",
                "id": 123,
                "label": "IS_IN_GROUP",
                "properties": {
                  "label": "IS_IN_GROUP"
                },
                "start": "CTL32",
                "thickness_factor": 1
              },
              {
                "color": "#15AFAC",
                "directed": true,
                "end": "TYP1",
                "id": 124,
                "label": "IS_OF_TYPE",
                "properties": {
                  "label": "IS_OF_TYPE"
                },
                "start": "CTL32",
                "thickness_factor": 1
              },
              {
                "color": "#15AFAC",
                "directed": true,
                "end": "CAT3",
                "id": 125,
                "label": "IS_IN_CATEGORY",
                "properties": {
                  "label": "IS_IN_CATEGORY"
                },
                "start": "CTL33",
                "thickness_factor": 1
              },
              {
                "color": "#15AFAC",
                "directed": true,
                "end": "GRP11",
                "id": 126,
                "label": "IS_IN_GROUP",
                "properties": {
                  "label": "IS_IN_GROUP"
                },
                "start": "CTL33",
                "thickness_factor": 1
              },
              {
                "color": "#15AFAC",
                "directed": true,
                "end": "GRP12",
                "id": 127,
                "label": "IS_IN_GROUP",
                "properties": {
                  "label": "IS_IN_GROUP"
                },
                "start": "CTL33",
                "thickness_factor": 1
              },
              {
                "color": "#15AFAC",
                "directed": true,
                "end": "GRP13",
                "id": 128,
                "label": "IS_IN_GROUP",
                "properties": {
                  "label": "IS_IN_GROUP"
                },
                "start": "CTL33",
                "thickness_factor": 1
              },
              {
                "color": "#15AFAC",
                "directed": true,
                "end": "GRP14",
                "id": 129,
                "label": "IS_IN_GROUP",
                "properties": {
                  "label": "IS_IN_GROUP"
                },
                "start": "CTL33",
                "thickness_factor": 1
              },
              {
                "color": "#15AFAC",
                "directed": true,
                "end": "GRP17",
                "id": 130,
                "label": "IS_IN_GROUP",
                "properties": {
                  "label": "IS_IN_GROUP"
                },
                "start": "CTL33",
                "thickness_factor": 1
              },
              {
                "color": "#15AFAC",
                "directed": true,
                "end": "GRP18",
                "id": 131,
                "label": "IS_IN_GROUP",
                "properties": {
                  "label": "IS_IN_GROUP"
                },
                "start": "CTL33",
                "thickness_factor": 1
              },
              {
                "color": "#15AFAC",
                "directed": true,
                "end": "GRP19",
                "id": 132,
                "label": "IS_IN_GROUP",
                "properties": {
                  "label": "IS_IN_GROUP"
                },
                "start": "CTL33",
                "thickness_factor": 1
              },
              {
                "color": "#15AFAC",
                "directed": true,
                "end": "TYP1",
                "id": 133,
                "label": "IS_OF_TYPE",
                "properties": {
                  "label": "IS_OF_TYPE"
                },
                "start": "CTL33",
                "thickness_factor": 1
              },
              {
                "color": "#15AFAC",
                "directed": true,
                "end": "CAT3",
                "id": 134,
                "label": "IS_IN_CATEGORY",
                "properties": {
                  "label": "IS_IN_CATEGORY"
                },
                "start": "CTL34",
                "thickness_factor": 1
              },
              {
                "color": "#15AFAC",
                "directed": true,
                "end": "GRP11",
                "id": 135,
                "label": "IS_IN_GROUP",
                "properties": {
                  "label": "IS_IN_GROUP"
                },
                "start": "CTL34",
                "thickness_factor": 1
              },
              {
                "color": "#15AFAC",
                "directed": true,
                "end": "GRP12",
                "id": 136,
                "label": "IS_IN_GROUP",
                "properties": {
                  "label": "IS_IN_GROUP"
                },
                "start": "CTL34",
                "thickness_factor": 1
              },
              {
                "color": "#15AFAC",
                "directed": true,
                "end": "GRP13",
                "id": 137,
                "label": "IS_IN_GROUP",
                "properties": {
                  "label": "IS_IN_GROUP"
                },
                "start": "CTL34",
                "thickness_factor": 1
              },
              {
                "color": "#15AFAC",
                "directed": true,
                "end": "GRP14",
                "id": 138,
                "label": "IS_IN_GROUP",
                "properties": {
                  "label": "IS_IN_GROUP"
                },
                "start": "CTL34",
                "thickness_factor": 1
              },
              {
                "color": "#15AFAC",
                "directed": true,
                "end": "GRP17",
                "id": 139,
                "label": "IS_IN_GROUP",
                "properties": {
                  "label": "IS_IN_GROUP"
                },
                "start": "CTL34",
                "thickness_factor": 1
              },
              {
                "color": "#15AFAC",
                "directed": true,
                "end": "GRP18",
                "id": 140,
                "label": "IS_IN_GROUP",
                "properties": {
                  "label": "IS_IN_GROUP"
                },
                "start": "CTL34",
                "thickness_factor": 1
              },
              {
                "color": "#15AFAC",
                "directed": true,
                "end": "GRP19",
                "id": 141,
                "label": "IS_IN_GROUP",
                "properties": {
                  "label": "IS_IN_GROUP"
                },
                "start": "CTL34",
                "thickness_factor": 1
              },
              {
                "color": "#15AFAC",
                "directed": true,
                "end": "TYP4",
                "id": 142,
                "label": "IS_OF_TYPE",
                "properties": {
                  "label": "IS_OF_TYPE"
                },
                "start": "CTL34",
                "thickness_factor": 1
              },
              {
                "color": "#15AFAC",
                "directed": true,
                "end": "CAT3",
                "id": 143,
                "label": "IS_IN_CATEGORY",
                "properties": {
                  "label": "IS_IN_CATEGORY"
                },
                "start": "CTL35",
                "thickness_factor": 1
              },
              {
                "color": "#15AFAC",
                "directed": true,
                "end": "GRP11",
                "id": 144,
                "label": "IS_IN_GROUP",
                "properties": {
                  "label": "IS_IN_GROUP"
                },
                "start": "CTL35",
                "thickness_factor": 1
              },
              {
                "color": "#15AFAC",
                "directed": true,
                "end": "GRP12",
                "id": 145,
                "label": "IS_IN_GROUP",
                "properties": {
                  "label": "IS_IN_GROUP"
                },
                "start": "CTL35",
                "thickness_factor": 1
              },
              {
                "color": "#15AFAC",
                "directed": true,
                "end": "GRP13",
                "id": 146,
                "label": "IS_IN_GROUP",
                "properties": {
                  "label": "IS_IN_GROUP"
                },
                "start": "CTL35",
                "thickness_factor": 1
              },
              {
                "color": "#15AFAC",
                "directed": true,
                "end": "GRP14",
                "id": 147,
                "label": "IS_IN_GROUP",
                "properties": {
                  "label": "IS_IN_GROUP"
                },
                "start": "CTL35",
                "thickness_factor": 1
              },
              {
                "color": "#15AFAC",
                "directed": true,
                "end": "GRP17",
                "id": 148,
                "label": "IS_IN_GROUP",
                "properties": {
                  "label": "IS_IN_GROUP"
                },
                "start": "CTL35",
                "thickness_factor": 1
              },
              {
                "color": "#15AFAC",
                "directed": true,
                "end": "GRP18",
                "id": 149,
                "label": "IS_IN_GROUP",
                "properties": {
                  "label": "IS_IN_GROUP"
                },
                "start": "CTL35",
                "thickness_factor": 1
              },
              {
                "color": "#15AFAC",
                "directed": true,
                "end": "GRP19",
                "id": 150,
                "label": "IS_IN_GROUP",
                "properties": {
                  "label": "IS_IN_GROUP"
                },
                "start": "CTL35",
                "thickness_factor": 1
              },
              {
                "color": "#15AFAC",
                "directed": true,
                "end": "TYP3",
                "id": 151,
                "label": "IS_OF_TYPE",
                "properties": {
                  "label": "IS_OF_TYPE"
                },
                "start": "CTL35",
                "thickness_factor": 1
              },
              {
                "color": "#15AFAC",
                "directed": true,
                "end": "CAT3",
                "id": 152,
                "label": "IS_IN_CATEGORY",
                "properties": {
                  "label": "IS_IN_CATEGORY"
                },
                "start": "CTL36",
                "thickness_factor": 1
              },
              {
                "color": "#15AFAC",
                "directed": true,
                "end": "GRP11",
                "id": 153,
                "label": "IS_IN_GROUP",
                "properties": {
                  "label": "IS_IN_GROUP"
                },
                "start": "CTL36",
                "thickness_factor": 1
              },
              {
                "color": "#15AFAC",
                "directed": true,
                "end": "GRP12",
                "id": 154,
                "label": "IS_IN_GROUP",
                "properties": {
                  "label": "IS_IN_GROUP"
                },
                "start": "CTL36",
                "thickness_factor": 1
              },
              {
                "color": "#15AFAC",
                "directed": true,
                "end": "GRP13",
                "id": 155,
                "label": "IS_IN_GROUP",
                "properties": {
                  "label": "IS_IN_GROUP"
                },
                "start": "CTL36",
                "thickness_factor": 1
              },
              {
                "color": "#15AFAC",
                "directed": true,
                "end": "GRP14",
                "id": 156,
                "label": "IS_IN_GROUP",
                "properties": {
                  "label": "IS_IN_GROUP"
                },
                "start": "CTL36",
                "thickness_factor": 1
              },
              {
                "color": "#15AFAC",
                "directed": true,
                "end": "GRP15",
                "id": 157,
                "label": "IS_IN_GROUP",
                "properties": {
                  "label": "IS_IN_GROUP"
                },
                "start": "CTL36",
                "thickness_factor": 1
              },
              {
                "color": "#15AFAC",
                "directed": true,
                "end": "GRP17",
                "id": 158,
                "label": "IS_IN_GROUP",
                "properties": {
                  "label": "IS_IN_GROUP"
                },
                "start": "CTL36",
                "thickness_factor": 1
              },
              {
                "color": "#15AFAC",
                "directed": true,
                "end": "GRP18",
                "id": 159,
                "label": "IS_IN_GROUP",
                "properties": {
                  "label": "IS_IN_GROUP"
                },
                "start": "CTL36",
                "thickness_factor": 1
              },
              {
                "color": "#15AFAC",
                "directed": true,
                "end": "GRP19",
                "id": 160,
                "label": "IS_IN_GROUP",
                "properties": {
                  "label": "IS_IN_GROUP"
                },
                "start": "CTL36",
                "thickness_factor": 1
              },
              {
                "color": "#15AFAC",
                "directed": true,
                "end": "TYP1",
                "id": 161,
                "label": "IS_OF_TYPE",
                "properties": {
                  "label": "IS_OF_TYPE"
                },
                "start": "CTL36",
                "thickness_factor": 1
              },
              {
                "color": "#15AFAC",
                "directed": true,
                "end": "CAT3",
                "id": 162,
                "label": "IS_IN_CATEGORY",
                "properties": {
                  "label": "IS_IN_CATEGORY"
                },
                "start": "CTL37",
                "thickness_factor": 1
              },
              {
                "color": "#15AFAC",
                "directed": true,
                "end": "GRP12",
                "id": 163,
                "label": "IS_IN_GROUP",
                "properties": {
                  "label": "IS_IN_GROUP"
                },
                "start": "CTL37",
                "thickness_factor": 1
              },
              {
                "color": "#15AFAC",
                "directed": true,
                "end": "TYP3",
                "id": 164,
                "label": "IS_OF_TYPE",
                "properties": {
                  "label": "IS_OF_TYPE"
                },
                "start": "CTL37",
                "thickness_factor": 1
              },
              {
                "color": "#15AFAC",
                "directed": true,
                "end": "CAT3",
                "id": 165,
                "label": "IS_IN_CATEGORY",
                "properties": {
                  "label": "IS_IN_CATEGORY"
                },
                "start": "CTL38",
                "thickness_factor": 1
              },
              {
                "color": "#15AFAC",
                "directed": true,
                "end": "GRP13",
                "id": 166,
                "label": "IS_IN_GROUP",
                "properties": {
                  "label": "IS_IN_GROUP"
                },
                "start": "CTL38",
                "thickness_factor": 1
              },
              {
                "color": "#15AFAC",
                "directed": true,
                "end": "TYP3",
                "id": 167,
                "label": "IS_OF_TYPE",
                "properties": {
                  "label": "IS_OF_TYPE"
                },
                "start": "CTL38",
                "thickness_factor": 1
              },
              {
                "color": "#15AFAC",
                "directed": true,
                "end": "CAT3",
                "id": 168,
                "label": "IS_IN_CATEGORY",
                "properties": {
                  "label": "IS_IN_CATEGORY"
                },
                "start": "CTL39",
                "thickness_factor": 1
              },
              {
                "color": "#15AFAC",
                "directed": true,
                "end": "GRP13",
                "id": 169,
                "label": "IS_IN_GROUP",
                "properties": {
                  "label": "IS_IN_GROUP"
                },
                "start": "CTL39",
                "thickness_factor": 1
              },
              {
                "color": "#15AFAC",
                "directed": true,
                "end": "TYP3",
                "id": 170,
                "label": "IS_OF_TYPE",
                "properties": {
                  "label": "IS_OF_TYPE"
                },
                "start": "CTL39",
                "thickness_factor": 1
              },
              {
                "color": "#15AFAC",
                "directed": true,
                "end": "CAT3",
                "id": 171,
                "label": "IS_IN_CATEGORY",
                "properties": {
                  "label": "IS_IN_CATEGORY"
                },
                "start": "CTL40",
                "thickness_factor": 1
              },
              {
                "color": "#15AFAC",
                "directed": true,
                "end": "GRP13",
                "id": 172,
                "label": "IS_IN_GROUP",
                "properties": {
                  "label": "IS_IN_GROUP"
                },
                "start": "CTL40",
                "thickness_factor": 1
              },
              {
                "color": "#15AFAC",
                "directed": true,
                "end": "TYP3",
                "id": 173,
                "label": "IS_OF_TYPE",
                "properties": {
                  "label": "IS_OF_TYPE"
                },
                "start": "CTL40",
                "thickness_factor": 1
              },
              {
                "color": "#15AFAC",
                "directed": true,
                "end": "CAT3",
                "id": 174,
                "label": "IS_IN_CATEGORY",
                "properties": {
                  "label": "IS_IN_CATEGORY"
                },
                "start": "CTL41",
                "thickness_factor": 1
              },
              {
                "color": "#15AFAC",
                "directed": true,
                "end": "GRP13",
                "id": 175,
                "label": "IS_IN_GROUP",
                "properties": {
                  "label": "IS_IN_GROUP"
                },
                "start": "CTL41",
                "thickness_factor": 1
              },
              {
                "color": "#15AFAC",
                "directed": true,
                "end": "TYP3",
                "id": 176,
                "label": "IS_OF_TYPE",
                "properties": {
                  "label": "IS_OF_TYPE"
                },
                "start": "CTL41",
                "thickness_factor": 1
              },
              {
                "color": "#15AFAC",
                "directed": true,
                "end": "CAT4",
                "id": 177,
                "label": "IS_IN_CATEGORY",
                "properties": {
                  "label": "IS_IN_CATEGORY"
                },
                "start": "CTL42",
                "thickness_factor": 1
              },
              {
                "color": "#15AFAC",
                "directed": true,
                "end": "GRP20",
                "id": 178,
                "label": "IS_IN_GROUP",
                "properties": {
                  "label": "IS_IN_GROUP"
                },
                "start": "CTL42",
                "thickness_factor": 1
              },
              {
                "color": "#15AFAC",
                "directed": true,
                "end": "TYP1",
                "id": 179,
                "label": "IS_OF_TYPE",
                "properties": {
                  "label": "IS_OF_TYPE"
                },
                "start": "CTL42",
                "thickness_factor": 1
              },
              {
                "color": "#15AFAC",
                "directed": true,
                "end": "CAT4",
                "id": 180,
                "label": "IS_IN_CATEGORY",
                "properties": {
                  "label": "IS_IN_CATEGORY"
                },
                "start": "CTL43",
                "thickness_factor": 1
              },
              {
                "color": "#15AFAC",
                "directed": true,
                "end": "GRP20",
                "id": 181,
                "label": "IS_IN_GROUP",
                "properties": {
                  "label": "IS_IN_GROUP"
                },
                "start": "CTL43",
                "thickness_factor": 1
              },
              {
                "color": "#15AFAC",
                "directed": true,
                "end": "TYP1",
                "id": 182,
                "label": "IS_OF_TYPE",
                "properties": {
                  "label": "IS_OF_TYPE"
                },
                "start": "CTL43",
                "thickness_factor": 1
              },
              {
                "color": "#15AFAC",
                "directed": true,
                "end": "CAT4",
                "id": 183,
                "label": "IS_IN_CATEGORY",
                "properties": {
                  "label": "IS_IN_CATEGORY"
                },
                "start": "CTL44",
                "thickness_factor": 1
              },
              {
                "color": "#15AFAC",
                "directed": true,
                "end": "GRP21",
                "id": 184,
                "label": "IS_IN_GROUP",
                "properties": {
                  "label": "IS_IN_GROUP"
                },
                "start": "CTL44",
                "thickness_factor": 1
              },
              {
                "color": "#15AFAC",
                "directed": true,
                "end": "TYP1",
                "id": 185,
                "label": "IS_OF_TYPE",
                "properties": {
                  "label": "IS_OF_TYPE"
                },
                "start": "CTL44",
                "thickness_factor": 1
              },
              {
                "color": "#15AFAC",
                "directed": true,
                "end": "CAT4",
                "id": 186,
                "label": "IS_IN_CATEGORY",
                "properties": {
                  "label": "IS_IN_CATEGORY"
                },
                "start": "CTL45",
                "thickness_factor": 1
              },
              {
                "color": "#15AFAC",
                "directed": true,
                "end": "GRP22",
                "id": 187,
                "label": "IS_IN_GROUP",
                "properties": {
                  "label": "IS_IN_GROUP"
                },
                "start": "CTL45",
                "thickness_factor": 1
              },
              {
                "color": "#15AFAC",
                "directed": true,
                "end": "TYP1",
                "id": 188,
                "label": "IS_OF_TYPE",
                "properties": {
                  "label": "IS_OF_TYPE"
                },
                "start": "CTL45",
                "thickness_factor": 1
              },
              {
                "color": "#15AFAC",
                "directed": true,
                "end": "CAT4",
                "id": 189,
                "label": "IS_IN_CATEGORY",
                "properties": {
                  "label": "IS_IN_CATEGORY"
                },
                "start": "CTL46",
                "thickness_factor": 1
              },
              {
                "color": "#15AFAC",
                "directed": true,
                "end": "GRP23",
                "id": 190,
                "label": "IS_IN_GROUP",
                "properties": {
                  "label": "IS_IN_GROUP"
                },
                "start": "CTL46",
                "thickness_factor": 1
              },
              {
                "color": "#15AFAC",
                "directed": true,
                "end": "TYP1",
                "id": 191,
                "label": "IS_OF_TYPE",
                "properties": {
                  "label": "IS_OF_TYPE"
                },
                "start": "CTL46",
                "thickness_factor": 1
              },
              {
                "color": "#15AFAC",
                "directed": true,
                "end": "CAT4",
                "id": 192,
                "label": "IS_IN_CATEGORY",
                "properties": {
                  "label": "IS_IN_CATEGORY"
                },
                "start": "CTL47",
                "thickness_factor": 1
              },
              {
                "color": "#15AFAC",
                "directed": true,
                "end": "GRP23",
                "id": 193,
                "label": "IS_IN_GROUP",
                "properties": {
                  "label": "IS_IN_GROUP"
                },
                "start": "CTL47",
                "thickness_factor": 1
              },
              {
                "color": "#15AFAC",
                "directed": true,
                "end": "TYP1",
                "id": 194,
                "label": "IS_OF_TYPE",
                "properties": {
                  "label": "IS_OF_TYPE"
                },
                "start": "CTL47",
                "thickness_factor": 1
              },
              {
                "color": "#15AFAC",
                "directed": true,
                "end": "CAT4",
                "id": 195,
                "label": "IS_IN_CATEGORY",
                "properties": {
                  "label": "IS_IN_CATEGORY"
                },
                "start": "CTL48",
                "thickness_factor": 1
              },
              {
                "color": "#15AFAC",
                "directed": true,
                "end": "GRP24",
                "id": 196,
                "label": "IS_IN_GROUP",
                "properties": {
                  "label": "IS_IN_GROUP"
                },
                "start": "CTL48",
                "thickness_factor": 1
              },
              {
                "color": "#15AFAC",
                "directed": true,
                "end": "TYP4",
                "id": 197,
                "label": "IS_OF_TYPE",
                "properties": {
                  "label": "IS_OF_TYPE"
                },
                "start": "CTL48",
                "thickness_factor": 1
              },
              {
                "color": "#15AFAC",
                "directed": true,
                "end": "CAT4",
                "id": 198,
                "label": "IS_IN_CATEGORY",
                "properties": {
                  "label": "IS_IN_CATEGORY"
                },
                "start": "CTL49",
                "thickness_factor": 1
              },
              {
                "color": "#15AFAC",
                "directed": true,
                "end": "GRP25",
                "id": 199,
                "label": "IS_IN_GROUP",
                "properties": {
                  "label": "IS_IN_GROUP"
                },
                "start": "CTL49",
                "thickness_factor": 1
              },
              {
                "color": "#15AFAC",
                "directed": true,
                "end": "TYP1",
                "id": 200,
                "label": "IS_OF_TYPE",
                "properties": {
                  "label": "IS_OF_TYPE"
                },
                "start": "CTL49",
                "thickness_factor": 1
              },
              {
                "color": "#15AFAC",
                "directed": true,
                "end": "CAT4",
                "id": 201,
                "label": "IS_IN_CATEGORY",
                "properties": {
                  "label": "IS_IN_CATEGORY"
                },
                "start": "CTL50",
                "thickness_factor": 1
              },
              {
                "color": "#15AFAC",
                "directed": true,
                "end": "GRP25",
                "id": 202,
                "label": "IS_IN_GROUP",
                "properties": {
                  "label": "IS_IN_GROUP"
                },
                "start": "CTL50",
                "thickness_factor": 1
              },
              {
                "color": "#15AFAC",
                "directed": true,
                "end": "TYP4",
                "id": 203,
                "label": "IS_OF_TYPE",
                "properties": {
                  "label": "IS_OF_TYPE"
                },
                "start": "CTL50",
                "thickness_factor": 1
              },
              {
                "color": "#15AFAC",
                "directed": true,
                "end": "CAT4",
                "id": 204,
                "label": "IS_IN_CATEGORY",
                "properties": {
                  "label": "IS_IN_CATEGORY"
                },
                "start": "CTL51",
                "thickness_factor": 1
              },
              {
                "color": "#15AFAC",
                "directed": true,
                "end": "GRP26",
                "id": 205,
                "label": "IS_IN_GROUP",
                "properties": {
                  "label": "IS_IN_GROUP"
                },
                "start": "CTL51",
                "thickness_factor": 1
              },
              {
                "color": "#15AFAC",
                "directed": true,
                "end": "TYP4",
                "id": 206,
                "label": "IS_OF_TYPE",
                "properties": {
                  "label": "IS_OF_TYPE"
                },
                "start": "CTL51",
                "thickness_factor": 1
              },
              {
                "color": "#15AFAC",
                "directed": true,
                "end": "CAT4",
                "id": 207,
                "label": "IS_IN_CATEGORY",
                "properties": {
                  "label": "IS_IN_CATEGORY"
                },
                "start": "CTL52",
                "thickness_factor": 1
              },
              {
                "color": "#15AFAC",
                "directed": true,
                "end": "GRP26",
                "id": 208,
                "label": "IS_IN_GROUP",
                "properties": {
                  "label": "IS_IN_GROUP"
                },
                "start": "CTL52",
                "thickness_factor": 1
              },
              {
                "color": "#15AFAC",
                "directed": true,
                "end": "TYP4",
                "id": 209,
                "label": "IS_OF_TYPE",
                "properties": {
                  "label": "IS_OF_TYPE"
                },
                "start": "CTL52",
                "thickness_factor": 1
              }
            ],
            "_graph_layout": {},
            "_highlight": [],
            "_license": {},
            "_model_module": "yfiles-jupyter-graphs",
            "_model_module_version": "^1.6.2",
            "_model_name": "GraphModel",
            "_neighborhood": {},
            "_nodes": [
              {
                "color": "#FF7F50",
                "id": "CTL1",
                "label": "AIPROGRAM",
                "position": [
                  0,
                  0
                ],
                "properties": {
                  "URL": "https://owaspai.org/docs/1_general_controls/#aiprogram",
                  "label": "AIPROGRAM"
                },
                "scale_factor": 1,
                "size": [
                  55,
                  55
                ],
                "styles": {},
                "type": "#FF7F50"
              },
              {
                "color": "#FF7F50",
                "id": "CTL2",
                "label": "SECPROGRAM",
                "position": [
                  0,
                  0
                ],
                "properties": {
                  "URL": "https://owaspai.org/docs/1_general_controls/#secprogram",
                  "label": "SECPROGRAM"
                },
                "scale_factor": 1,
                "size": [
                  55,
                  55
                ],
                "styles": {},
                "type": "#FF7F50"
              },
              {
                "color": "#FF7F50",
                "id": "CTL3",
                "label": "SECDEVPROGRAM",
                "position": [
                  0,
                  0
                ],
                "properties": {
                  "URL": "https://owaspai.org/docs/1_general_controls/#secdevprogram",
                  "label": "SECDEVPROGRAM"
                },
                "scale_factor": 1,
                "size": [
                  55,
                  55
                ],
                "styles": {},
                "type": "#FF7F50"
              },
              {
                "color": "#FF7F50",
                "id": "CTL4",
                "label": "DEVPROGRAM",
                "position": [
                  0,
                  0
                ],
                "properties": {
                  "URL": "https://owaspai.org/docs/1_general_controls/#devprogram",
                  "label": "DEVPROGRAM"
                },
                "scale_factor": 1,
                "size": [
                  55,
                  55
                ],
                "styles": {},
                "type": "#FF7F50"
              },
              {
                "color": "#FF7F50",
                "id": "CTL5",
                "label": "CHECKCOMPLIANCE",
                "position": [
                  0,
                  0
                ],
                "properties": {
                  "URL": "https://owaspai.org/docs/1_general_controls/#checkcompliance",
                  "label": "CHECKCOMPLIANCE"
                },
                "scale_factor": 1,
                "size": [
                  55,
                  55
                ],
                "styles": {},
                "type": "#FF7F50"
              },
              {
                "color": "#FF7F50",
                "id": "CTL6",
                "label": "SECEDUCATE",
                "position": [
                  0,
                  0
                ],
                "properties": {
                  "URL": "https://owaspai.org/docs/1_general_controls/#seceducate",
                  "label": "SECEDUCATE"
                },
                "scale_factor": 1,
                "size": [
                  55,
                  55
                ],
                "styles": {},
                "type": "#FF7F50"
              },
              {
                "color": "#FF7F50",
                "id": "CTL7",
                "label": "OVERSIGHT",
                "position": [
                  0,
                  0
                ],
                "properties": {
                  "URL": "https://owaspai.org/docs/1_general_controls/#oversight",
                  "label": "OVERSIGHT"
                },
                "scale_factor": 1,
                "size": [
                  55,
                  55
                ],
                "styles": {},
                "type": "#FF7F50"
              },
              {
                "color": "#FF7F50",
                "id": "CTL8",
                "label": "LEASTMODELPRIVILEGE",
                "position": [
                  0,
                  0
                ],
                "properties": {
                  "URL": "https://owaspai.org/docs/1_general_controls/#leastmodelprivilege",
                  "label": "LEASTMODELPRIVILEGE"
                },
                "scale_factor": 1,
                "size": [
                  55,
                  55
                ],
                "styles": {},
                "type": "#FF7F50"
              },
              {
                "color": "#FF7F50",
                "id": "CTL9",
                "label": "AITRANSPARENCY",
                "position": [
                  0,
                  0
                ],
                "properties": {
                  "URL": "https://owaspai.org/docs/1_general_controls/#aitransparency",
                  "label": "AITRANSPARENCY"
                },
                "scale_factor": 1,
                "size": [
                  55,
                  55
                ],
                "styles": {},
                "type": "#FF7F50"
              },
              {
                "color": "#FF7F50",
                "id": "CTL10",
                "label": "CONTINUOUSVALIDATION",
                "position": [
                  0,
                  0
                ],
                "properties": {
                  "URL": "https://owaspai.org/docs/1_general_controls/#continuousvalidation",
                  "label": "CONTINUOUSVALIDATION"
                },
                "scale_factor": 1,
                "size": [
                  55,
                  55
                ],
                "styles": {},
                "type": "#FF7F50"
              },
              {
                "color": "#FF7F50",
                "id": "CTL11",
                "label": "EXPLAINABILITY",
                "position": [
                  0,
                  0
                ],
                "properties": {
                  "URL": "https://owaspai.org/docs/1_general_controls/#explainability",
                  "label": "EXPLAINABILITY"
                },
                "scale_factor": 1,
                "size": [
                  55,
                  55
                ],
                "styles": {},
                "type": "#FF7F50"
              },
              {
                "color": "#FF7F50",
                "id": "CTL12",
                "label": "UNWANTEDBIASTESTING",
                "position": [
                  0,
                  0
                ],
                "properties": {
                  "URL": "https://owaspai.org/docs/1_general_controls/#unwantedbiastesting",
                  "label": "UNWANTEDBIASTESTING"
                },
                "scale_factor": 1,
                "size": [
                  55,
                  55
                ],
                "styles": {},
                "type": "#FF7F50"
              },
              {
                "color": "#FF7F50",
                "id": "CTL13",
                "label": "DATAMINIMIZE",
                "position": [
                  0,
                  0
                ],
                "properties": {
                  "URL": "https://owaspai.org/docs/1_general_controls/#dataminimize",
                  "label": "DATAMINIMIZE"
                },
                "scale_factor": 1,
                "size": [
                  55,
                  55
                ],
                "styles": {},
                "type": "#FF7F50"
              },
              {
                "color": "#FF7F50",
                "id": "CTL14",
                "label": "ALLOWEDDATA",
                "position": [
                  0,
                  0
                ],
                "properties": {
                  "URL": "https://owaspai.org/docs/1_general_controls/#alloweddata",
                  "label": "ALLOWEDDATA"
                },
                "scale_factor": 1,
                "size": [
                  55,
                  55
                ],
                "styles": {},
                "type": "#FF7F50"
              },
              {
                "color": "#FF7F50",
                "id": "CTL15",
                "label": "SHORTRETAIN",
                "position": [
                  0,
                  0
                ],
                "properties": {
                  "URL": "https://owaspai.org/docs/1_general_controls/#shortretain",
                  "label": "SHORTRETAIN"
                },
                "scale_factor": 1,
                "size": [
                  55,
                  55
                ],
                "styles": {},
                "type": "#FF7F50"
              },
              {
                "color": "#FF7F50",
                "id": "CTL15",
                "label": "OBFUSCATETRAININGDATA",
                "position": [
                  0,
                  0
                ],
                "properties": {
                  "URL": "https://owaspai.org/docs/1_general_controls/#obfuscatetrainingdata",
                  "label": "OBFUSCATETRAININGDATA"
                },
                "scale_factor": 1,
                "size": [
                  55,
                  55
                ],
                "styles": {},
                "type": "#FF7F50"
              },
              {
                "color": "#FF7F50",
                "id": "CTL16",
                "label": "DISCRETE",
                "position": [
                  0,
                  0
                ],
                "properties": {
                  "URL": "https://owaspai.org/docs/1_general_controls/#discrete",
                  "label": "DISCRETE"
                },
                "scale_factor": 1,
                "size": [
                  55,
                  55
                ],
                "styles": {},
                "type": "#FF7F50"
              },
              {
                "color": "#FF7F50",
                "id": "CTL17",
                "label": "MONITORUSE",
                "position": [
                  0,
                  0
                ],
                "properties": {
                  "URL": "https://owaspai.org/docs/2_threats_through_use/#monitoruse",
                  "label": "MONITORUSE"
                },
                "scale_factor": 1,
                "size": [
                  55,
                  55
                ],
                "styles": {},
                "type": "#FF7F50"
              },
              {
                "color": "#FF7F50",
                "id": "CTL18",
                "label": "RATELIMIT",
                "position": [
                  0,
                  0
                ],
                "properties": {
                  "URL": "https://owaspai.org/docs/2_threats_through_use/#ratelimit",
                  "label": "RATELIMIT"
                },
                "scale_factor": 1,
                "size": [
                  55,
                  55
                ],
                "styles": {},
                "type": "#FF7F50"
              },
              {
                "color": "#FF7F50",
                "id": "CTL19",
                "label": "MODELACCESSCONTROL",
                "position": [
                  0,
                  0
                ],
                "properties": {
                  "URL": "https://owaspai.org/docs/2_threats_through_use/#modelaccesscontrol",
                  "label": "MODELACCESSCONTROL"
                },
                "scale_factor": 1,
                "size": [
                  55,
                  55
                ],
                "styles": {},
                "type": "#FF7F50"
              },
              {
                "color": "#FF7F50",
                "id": "CTL20",
                "label": "DETECTODDINPUT",
                "position": [
                  0,
                  0
                ],
                "properties": {
                  "URL": "https://owaspai.org/docs/2_threats_through_use/#detectoddinput",
                  "label": "DETECTODDINPUT"
                },
                "scale_factor": 1,
                "size": [
                  55,
                  55
                ],
                "styles": {},
                "type": "#FF7F50"
              },
              {
                "color": "#FF7F50",
                "id": "CTL21",
                "label": "DETECTADVERSARIALINPUT",
                "position": [
                  0,
                  0
                ],
                "properties": {
                  "URL": "https://owaspai.org/docs/2_threats_through_use/#detectadversarialinput",
                  "label": "DETECTADVERSARIALINPUT"
                },
                "scale_factor": 1,
                "size": [
                  55,
                  55
                ],
                "styles": {},
                "type": "#FF7F50"
              },
              {
                "color": "#FF7F50",
                "id": "CTL22",
                "label": "EVASIONROBUSTMODEL",
                "position": [
                  0,
                  0
                ],
                "properties": {
                  "URL": "https://owaspai.org/docs/2_threats_through_use/#evasionrobustmodel",
                  "label": "EVASIONROBUSTMODEL"
                },
                "scale_factor": 1,
                "size": [
                  55,
                  55
                ],
                "styles": {},
                "type": "#FF7F50"
              },
              {
                "color": "#FF7F50",
                "id": "CTL23",
                "label": "TRAINADVERSARIAL",
                "position": [
                  0,
                  0
                ],
                "properties": {
                  "URL": "https://owaspai.org/docs/2_threats_through_use/#trainadversarial",
                  "label": "TRAINADVERSARIAL"
                },
                "scale_factor": 1,
                "size": [
                  55,
                  55
                ],
                "styles": {},
                "type": "#FF7F50"
              },
              {
                "color": "#FF7F50",
                "id": "CTL24",
                "label": "INPUTDISTORTION",
                "position": [
                  0,
                  0
                ],
                "properties": {
                  "URL": "https://owaspai.org/docs/2_threats_through_use/#inputdistortion",
                  "label": "INPUTDISTORTION"
                },
                "scale_factor": 1,
                "size": [
                  55,
                  55
                ],
                "styles": {},
                "type": "#FF7F50"
              },
              {
                "color": "#FF7F50",
                "id": "CTL25",
                "label": "ADVERSARIALROBUSTDISTILLATION",
                "position": [
                  0,
                  0
                ],
                "properties": {
                  "URL": "https://owaspai.org/docs/2_threats_through_use/#adversarialrobustdistillation",
                  "label": "ADVERSARIALROBUSTDISTILLATION"
                },
                "scale_factor": 1,
                "size": [
                  55,
                  55
                ],
                "styles": {},
                "type": "#FF7F50"
              },
              {
                "color": "#FF7F50",
                "id": "CTL26",
                "label": "FILTERSENSITIVEMODELOUTPUT",
                "position": [
                  0,
                  0
                ],
                "properties": {
                  "URL": "https://owaspai.org/docs/2_threats_through_use/#filtersensitivemodeloutput",
                  "label": "FILTERSENSITIVEMODELOUTPUT"
                },
                "scale_factor": 1,
                "size": [
                  55,
                  55
                ],
                "styles": {},
                "type": "#FF7F50"
              },
              {
                "color": "#FF7F50",
                "id": "CTL27",
                "label": "OBSCURECONFIDENCE",
                "position": [
                  0,
                  0
                ],
                "properties": {
                  "URL": "https://owaspai.org/docs/2_threats_through_use/#obscureconfidence",
                  "label": "OBSCURECONFIDENCE"
                },
                "scale_factor": 1,
                "size": [
                  55,
                  55
                ],
                "styles": {},
                "type": "#FF7F50"
              },
              {
                "color": "#FF7F50",
                "id": "CTL28",
                "label": "SMALLMODEL",
                "position": [
                  0,
                  0
                ],
                "properties": {
                  "URL": "https://owaspai.org/docs/2_threats_through_use/#smallmodel",
                  "label": "SMALLMODEL"
                },
                "scale_factor": 1,
                "size": [
                  55,
                  55
                ],
                "styles": {},
                "type": "#FF7F50"
              },
              {
                "color": "#FF7F50",
                "id": "CTL29",
                "label": "DOSINPUTVALIDATION",
                "position": [
                  0,
                  0
                ],
                "properties": {
                  "URL": "https://owaspai.org/docs/2_threats_through_use/#dosinputvalidation",
                  "label": "DOSINPUTVALIDATION"
                },
                "scale_factor": 1,
                "size": [
                  55,
                  55
                ],
                "styles": {},
                "type": "#FF7F50"
              },
              {
                "color": "#FF7F50",
                "id": "CTL30",
                "label": "LIMITRESOURCES",
                "position": [
                  0,
                  0
                ],
                "properties": {
                  "URL": "https://owaspai.org/docs/2_threats_through_use/#limitresources",
                  "label": "LIMITRESOURCES"
                },
                "scale_factor": 1,
                "size": [
                  55,
                  55
                ],
                "styles": {},
                "type": "#FF7F50"
              },
              {
                "color": "#FF7F50",
                "id": "CTL31",
                "label": "DEVDATAPROTECT",
                "position": [
                  0,
                  0
                ],
                "properties": {
                  "URL": "https://owaspai.org/docs/3_development_time_threats/#devdataprotect",
                  "label": "DEVDATAPROTECT"
                },
                "scale_factor": 1,
                "size": [
                  55,
                  55
                ],
                "styles": {},
                "type": "#FF7F50"
              },
              {
                "color": "#FF7F50",
                "id": "CTL32",
                "label": "DEVSECURITY",
                "position": [
                  0,
                  0
                ],
                "properties": {
                  "URL": "https://owaspai.org/docs/3_development_time_threats/#devsecurity",
                  "label": "DEVSECURITY"
                },
                "scale_factor": 1,
                "size": [
                  55,
                  55
                ],
                "styles": {},
                "type": "#FF7F50"
              },
              {
                "color": "#FF7F50",
                "id": "CTL33",
                "label": "SEGREGATEDATA",
                "position": [
                  0,
                  0
                ],
                "properties": {
                  "URL": "https://owaspai.org/docs/3_development_time_threats/#segregatedata",
                  "label": "SEGREGATEDATA"
                },
                "scale_factor": 1,
                "size": [
                  55,
                  55
                ],
                "styles": {},
                "type": "#FF7F50"
              },
              {
                "color": "#FF7F50",
                "id": "CTL34",
                "label": "CONFCOMPUTE",
                "position": [
                  0,
                  0
                ],
                "properties": {
                  "URL": "https://owaspai.org/docs/3_development_time_threats/#confcompute",
                  "label": "CONFCOMPUTE"
                },
                "scale_factor": 1,
                "size": [
                  55,
                  55
                ],
                "styles": {},
                "type": "#FF7F50"
              },
              {
                "color": "#FF7F50",
                "id": "CTL35",
                "label": "FEDERATEDLEARNING",
                "position": [
                  0,
                  0
                ],
                "properties": {
                  "URL": "https://owaspai.org/docs/3_development_time_threats/#federatedlearning",
                  "label": "FEDERATEDLEARNING"
                },
                "scale_factor": 1,
                "size": [
                  55,
                  55
                ],
                "styles": {},
                "type": "#FF7F50"
              },
              {
                "color": "#FF7F50",
                "id": "CTL36",
                "label": "SUPPLYCHAINIMAGE",
                "position": [
                  0,
                  0
                ],
                "properties": {
                  "URL": "https://owaspai.org/docs/3_development_time_threats/#supplychainmanage",
                  "label": "SUPPLYCHAINIMAGE"
                },
                "scale_factor": 1,
                "size": [
                  55,
                  55
                ],
                "styles": {},
                "type": "#FF7F50"
              },
              {
                "color": "#FF7F50",
                "id": "CTL37",
                "label": "MODELENSEMBLE",
                "position": [
                  0,
                  0
                ],
                "properties": {
                  "URL": "https://owaspai.org/docs/3_development_time_threats/#modelensemble",
                  "label": "MODELENSEMBLE"
                },
                "scale_factor": 1,
                "size": [
                  55,
                  55
                ],
                "styles": {},
                "type": "#FF7F50"
              },
              {
                "color": "#FF7F50",
                "id": "CTL38",
                "label": "MORETRAINDATA",
                "position": [
                  0,
                  0
                ],
                "properties": {
                  "URL": "https://owaspai.org/docs/3_development_time_threats/#moretraindata",
                  "label": "MORETRAINDATA"
                },
                "scale_factor": 1,
                "size": [
                  55,
                  55
                ],
                "styles": {},
                "type": "#FF7F50"
              },
              {
                "color": "#FF7F50",
                "id": "CTL39",
                "label": "DATAQUALITYCONTROL",
                "position": [
                  0,
                  0
                ],
                "properties": {
                  "URL": "https://owaspai.org/docs/3_development_time_threats/#dataqualitycontrol",
                  "label": "DATAQUALITYCONTROL"
                },
                "scale_factor": 1,
                "size": [
                  55,
                  55
                ],
                "styles": {},
                "type": "#FF7F50"
              },
              {
                "color": "#FF7F50",
                "id": "CTL40",
                "label": "TRAINDATADISTORTION",
                "position": [
                  0,
                  0
                ],
                "properties": {
                  "URL": "https://owaspai.org/docs/3_development_time_threats/#traindatadistortion",
                  "label": "TRAINDATADISTORTION"
                },
                "scale_factor": 1,
                "size": [
                  55,
                  55
                ],
                "styles": {},
                "type": "#FF7F50"
              },
              {
                "color": "#FF7F50",
                "id": "CTL41",
                "label": "POISONROBUSTMODEL",
                "position": [
                  0,
                  0
                ],
                "properties": {
                  "URL": "https://owaspai.org/docs/3_development_time_threats/#poisonrobustmodel",
                  "label": "POISONROBUSTMODEL"
                },
                "scale_factor": 1,
                "size": [
                  55,
                  55
                ],
                "styles": {},
                "type": "#FF7F50"
              },
              {
                "color": "#FF7F50",
                "id": "CTL42",
                "label": "Technical AppSec Controls",
                "position": [
                  0,
                  0
                ],
                "properties": {
                  "URL": "https://www.opencre.org/cre/636-660",
                  "label": "Technical AppSec Controls"
                },
                "scale_factor": 1,
                "size": [
                  55,
                  55
                ],
                "styles": {},
                "type": "#FF7F50"
              },
              {
                "color": "#FF7F50",
                "id": "CTL43",
                "label": "Operational Security",
                "position": [
                  0,
                  0
                ],
                "properties": {
                  "URL": "https://www.opencre.org/cre/862-452",
                  "label": "Operational Security"
                },
                "scale_factor": 1,
                "size": [
                  55,
                  55
                ],
                "styles": {},
                "type": "#FF7F50"
              },
              {
                "color": "#FF7F50",
                "id": "CTL44",
                "label": "ENCODEMODELOUTPUT",
                "position": [
                  0,
                  0
                ],
                "properties": {
                  "URL": "https://owaspai.org/docs/4_runtime_application_security_threats/#encodemodeloutput",
                  "label": "ENCODEMODELOUTPUT"
                },
                "scale_factor": 1,
                "size": [
                  55,
                  55
                ],
                "styles": {},
                "type": "#FF7F50"
              },
              {
                "color": "#FF7F50",
                "id": "CTL45",
                "label": "MODELINPUTCONFIDENTIALITY",
                "position": [
                  0,
                  0
                ],
                "properties": {
                  "URL": "https://owaspai.org/docs/4_runtime_application_security_threats/#modelinputconfidentiality",
                  "label": "MODELINPUTCONFIDENTIALITY"
                },
                "scale_factor": 1,
                "size": [
                  55,
                  55
                ],
                "styles": {},
                "type": "#FF7F50"
              },
              {
                "color": "#FF7F50",
                "id": "CTL46",
                "label": "RUNTIMEMODELINTEGRITY",
                "position": [
                  0,
                  0
                ],
                "properties": {
                  "URL": "https://owaspai.org/docs/4_runtime_application_security_threats/#runtimemodelintegrity",
                  "label": "RUNTIMEMODELINTEGRITY"
                },
                "scale_factor": 1,
                "size": [
                  55,
                  55
                ],
                "styles": {},
                "type": "#FF7F50"
              },
              {
                "color": "#FF7F50",
                "id": "CTL47",
                "label": "RUNTIMEMODELIOINTEGRITY",
                "position": [
                  0,
                  0
                ],
                "properties": {
                  "URL": "https://owaspai.org/docs/4_runtime_application_security_threats/#runtimemodeliointegrity",
                  "label": "RUNTIMEMODELIOINTEGRITY"
                },
                "scale_factor": 1,
                "size": [
                  55,
                  55
                ],
                "styles": {},
                "type": "#FF7F50"
              },
              {
                "color": "#FF7F50",
                "id": "CTL48",
                "label": "Embedded In Model",
                "position": [
                  0,
                  0
                ],
                "properties": {
                  "URL": "https://llmtop10.com/llm01/",
                  "label": "Embedded In Model"
                },
                "scale_factor": 1,
                "size": [
                  55,
                  55
                ],
                "styles": {},
                "type": "#FF7F50"
              },
              {
                "color": "#FF7F50",
                "id": "CTL49",
                "label": "RUNTIMEMODELCONFIDENTIALITY",
                "position": [
                  0,
                  0
                ],
                "properties": {
                  "URL": "https://owaspai.org/docs/4_runtime_application_security_threats/#runtimemodelconfidentiality",
                  "label": "RUNTIMEMODELCONFIDENTIALITY"
                },
                "scale_factor": 1,
                "size": [
                  55,
                  55
                ],
                "styles": {},
                "type": "#FF7F50"
              },
              {
                "color": "#FF7F50",
                "id": "CTL50",
                "label": "MODELOBFUSCATION",
                "position": [
                  0,
                  0
                ],
                "properties": {
                  "URL": "https://owaspai.org/docs/4_runtime_application_security_threats/#modelobfuscation",
                  "label": "MODELOBFUSCATION"
                },
                "scale_factor": 1,
                "size": [
                  55,
                  55
                ],
                "styles": {},
                "type": "#FF7F50"
              },
              {
                "color": "#FF7F50",
                "id": "CTL51",
                "label": "PROMPTINPUTVALIDATION",
                "position": [
                  0,
                  0
                ],
                "properties": {
                  "URL": "https://owaspai.org/docs/4_runtime_application_security_threats/#promptinputvalidation",
                  "label": "PROMPTINPUTVALIDATION"
                },
                "scale_factor": 1,
                "size": [
                  55,
                  55
                ],
                "styles": {},
                "type": "#FF7F50"
              },
              {
                "color": "#FF7F50",
                "id": "CTL52",
                "label": "INPUTSEGREGATION",
                "position": [
                  0,
                  0
                ],
                "properties": {
                  "URL": "https://owaspai.org/docs/4_runtime_application_security_threats/#inputsegregation",
                  "label": "INPUTSEGREGATION"
                },
                "scale_factor": 1,
                "size": [
                  55,
                  55
                ],
                "styles": {},
                "type": "#FF7F50"
              },
              {
                "color": "#00BFFF",
                "id": "CAT1",
                "label": "General Controls",
                "position": [
                  0,
                  0
                ],
                "properties": {
                  "label": "General Controls"
                },
                "scale_factor": 1,
                "size": [
                  55,
                  55
                ],
                "styles": {},
                "type": "#00BFFF"
              },
              {
                "color": "#00BFFF",
                "id": "CAT2",
                "label": "Threats Through Use Controls",
                "position": [
                  0,
                  0
                ],
                "properties": {
                  "label": "Threats Through Use Controls"
                },
                "scale_factor": 1,
                "size": [
                  55,
                  55
                ],
                "styles": {},
                "type": "#00BFFF"
              },
              {
                "color": "#00BFFF",
                "id": "CAT3",
                "label": "Development-time Threat Controls",
                "position": [
                  0,
                  0
                ],
                "properties": {
                  "label": "Development-time Threat Controls"
                },
                "scale_factor": 1,
                "size": [
                  55,
                  55
                ],
                "styles": {},
                "type": "#00BFFF"
              },
              {
                "color": "#00BFFF",
                "id": "CAT4",
                "label": "Runtime Application Security Threats Controls",
                "position": [
                  0,
                  0
                ],
                "properties": {
                  "label": "Runtime Application Security Threats Controls"
                },
                "scale_factor": 1,
                "size": [
                  55,
                  55
                ],
                "styles": {},
                "type": "#00BFFF"
              },
              {
                "color": "#3CB371",
                "id": "GRP1",
                "label": "Governance",
                "position": [
                  0,
                  0
                ],
                "properties": {
                  "color": "#d65749",
                  "label": "Governance"
                },
                "scale_factor": 1,
                "size": [
                  55,
                  55
                ],
                "styles": {},
                "type": "#3CB371"
              },
              {
                "color": "#3CB371",
                "id": "GRP2",
                "label": "Behaviour Integrity",
                "position": [
                  0,
                  0
                ],
                "properties": {
                  "label": "Behaviour Integrity"
                },
                "scale_factor": 1,
                "size": [
                  55,
                  55
                ],
                "styles": {},
                "type": "#3CB371"
              },
              {
                "color": "#3CB371",
                "id": "GRP3",
                "label": "Sensitive Data Limitation",
                "position": [
                  0,
                  0
                ],
                "properties": {
                  "label": "Sensitive Data Limitation"
                },
                "scale_factor": 1,
                "size": [
                  55,
                  55
                ],
                "styles": {},
                "type": "#3CB371"
              },
              {
                "color": "#3CB371",
                "id": "GRP4",
                "label": "Always Against Use Threats",
                "position": [
                  0,
                  0
                ],
                "properties": {
                  "label": "Always Against Use Threats"
                },
                "scale_factor": 1,
                "size": [
                  55,
                  55
                ],
                "styles": {},
                "type": "#3CB371"
              },
              {
                "color": "#3CB371",
                "id": "GRP5",
                "label": "Against Evasion",
                "position": [
                  0,
                  0
                ],
                "properties": {
                  "label": "Against Evasion"
                },
                "scale_factor": 1,
                "size": [
                  55,
                  55
                ],
                "styles": {},
                "type": "#3CB371"
              },
              {
                "color": "#3CB371",
                "id": "GRP6",
                "label": "Against Data Disclosure by Use",
                "position": [
                  0,
                  0
                ],
                "properties": {
                  "label": "Against Data Disclosure by Use"
                },
                "scale_factor": 1,
                "size": [
                  55,
                  55
                ],
                "styles": {},
                "type": "#3CB371"
              },
              {
                "color": "#3CB371",
                "id": "GRP7",
                "label": "Against Data Disclosure by Model",
                "position": [
                  0,
                  0
                ],
                "properties": {
                  "label": "Against Data Disclosure by Model"
                },
                "scale_factor": 1,
                "size": [
                  55,
                  55
                ],
                "styles": {},
                "type": "#3CB371"
              },
              {
                "color": "#3CB371",
                "id": "GRP8",
                "label": "Against Model Inversion and Membership Inference",
                "position": [
                  0,
                  0
                ],
                "properties": {
                  "label": "Against Model Inversion and Membership Inference"
                },
                "scale_factor": 1,
                "size": [
                  55,
                  55
                ],
                "styles": {},
                "type": "#3CB371"
              },
              {
                "color": "#3CB371",
                "id": "GRP9",
                "label": "Against Model Theft by Use",
                "position": [
                  0,
                  0
                ],
                "properties": {
                  "label": "Against Model Theft by Use"
                },
                "scale_factor": 1,
                "size": [
                  55,
                  55
                ],
                "styles": {},
                "type": "#3CB371"
              },
              {
                "color": "#3CB371",
                "id": "GRP10",
                "label": "Against Failure by Use",
                "position": [
                  0,
                  0
                ],
                "properties": {
                  "label": "Against Failure by Use"
                },
                "scale_factor": 1,
                "size": [
                  55,
                  55
                ],
                "styles": {},
                "type": "#3CB371"
              },
              {
                "color": "#3CB371",
                "id": "GRP11",
                "label": "Always Against Dev-Time Threats",
                "position": [
                  0,
                  0
                ],
                "properties": {
                  "label": "Always Against Dev-Time Threats"
                },
                "scale_factor": 1,
                "size": [
                  55,
                  55
                ],
                "styles": {},
                "type": "#3CB371"
              },
              {
                "color": "#3CB371",
                "id": "GRP12",
                "label": "Against Broad Model Poisoning",
                "position": [
                  0,
                  0
                ],
                "properties": {
                  "label": "Against Broad Model Poisoning"
                },
                "scale_factor": 1,
                "size": [
                  55,
                  55
                ],
                "styles": {},
                "type": "#3CB371"
              },
              {
                "color": "#3CB371",
                "id": "GRP13",
                "label": "Against Data Poisoning",
                "position": [
                  0,
                  0
                ],
                "properties": {
                  "label": "Against Data Poisoning"
                },
                "scale_factor": 1,
                "size": [
                  55,
                  55
                ],
                "styles": {},
                "type": "#3CB371"
              },
              {
                "color": "#3CB371",
                "id": "GRP14",
                "label": "Against Dev-Time Model Poisoning",
                "position": [
                  0,
                  0
                ],
                "properties": {
                  "label": "Against Dev-Time Model Poisoning"
                },
                "scale_factor": 1,
                "size": [
                  55,
                  55
                ],
                "styles": {},
                "type": "#3CB371"
              },
              {
                "color": "#3CB371",
                "id": "GRP15",
                "label": "Against Transfer Learning Attacks",
                "position": [
                  0,
                  0
                ],
                "properties": {
                  "label": "Against Transfer Learning Attacks"
                },
                "scale_factor": 1,
                "size": [
                  55,
                  55
                ],
                "styles": {},
                "type": "#3CB371"
              },
              {
                "color": "#3CB371",
                "id": "GRP16",
                "label": "Against Data Leak Dev-Time",
                "position": [
                  0,
                  0
                ],
                "properties": {
                  "label": "Against Data Leak Dev-Time"
                },
                "scale_factor": 1,
                "size": [
                  55,
                  55
                ],
                "styles": {},
                "type": "#3CB371"
              },
              {
                "color": "#3CB371",
                "id": "GRP17",
                "label": "Against Train/Test Data Leak",
                "position": [
                  0,
                  0
                ],
                "properties": {
                  "label": "Against Train/Test Data Leak"
                },
                "scale_factor": 1,
                "size": [
                  55,
                  55
                ],
                "styles": {},
                "type": "#3CB371"
              },
              {
                "color": "#3CB371",
                "id": "GRP18",
                "label": "Against Dev-Time Model Leak",
                "position": [
                  0,
                  0
                ],
                "properties": {
                  "label": "Against Dev-Time Model Leak"
                },
                "scale_factor": 1,
                "size": [
                  55,
                  55
                ],
                "styles": {},
                "type": "#3CB371"
              },
              {
                "color": "#3CB371",
                "id": "GRP19",
                "label": "Against Source Code/Config Leak",
                "position": [
                  0,
                  0
                ],
                "properties": {
                  "label": "Against Source Code/Config Leak"
                },
                "scale_factor": 1,
                "size": [
                  55,
                  55
                ],
                "styles": {},
                "type": "#3CB371"
              },
              {
                "color": "#3CB371",
                "id": "GRP20",
                "label": "Against Non AI-Specific AppSec Threats",
                "position": [
                  0,
                  0
                ],
                "properties": {
                  "label": "Against Non AI-Specific AppSec Threats"
                },
                "scale_factor": 1,
                "size": [
                  55,
                  55
                ],
                "styles": {},
                "type": "#3CB371"
              },
              {
                "color": "#3CB371",
                "id": "GRP21",
                "label": "Against Insecure Output Handling",
                "position": [
                  0,
                  0
                ],
                "properties": {
                  "label": "Against Insecure Output Handling"
                },
                "scale_factor": 1,
                "size": [
                  55,
                  55
                ],
                "styles": {},
                "type": "#3CB371"
              },
              {
                "color": "#3CB371",
                "id": "GRP22",
                "label": "Against Leaking Input Data",
                "position": [
                  0,
                  0
                ],
                "properties": {
                  "label": "Against Leaking Input Data"
                },
                "scale_factor": 1,
                "size": [
                  55,
                  55
                ],
                "styles": {},
                "type": "#3CB371"
              },
              {
                "color": "#3CB371",
                "id": "GRP23",
                "label": "Against Runtime Model Poisoning",
                "position": [
                  0,
                  0
                ],
                "properties": {
                  "label": "Against Runtime Model Poisoning"
                },
                "scale_factor": 1,
                "size": [
                  55,
                  55
                ],
                "styles": {},
                "type": "#3CB371"
              },
              {
                "color": "#3CB371",
                "id": "GRP24",
                "label": "Against Direct Prompt Injection",
                "position": [
                  0,
                  0
                ],
                "properties": {
                  "label": "Against Direct Prompt Injection"
                },
                "scale_factor": 1,
                "size": [
                  55,
                  55
                ],
                "styles": {},
                "type": "#3CB371"
              },
              {
                "color": "#3CB371",
                "id": "GRP25",
                "label": "Against Runtime Model Theft",
                "position": [
                  0,
                  0
                ],
                "properties": {
                  "label": "Against Runtime Model Theft"
                },
                "scale_factor": 1,
                "size": [
                  55,
                  55
                ],
                "styles": {},
                "type": "#3CB371"
              },
              {
                "color": "#3CB371",
                "id": "GRP26",
                "label": "Against Indirect Prompt Injection",
                "position": [
                  0,
                  0
                ],
                "properties": {
                  "label": "Against Indirect Prompt Injection"
                },
                "scale_factor": 1,
                "size": [
                  55,
                  55
                ],
                "styles": {},
                "type": "#3CB371"
              },
              {
                "color": "#DAA520",
                "id": "TYP1",
                "label": "Standard InfoSec Control",
                "position": [
                  0,
                  0
                ],
                "properties": {
                  "label": "Standard InfoSec Control"
                },
                "scale_factor": 1,
                "size": [
                  55,
                  55
                ],
                "styles": {},
                "type": "#DAA520"
              },
              {
                "color": "#DAA520",
                "id": "TYP2",
                "label": "Runtime Data Science Control",
                "position": [
                  0,
                  0
                ],
                "properties": {
                  "label": "Runtime Data Science Control"
                },
                "scale_factor": 1,
                "size": [
                  55,
                  55
                ],
                "styles": {},
                "type": "#DAA520"
              },
              {
                "color": "#DAA520",
                "id": "TYP3",
                "label": "Development-time Data Science Control",
                "position": [
                  0,
                  0
                ],
                "properties": {
                  "label": "Development-time Data Science Control"
                },
                "scale_factor": 1,
                "size": [
                  55,
                  55
                ],
                "styles": {},
                "type": "#DAA520"
              },
              {
                "color": "#DAA520",
                "id": "TYP4",
                "label": "Other Control",
                "position": [
                  0,
                  0
                ],
                "properties": {
                  "label": "Other Control"
                },
                "scale_factor": 1,
                "size": [
                  55,
                  55
                ],
                "styles": {},
                "type": "#DAA520"
              }
            ],
            "_overview": {
              "enabled": null,
              "overview_set": false
            },
            "_selected_graph": [
              [],
              []
            ],
            "_sidebar": {
              "enabled": true,
              "start_with": ""
            },
            "_view_count": null,
            "_view_module": "yfiles-jupyter-graphs",
            "_view_module_version": "^1.6.2",
            "_view_name": "GraphView",
            "layout": "IPY_MODEL_dd2ab1386eb94f48a0523d5fde4678ec"
          }
        },
        "f57966e3c00548788b16a770a0102c50": {
          "model_module": "yfiles-jupyter-graphs",
          "model_module_version": "^1.6.2",
          "model_name": "GraphModel",
          "state": {
            "_context_pane_mapping": [
              {
                "id": "Neighborhood",
                "title": "Neighborhood"
              },
              {
                "id": "Data",
                "title": "Data"
              },
              {
                "id": "Search",
                "title": "Search"
              },
              {
                "id": "About",
                "title": "About"
              }
            ],
            "_data_importer": "unknown",
            "_directed": true,
            "_dom_classes": [],
            "_edges": [
              {
                "color": "#15AFAC",
                "directed": true,
                "end": "CAT1",
                "id": 1,
                "label": "IS_IN_CATEGORY",
                "properties": {
                  "label": "IS_IN_CATEGORY"
                },
                "start": "CTL1",
                "thickness_factor": 1
              },
              {
                "color": "#15AFAC",
                "directed": true,
                "end": "GRP1",
                "id": 2,
                "label": "IS_IN_GROUP",
                "properties": {
                  "label": "IS_IN_GROUP"
                },
                "start": "CTL1",
                "thickness_factor": 1
              },
              {
                "color": "#15AFAC",
                "directed": true,
                "end": "TYP4",
                "id": 3,
                "label": "IS_OF_TYPE",
                "properties": {
                  "label": "IS_OF_TYPE"
                },
                "start": "CTL1",
                "thickness_factor": 1
              },
              {
                "color": "#15AFAC",
                "directed": true,
                "end": "CAT1",
                "id": 4,
                "label": "IS_IN_CATEGORY",
                "properties": {
                  "label": "IS_IN_CATEGORY"
                },
                "start": "CTL2",
                "thickness_factor": 1
              },
              {
                "color": "#15AFAC",
                "directed": true,
                "end": "GRP1",
                "id": 5,
                "label": "IS_IN_GROUP",
                "properties": {
                  "label": "IS_IN_GROUP"
                },
                "start": "CTL2",
                "thickness_factor": 1
              },
              {
                "color": "#15AFAC",
                "directed": true,
                "end": "TYP1",
                "id": 6,
                "label": "IS_OF_TYPE",
                "properties": {
                  "label": "IS_OF_TYPE"
                },
                "start": "CTL2",
                "thickness_factor": 1
              },
              {
                "color": "#15AFAC",
                "directed": true,
                "end": "CAT1",
                "id": 7,
                "label": "IS_IN_CATEGORY",
                "properties": {
                  "label": "IS_IN_CATEGORY"
                },
                "start": "CTL3",
                "thickness_factor": 1
              },
              {
                "color": "#15AFAC",
                "directed": true,
                "end": "GRP1",
                "id": 8,
                "label": "IS_IN_GROUP",
                "properties": {
                  "label": "IS_IN_GROUP"
                },
                "start": "CTL3",
                "thickness_factor": 1
              },
              {
                "color": "#15AFAC",
                "directed": true,
                "end": "TYP1",
                "id": 9,
                "label": "IS_OF_TYPE",
                "properties": {
                  "label": "IS_OF_TYPE"
                },
                "start": "CTL3",
                "thickness_factor": 1
              },
              {
                "color": "#15AFAC",
                "directed": true,
                "end": "CAT1",
                "id": 10,
                "label": "IS_IN_CATEGORY",
                "properties": {
                  "label": "IS_IN_CATEGORY"
                },
                "start": "CTL4",
                "thickness_factor": 1
              },
              {
                "color": "#15AFAC",
                "directed": true,
                "end": "GRP1",
                "id": 11,
                "label": "IS_IN_GROUP",
                "properties": {
                  "label": "IS_IN_GROUP"
                },
                "start": "CTL4",
                "thickness_factor": 1
              },
              {
                "color": "#15AFAC",
                "directed": true,
                "end": "TYP4",
                "id": 12,
                "label": "IS_OF_TYPE",
                "properties": {
                  "label": "IS_OF_TYPE"
                },
                "start": "CTL4",
                "thickness_factor": 1
              },
              {
                "color": "#15AFAC",
                "directed": true,
                "end": "CAT1",
                "id": 13,
                "label": "IS_IN_CATEGORY",
                "properties": {
                  "label": "IS_IN_CATEGORY"
                },
                "start": "CTL5",
                "thickness_factor": 1
              },
              {
                "color": "#15AFAC",
                "directed": true,
                "end": "GRP1",
                "id": 14,
                "label": "IS_IN_GROUP",
                "properties": {
                  "label": "IS_IN_GROUP"
                },
                "start": "CTL5",
                "thickness_factor": 1
              },
              {
                "color": "#15AFAC",
                "directed": true,
                "end": "TYP1",
                "id": 15,
                "label": "IS_OF_TYPE",
                "properties": {
                  "label": "IS_OF_TYPE"
                },
                "start": "CTL5",
                "thickness_factor": 1
              },
              {
                "color": "#15AFAC",
                "directed": true,
                "end": "CAT1",
                "id": 16,
                "label": "IS_IN_CATEGORY",
                "properties": {
                  "label": "IS_IN_CATEGORY"
                },
                "start": "CTL6",
                "thickness_factor": 1
              },
              {
                "color": "#15AFAC",
                "directed": true,
                "end": "GRP1",
                "id": 17,
                "label": "IS_IN_GROUP",
                "properties": {
                  "label": "IS_IN_GROUP"
                },
                "start": "CTL6",
                "thickness_factor": 1
              },
              {
                "color": "#15AFAC",
                "directed": true,
                "end": "TYP1",
                "id": 18,
                "label": "IS_OF_TYPE",
                "properties": {
                  "label": "IS_OF_TYPE"
                },
                "start": "CTL6",
                "thickness_factor": 1
              }
            ],
            "_graph_layout": {},
            "_highlight": [],
            "_license": {},
            "_model_module": "yfiles-jupyter-graphs",
            "_model_module_version": "^1.6.2",
            "_model_name": "GraphModel",
            "_neighborhood": {},
            "_nodes": [
              {
                "color": "#FF7F50",
                "id": "CTL1",
                "label": "AIPROGRAM",
                "position": [
                  0,
                  0
                ],
                "properties": {
                  "URL": "https://owaspai.org/docs/1_general_controls/#aiprogram",
                  "label": "AIPROGRAM"
                },
                "scale_factor": 1,
                "size": [
                  55,
                  55
                ],
                "styles": {},
                "type": "#FF7F50"
              },
              {
                "color": "#FF7F50",
                "id": "CTL2",
                "label": "SECPROGRAM",
                "position": [
                  0,
                  0
                ],
                "properties": {
                  "URL": "https://owaspai.org/docs/1_general_controls/#secprogram",
                  "label": "SECPROGRAM"
                },
                "scale_factor": 1,
                "size": [
                  55,
                  55
                ],
                "styles": {},
                "type": "#FF7F50"
              },
              {
                "color": "#FF7F50",
                "id": "CTL3",
                "label": "SECDEVPROGRAM",
                "position": [
                  0,
                  0
                ],
                "properties": {
                  "URL": "https://owaspai.org/docs/1_general_controls/#secdevprogram",
                  "label": "SECDEVPROGRAM"
                },
                "scale_factor": 1,
                "size": [
                  55,
                  55
                ],
                "styles": {},
                "type": "#FF7F50"
              },
              {
                "color": "#FF7F50",
                "id": "CTL4",
                "label": "DEVPROGRAM",
                "position": [
                  0,
                  0
                ],
                "properties": {
                  "URL": "https://owaspai.org/docs/1_general_controls/#devprogram",
                  "label": "DEVPROGRAM"
                },
                "scale_factor": 1,
                "size": [
                  55,
                  55
                ],
                "styles": {},
                "type": "#FF7F50"
              },
              {
                "color": "#FF7F50",
                "id": "CTL5",
                "label": "CHECKCOMPLIANCE",
                "position": [
                  0,
                  0
                ],
                "properties": {
                  "URL": "https://owaspai.org/docs/1_general_controls/#checkcompliance",
                  "label": "CHECKCOMPLIANCE"
                },
                "scale_factor": 1,
                "size": [
                  55,
                  55
                ],
                "styles": {},
                "type": "#FF7F50"
              },
              {
                "color": "#FF7F50",
                "id": "CTL6",
                "label": "SECEDUCATE",
                "position": [
                  0,
                  0
                ],
                "properties": {
                  "URL": "https://owaspai.org/docs/1_general_controls/#seceducate",
                  "label": "SECEDUCATE"
                },
                "scale_factor": 1,
                "size": [
                  55,
                  55
                ],
                "styles": {},
                "type": "#FF7F50"
              }
            ],
            "_overview": {
              "enabled": null,
              "overview_set": false
            },
            "_selected_graph": [
              [],
              []
            ],
            "_sidebar": {
              "enabled": true,
              "start_with": ""
            },
            "_view_count": null,
            "_view_module": "yfiles-jupyter-graphs",
            "_view_module_version": "^1.6.2",
            "_view_name": "GraphView",
            "layout": "IPY_MODEL_199e51bb71394d2d9fad486ce9a2b5a0"
          }
        }
      }
    }
  },
  "nbformat": 4,
  "nbformat_minor": 5
}
